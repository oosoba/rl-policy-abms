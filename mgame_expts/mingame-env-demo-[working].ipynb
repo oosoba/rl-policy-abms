{
 "cells": [
  {
   "cell_type": "markdown",
   "metadata": {},
   "source": [
    "### Environment: Minority Game\n",
    "#### O. Osoba\n",
    "#### Date: Jan-2019\n",
    "Exploring implementation of minority game with N players. <br> \n",
    "Issues: <br>\n",
    "- Appropriate decomposition of agent<->env<br>\n",
    "- Demo'ing: <br>\n",
    "    - basic minority game\n",
    "    - 1-vs.-(N-1)\n",
    "    - k-vs.-(N-k)\n",
    "    - RF on 1-v-(N-1) mingame\n",
    "- Differences between std agent adaptation and REINFORCE adaptation? <br>"
   ]
  },
  {
   "cell_type": "markdown",
   "metadata": {},
   "source": [
    "## Preamble: Libs + signal def"
   ]
  },
  {
   "cell_type": "code",
   "execution_count": 1,
   "metadata": {},
   "outputs": [
    {
     "name": "stdout",
     "output_type": "stream",
     "text": [
      "Tensorflow version: 1.13.1\n"
     ]
    }
   ],
   "source": [
    "import importlib, sys, warnings\n",
    "\n",
    "import numpy as np\n",
    "import matplotlib.pyplot as plt\n",
    "import seaborn as sns\n",
    "from collections import Counter\n",
    "\n",
    "# ML libs\n",
    "import tensorflow as tf\n",
    "print(\"Tensorflow version:\", tf.__version__)\n",
    "\n",
    "%matplotlib inline\n",
    "plt.style.use('ggplot')\n",
    "plt.rcParams['figure.figsize'] = (18,7)\n",
    "\n",
    "warnings.filterwarnings(\"ignore\")\n",
    "\n",
    "log_path = './log/mingame'\n",
    "#tensorboard --logdir=mingame_worker_1:'./log/train_rf_mingame_worker'"
   ]
  },
  {
   "cell_type": "markdown",
   "metadata": {},
   "source": [
    "## Basic MinGame env"
   ]
  },
  {
   "cell_type": "code",
   "execution_count": null,
   "metadata": {},
   "outputs": [],
   "source": [
    "import minoritygame.minority_base as MGA\n",
    "importlib.reload(MGA)\n",
    "basegame = MGA.MinorityGame(nagents=301, m=2, s=2, mrl=3, p=0.5)\n",
    "print(basegame.step())\n",
    "\n",
    "MGA.repro_fig_1()\n",
    "\n",
    "# acts = basegame.step()[0]\n",
    "# print(acts, np.mean(acts))\n",
    "# Counter(acts).most_common()[-1][0]"
   ]
  },
  {
   "cell_type": "markdown",
   "metadata": {},
   "source": [
    "## 1-vs-(N-1) Mingame Env"
   ]
  },
  {
   "cell_type": "code",
   "execution_count": null,
   "metadata": {},
   "outputs": [],
   "source": [
    "import minoritygame.minority_env as MGE\n",
    "importlib.reload(MGE) \n",
    "\n",
    "mingame = MGE.MinorityGame1vN_env(nagents=33, m=3, s=4)"
   ]
  },
  {
   "cell_type": "code",
   "execution_count": null,
   "metadata": {},
   "outputs": [],
   "source": [
    "tmp = mingame.stepAll()\n",
    "print(Counter(tmp[1]).most_common()[-1][0], tmp[-1])\n",
    "print(tmp)"
   ]
  },
  {
   "cell_type": "markdown",
   "metadata": {},
   "source": [
    "## k-vs-(N-k) Mingame Env"
   ]
  },
  {
   "cell_type": "code",
   "execution_count": 47,
   "metadata": {},
   "outputs": [
    {
     "name": "stdout",
     "output_type": "stream",
     "text": [
      "16 [10, 11, 12, 13, 17, 19, 22, 24, 25, 28, 29, 32, 36, 37, 38, 50]\n",
      "000 [0. 0. 0.] [0. 0. 0.]\n"
     ]
    }
   ],
   "source": [
    "import minoritygame.minority_multienv as MGME\n",
    "importlib.reload(MGME) \n",
    "\n",
    "## Init\n",
    "n_ag = 51\n",
    "exos = (np.random.sample(n_ag) < 0.3)\n",
    "n_rl = np.sum(exos)\n",
    "multmingame = MGME.MinorityGame_Multiagent_env(\n",
    "    nagents=n_ag, m=3, s=4, exo_actorsQ=exos\n",
    ")\n",
    "print(multmingame.actor_count, multmingame.actor_index)\n",
    "\n",
    "# print(list(zip(range(multmingame.nagents), multmingame.actor_exoQ)))\n",
    "print(multmingame.h, multmingame.state, multmingame.get_state())"
   ]
  },
  {
   "cell_type": "code",
   "execution_count": 22,
   "metadata": {},
   "outputs": [
    {
     "name": "stdout",
     "output_type": "stream",
     "text": [
      "110 0\n",
      "100 0\n",
      "001 1\n",
      "011 1\n",
      "110 0\n"
     ]
    }
   ],
   "source": [
    "# Test sub-functions\n",
    "for _ in range(5):\n",
    "    tmp = multmingame.stepAll()\n",
    "    print(multmingame.h, tmp[-1])\n",
    "## stepAll returns (s_{t+1}, a_t, winning_side)"
   ]
  },
  {
   "cell_type": "code",
   "execution_count": 27,
   "metadata": {},
   "outputs": [
    {
     "name": "stdout",
     "output_type": "stream",
     "text": [
      "111 [0 0 0 1 0 1 0 0 1 0 0 1]\n",
      "111 [0. 0. 0. 1. 0. 1. 0. 0. 1. 0. 0. 1.]\n",
      "111 [0 0 1 1 1 1 1 1 0 0 0 0]\n",
      "111 [0. 0. 1. 1. 1. 1. 1. 1. 0. 0. 0. 0.]\n",
      "110 [0 1 0 1 1 1 0 1 0 1 0 1]\n",
      "110 [1. 0. 1. 0. 0. 0. 1. 0. 1. 0. 1. 0.]\n",
      "100 [1 0 1 0 0 1 1 0 1 0 1 1]\n",
      "100 [0. 1. 0. 1. 1. 0. 0. 1. 0. 1. 0. 0.]\n",
      "001 [1 0 1 0 1 0 1 0 0 0 0 0]\n",
      "001 [1. 0. 1. 0. 1. 0. 1. 0. 0. 0. 0. 0.]\n"
     ]
    }
   ],
   "source": [
    "for _ in range(5):\n",
    "    acts = 1*(np.random.random(multmingame.actor_count)>0.5)\n",
    "    tmp2 = multmingame.step(action_list=acts)\n",
    "    print(multmingame.h, acts)\n",
    "    print(multmingame.h, tmp2[1])\n",
    "\n",
    "## step returns (s_{t+1}, r_t, **flags)\n",
    "## r_t is *not* the same as flag for winning side (see stepAll return values)"
   ]
  },
  {
   "cell_type": "markdown",
   "metadata": {},
   "source": [
    "## RF on 1-vs-(N-1) Mingame Env"
   ]
  },
  {
   "cell_type": "code",
   "execution_count": 2,
   "metadata": {},
   "outputs": [
    {
     "name": "stdout",
     "output_type": "stream",
     "text": [
      "\n",
      "WARNING: The TensorFlow contrib module will not be included in TensorFlow 2.0.\n",
      "For more information, please see:\n",
      "  * https://github.com/tensorflow/community/blob/master/rfcs/20180907-contrib-sunset.md\n",
      "  * https://github.com/tensorflow/addons\n",
      "If you depend on functionality not listed there, please file an issue.\n",
      "\n",
      "WARNING:tensorflow:From /miniconda3/lib/python3.6/site-packages/tensorflow/contrib/layers/python/layers/layers.py:1624: flatten (from tensorflow.python.layers.core) is deprecated and will be removed in a future version.\n",
      "Instructions for updating:\n",
      "Use keras.layers.flatten instead.\n",
      "WARNING:tensorflow:From /miniconda3/lib/python3.6/site-packages/tensorflow/python/framework/op_def_library.py:263: colocate_with (from tensorflow.python.framework.ops) is deprecated and will be removed in a future version.\n",
      "Instructions for updating:\n",
      "Colocations handled automatically by placer.\n",
      "3 1\n"
     ]
    }
   ],
   "source": [
    "import sys, importlib, warnings\n",
    "sys.path.append('./embodied_arch')\n",
    "warnings.filterwarnings(\"ignore\")\n",
    "\n",
    "import minoritygame.minority_env as MGE\n",
    "import tensorflow as tf\n",
    "import embodied as emg\n",
    "\n",
    "importlib.reload(MGE)\n",
    "importlib.reload(emg)\n",
    "\n",
    "tf.reset_default_graph()\n",
    "menv = MGE.MinorityGame1vN_env(nagents=301, m=2, s=2, mrl=3, p=0.5)\n",
    "embrf = emg.EmbodiedAgentRF(\n",
    "    name=\"mgRF\",\n",
    "    env_=menv,\n",
    "    alpha=1.,\n",
    ")\n",
    "embrf.max_episode_length = 151  # dangerous... may incentivize finite n behavior\n",
    "print(menv.state_space_size, menv.action_space_size)"
   ]
  },
  {
   "cell_type": "code",
   "execution_count": 3,
   "metadata": {},
   "outputs": [
    {
     "name": "stdout",
     "output_type": "stream",
     "text": [
      "<embodied.EmbodiedAgentRF object at 0x1a41856e80> 3 1\n",
      "Tensorboard logs in:  ./log/train_mgRF\n",
      "10 110\n",
      "[1 1 0] 0.0\n",
      "66.0\n"
     ]
    }
   ],
   "source": [
    "num_episodes = 150\n",
    "n_epochs = 1001\n",
    "\n",
    "print(embrf, embrf.s_size, embrf.a_size)\n",
    "\n",
    "sess = tf.InteractiveSession()\n",
    "embrf.init_graph(sess) # note tboard log dir\n",
    "\n",
    "## Verify step + play set up\n",
    "state = embrf.env.reset()\n",
    "print(embrf.env.h, embrf.env.hrl)\n",
    "print(state, embrf.act(state, sess))\n",
    "\n",
    "\n",
    "embrf.env.step(embrf.act(state, sess))\n",
    "embrf.play(sess)\n",
    "print(embrf.last_total_return)"
   ]
  },
  {
   "cell_type": "code",
   "execution_count": 25,
   "metadata": {},
   "outputs": [
    {
     "name": "stdout",
     "output_type": "stream",
     "text": [
      "[({'00': 0, '01': 0, '10': 0, '11': 0}, 576.0), ({'00': 0, '01': 0, '10': 0, '11': 0}, 576.0)]\n",
      "[({'00': 0, '01': 0, '10': 0, '11': 0}, 826.0), ({'00': 0, '01': 0, '10': 0, '11': 0}, 826.0)]\n"
     ]
    }
   ],
   "source": [
    "print(list(zip(embrf.env.agents[100].strategies, embrf.env.agents[100].vpoints)))\n",
    "state = embrf.env.reset()\n",
    "print(list(zip(embrf.env.agents[100].strategies, embrf.env.agents[100].vpoints)))"
   ]
  },
  {
   "cell_type": "code",
   "execution_count": 5,
   "metadata": {},
   "outputs": [
    {
     "name": "stdout",
     "output_type": "stream",
     "text": [
      "896 µs ± 105 µs per loop (mean ± std. dev. of 50 runs, 1000 loops each)\n"
     ]
    }
   ],
   "source": [
    "%%timeit -r 50\n",
    "embrf.act(state, sess)\n",
    "## old: 330 ms ± 9.08 ms per loop (mean ± std. dev. of 50 runs, 1 loop each)\n",
    "## new: 845 µs ± 109 µs per loop (mean ± std. dev. of 50 runs, 1000 loops each)\n",
    "# BALLER!!!"
   ]
  },
  {
   "cell_type": "code",
   "execution_count": 6,
   "metadata": {},
   "outputs": [
    {
     "data": {
      "text/plain": [
       "\u001b[0;31mSignature:\u001b[0m \u001b[0membrf\u001b[0m\u001b[0;34m.\u001b[0m\u001b[0mact\u001b[0m\u001b[0;34m(\u001b[0m\u001b[0mstate\u001b[0m\u001b[0;34m,\u001b[0m \u001b[0msess\u001b[0m\u001b[0;34m)\u001b[0m\u001b[0;34m\u001b[0m\u001b[0;34m\u001b[0m\u001b[0m\n",
       "\u001b[0;31mSource:\u001b[0m   \n",
       "    \u001b[0;32mdef\u001b[0m \u001b[0mact\u001b[0m\u001b[0;34m(\u001b[0m\u001b[0mself\u001b[0m\u001b[0;34m,\u001b[0m \u001b[0mstate\u001b[0m\u001b[0;34m,\u001b[0m \u001b[0msess\u001b[0m\u001b[0;34m)\u001b[0m\u001b[0;34m:\u001b[0m\u001b[0;34m\u001b[0m\n",
       "\u001b[0;34m\u001b[0m        \u001b[0;34m\"\"\"Returns policy net sample action (in {0,1})\"\"\"\u001b[0m\u001b[0;34m\u001b[0m\n",
       "\u001b[0;34m\u001b[0m        \u001b[0;31m# a_t = sess.run(\u001b[0m\u001b[0;34m\u001b[0m\n",
       "\u001b[0;34m\u001b[0m        \u001b[0;31m#   self.action_dist.sample(),\u001b[0m\u001b[0;34m\u001b[0m\n",
       "\u001b[0;34m\u001b[0m        \u001b[0;31m#   feed_dict={self.states_St: np.expand_dims(state.flatten(), axis=0)}\u001b[0m\u001b[0;34m\u001b[0m\n",
       "\u001b[0;34m\u001b[0m        \u001b[0;31m# )\u001b[0m\u001b[0;34m\u001b[0m\n",
       "\u001b[0;34m\u001b[0m        \u001b[0;31m# return np.array(a_t).squeeze()\u001b[0m\u001b[0;34m\u001b[0m\n",
       "\u001b[0;34m\u001b[0m        \u001b[0mprobs\u001b[0m \u001b[0;34m=\u001b[0m \u001b[0msess\u001b[0m\u001b[0;34m.\u001b[0m\u001b[0mrun\u001b[0m\u001b[0;34m(\u001b[0m\u001b[0mself\u001b[0m\u001b[0;34m.\u001b[0m\u001b[0mapnprobs\u001b[0m\u001b[0;34m,\u001b[0m \u001b[0;34m{\u001b[0m\u001b[0mself\u001b[0m\u001b[0;34m.\u001b[0m\u001b[0mstates_St\u001b[0m\u001b[0;34m:\u001b[0m \u001b[0mnp\u001b[0m\u001b[0;34m.\u001b[0m\u001b[0mexpand_dims\u001b[0m\u001b[0;34m(\u001b[0m\u001b[0mstate\u001b[0m\u001b[0;34m.\u001b[0m\u001b[0mflatten\u001b[0m\u001b[0;34m(\u001b[0m\u001b[0;34m)\u001b[0m\u001b[0;34m,\u001b[0m \u001b[0maxis\u001b[0m\u001b[0;34m=\u001b[0m\u001b[0;36m0\u001b[0m\u001b[0;34m)\u001b[0m\u001b[0;34m}\u001b[0m\u001b[0;34m)\u001b[0m\u001b[0;34m\u001b[0m\n",
       "\u001b[0;34m\u001b[0m        \u001b[0ma_t\u001b[0m \u001b[0;34m=\u001b[0m \u001b[0;36m1.\u001b[0m\u001b[0;34m*\u001b[0m\u001b[0;34m(\u001b[0m\u001b[0mnp\u001b[0m\u001b[0;34m.\u001b[0m\u001b[0mrandom\u001b[0m\u001b[0;34m.\u001b[0m\u001b[0mrand\u001b[0m\u001b[0;34m(\u001b[0m\u001b[0;34m)\u001b[0m \u001b[0;34m<\u001b[0m \u001b[0mprobs\u001b[0m\u001b[0;34m)\u001b[0m\u001b[0;34m\u001b[0m\n",
       "\u001b[0;34m\u001b[0m        \u001b[0;31m# a_t = np.array([[1]]) if np.random.random() < probs else np.array([[0]])\u001b[0m\u001b[0;34m\u001b[0m\n",
       "\u001b[0;34m\u001b[0m        \u001b[0;32mreturn\u001b[0m \u001b[0ma_t\u001b[0m\u001b[0;34m.\u001b[0m\u001b[0msqueeze\u001b[0m\u001b[0;34m(\u001b[0m\u001b[0;34m)\u001b[0m\u001b[0;34m\u001b[0m\u001b[0;34m\u001b[0m\u001b[0m\n",
       "\u001b[0;31mFile:\u001b[0m      ~/Documents/RAND/Coding/multiagent-ABM/embodied_arch/embodied.py\n",
       "\u001b[0;31mType:\u001b[0m      method\n"
      ]
     },
     "metadata": {},
     "output_type": "display_data"
    }
   ],
   "source": [
    "??embrf.act"
   ]
  },
  {
   "cell_type": "code",
   "execution_count": 4,
   "metadata": {},
   "outputs": [
    {
     "name": "stdout",
     "output_type": "stream",
     "text": [
      "Baselining untrained pnet...\n",
      "Episode 120/150\n",
      "Agent wins an average of 50.34437086092716 pct\n"
     ]
    },
    {
     "data": {
      "text/plain": [
       "<matplotlib.axes._subplots.AxesSubplot at 0x1c456df4a8>"
      ]
     },
     "execution_count": 4,
     "metadata": {},
     "output_type": "execute_result"
    },
    {
     "data": {
      "image/png": "[encoded data removed]",
      "text/plain": [
       "<Figure size 432x288 with 1 Axes>"
      ]
     },
     "metadata": {
      "needs_background": "light"
     },
     "output_type": "display_data"
    }
   ],
   "source": [
    "# ### Pre-test Agent\n",
    "print('Baselining untrained pnet...', flush=True)\n",
    "rwd_mg0 = []\n",
    "for k in range(num_episodes):\n",
    "    embrf.play(sess)\n",
    "    rwd_mg0.append(float(embrf.last_total_return)/embrf.max_episode_length)\n",
    "    if k%int(num_episodes/5) == 0: print(\"\\rEpisode {}/{}\".format(k, num_episodes),end=\"\")\n",
    "base_perf_mg = np.mean(rwd_mg0)\n",
    "print(\"\\nAgent wins an average of {} pct\".format(100.0*base_perf_mg), flush=True)\n",
    "\n",
    "sns.boxplot(rwd_mg0)"
   ]
  },
  {
   "cell_type": "code",
   "execution_count": 5,
   "metadata": {},
   "outputs": [
    {
     "name": "stdout",
     "output_type": "stream",
     "text": [
      "Training...\n",
      "Starting agent mgRF\n",
      "Epoch no.: 0/1001\n",
      "Step 0: Stats(['Perf/Recent Reward', 'Losses/Policy LL', 'Losses/Entropy']): ( [72.0, -0.6930598, 0.69313437] )\n",
      "Saved Model\n",
      "Epoch no.: 500/1001\n",
      "Step 500: Stats(['Perf/Recent Reward', 'Losses/Policy LL', 'Losses/Entropy']): ( [83.0, -0.69532406, 0.69282347] )\n",
      "WARNING:tensorflow:From /miniconda3/lib/python3.6/site-packages/tensorflow/python/training/saver.py:966: remove_checkpoint (from tensorflow.python.training.checkpoint_management) is deprecated and will be removed in a future version.\n",
      "Instructions for updating:\n",
      "Use standard file APIs to delete files with this prefix.\n",
      "Saved Model\n",
      "Epoch no.: 1000/1001\n",
      "Step 1000: Stats(['Perf/Recent Reward', 'Losses/Policy LL', 'Losses/Entropy']): ( [81.0, -0.6928066, 0.69311506] )\n",
      "Saved Model\n"
     ]
    }
   ],
   "source": [
    "# ### Train Agent w/ Algo on Experience Tuples\n",
    "# Train pnet on mingame episodes\n",
    "print('Training...')\n",
    "saver = tf.train.Saver(max_to_keep=1)\n",
    "embrf.work(sess, saver, num_epochs=n_epochs)  # n_epochs)"
   ]
  },
  {
   "cell_type": "code",
   "execution_count": 7,
   "metadata": {},
   "outputs": [
    {
     "name": "stdout",
     "output_type": "stream",
     "text": [
      "Testing...\n",
      "Episode 120/150\n",
      "Agent wins an average of 50.984547461368656 pct \n",
      "compared to baseline of 50.34437086092716 pct\n"
     ]
    }
   ],
   "source": [
    "# ### Post-test Agent# Test pnet!\n",
    "print('Testing...', flush=True)\n",
    "rwd_mg = []\n",
    "for k in range(num_episodes):\n",
    "    embrf.play(sess)\n",
    "    rwd_mg.append(float(embrf.last_total_return)/embrf.max_episode_length)\n",
    "    if k%int(num_episodes/5) == 0: print(\"\\rEpisode {}/{}\".format(k, num_episodes),end=\"\")\n",
    "trained_perf_mg = np.mean(rwd_mg)\n",
    "print(\"\\nAgent wins an average of {} pct \\ncompared to baseline of {} pct\".format(\n",
    "    100*trained_perf_mg, 100*base_perf_mg), flush=True )"
   ]
  },
  {
   "cell_type": "code",
   "execution_count": 8,
   "metadata": {},
   "outputs": [
    {
     "data": {
      "image/png": "[encoded data removed]",
      "text/plain": [
       "<Figure size 432x288 with 2 Axes>"
      ]
     },
     "metadata": {
      "needs_background": "light"
     },
     "output_type": "display_data"
    }
   ],
   "source": [
    "import seaborn as sns\n",
    "fig, axs = plt.subplots(2, 1, sharex=True)\n",
    "sns.boxplot(rwd_mg0, ax = axs[0])\n",
    "axs[0].set_title('Baseline Mean Success Percentage')\n",
    "sns.boxplot(rwd_mg, ax = axs[1])\n",
    "axs[1].set_title('Trained Mean Success Percentage')\n",
    "\n",
    "sess.close()"
   ]
  },
  {
   "cell_type": "code",
   "execution_count": 9,
   "metadata": {},
   "outputs": [
    {
     "data": {
      "text/plain": [
       "(array([ 5.,  3., 18., 22., 32., 43., 13.,  8.,  1.,  5.]),\n",
       " array([0.41059603, 0.43178808, 0.45298013, 0.47417219, 0.49536424,\n",
       "        0.51655629, 0.53774834, 0.5589404 , 0.58013245, 0.6013245 ,\n",
       "        0.62251656]),\n",
       " <a list of 10 Patch objects>)"
      ]
     },
     "execution_count": 9,
     "metadata": {},
     "output_type": "execute_result"
    },
    {
     "data": {
      "image/png": "[encoded data removed]",
      "text/plain": [
       "<Figure size 432x288 with 1 Axes>"
      ]
     },
     "metadata": {
      "needs_background": "light"
     },
     "output_type": "display_data"
    }
   ],
   "source": [
    "plt.hist(rwd_mg0)\n",
    "plt.hist(rwd_mg)"
   ]
  },
  {
   "cell_type": "code",
   "execution_count": 19,
   "metadata": {},
   "outputs": [
    {
     "data": {
      "text/plain": [
       "array([1, 1, 0, 1, 1, 0, 1, 1, 0, 0])"
      ]
     },
     "execution_count": 19,
     "metadata": {},
     "output_type": "execute_result"
    }
   ],
   "source": [
    "from scipy.stats import bernoulli\n",
    "bernoulli.rvs(0.5, size=10)"
   ]
  }
 ],
 "metadata": {
  "kernelspec": {
   "display_name": "Python 3",
   "language": "python",
   "name": "python3"
  },
  "language_info": {
   "codemirror_mode": {
    "name": "ipython",
    "version": 3
   },
   "file_extension": ".py",
   "mimetype": "text/x-python",
   "name": "python",
   "nbconvert_exporter": "python",
   "pygments_lexer": "ipython3",
   "version": "3.6.8"
  }
 },
 "nbformat": 4,
 "nbformat_minor": 2
}
