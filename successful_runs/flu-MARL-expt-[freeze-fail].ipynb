{
 "cells": [
  {
   "cell_type": "markdown",
   "metadata": {},
   "source": [
    "## k-vs-(N-k) Flu ABM Env\n",
    "Kicking tires on multiplayer instance of Flu ABM with RL learners "
   ]
  },
  {
   "cell_type": "code",
   "execution_count": 1,
   "metadata": {},
   "outputs": [
    {
     "name": "stdout",
     "output_type": "stream",
     "text": [
      "Tensorflow version: 1.13.1\n"
     ]
    }
   ],
   "source": [
    "import itertools, importlib, sys, warnings\n",
    "import numpy as np\n",
    "import pandas as pd\n",
    "import matplotlib.pyplot as plt\n",
    "import seaborn as sns\n",
    "\n",
    "# ML libs\n",
    "import tensorflow as tf\n",
    "print(\"Tensorflow version:\", tf.__version__)\n",
    "# warnings.filterwarnings(\"ignore\")\n",
    "# %matplotlib inline\n",
    "# plt.rcParams['figure.figsize'] = (18,7)\n",
    "\n",
    "log_path = './log/flu'\n",
    "#tensorboard --logdir=flugame_worker_1:'./log/train_rf_flugame_worker' "
   ]
  },
  {
   "cell_type": "code",
   "execution_count": 2,
   "metadata": {},
   "outputs": [
    {
     "name": "stderr",
     "output_type": "stream",
     "text": [
      "/miniconda3/lib/python3.6/site-packages/gym/envs/registration.py:14: PkgResourcesDeprecationWarning: Parameters to load are deprecated.  Call .resolve and .require separately.\n",
      "  result = entry_point.load(False)\n",
      "/Users/oosoba/Documents/RAND/Coding/multiagent-ABM/flumodel_python/flu_env_basic.py:43: FutureWarning: from_items is deprecated. Please use DataFrame.from_dict(dict(items), ...) instead. DataFrame.from_dict(OrderedDict(items)) may be used to preserve the key order.\n",
      "  columns=['HCW', 'adaptive', 'vacc.attitude']\n",
      "/Users/oosoba/Documents/RAND/Coding/multiagent-ABM/flumodel_python/flu_env.py:20: FutureWarning: from_items is deprecated. Please use DataFrame.from_dict(dict(items), ...) instead. DataFrame.from_dict(OrderedDict(items)) may be used to preserve the key order.\n",
      "  columns=['HCW', 'adaptive', 'vacc.attitude']\n"
     ]
    }
   ],
   "source": [
    "sys.path.append('./embodied_arch')\n",
    "\n",
    "import embodied as emg\n",
    "import embodied_indep as emi \n",
    "import flumodel_python.flu_env as Fenv\n",
    "from embodied_misc import ActionPolicyNetwork, SensoriumNetworkTemplate"
   ]
  },
  {
   "cell_type": "markdown",
   "metadata": {},
   "source": [
    "## Env Setup"
   ]
  },
  {
   "cell_type": "code",
   "execution_count": 3,
   "metadata": {},
   "outputs": [],
   "source": [
    "exos = [1,2,3,10]  # (np.random.sample(33) < 0.3)\n",
    "\n",
    "importlib.reload(Fenv);\n",
    "importlib.reload(emg);\n",
    "importlib.reload(emi);\n",
    "\n",
    "# ?Fenv.Flu_env"
   ]
  },
  {
   "cell_type": "code",
   "execution_count": 4,
   "metadata": {},
   "outputs": [
    {
     "name": "stderr",
     "output_type": "stream",
     "text": [
      "/miniconda3/lib/python3.6/site-packages/pandas/core/indexing.py:190: SettingWithCopyWarning: \n",
      "A value is trying to be set on a copy of a slice from a DataFrame\n",
      "\n",
      "See the caveats in the documentation: http://pandas.pydata.org/pandas-docs/stable/indexing.html#indexing-view-versus-copy\n",
      "  self._setitem_with_indexer(indexer, value)\n"
     ]
    }
   ],
   "source": [
    "tf.reset_default_graph()\n",
    "flu_menv = Fenv.Flu_env(\n",
    "    exo_idx=exos,\n",
    "    model_path=\"./flumodel_python/\"\n",
    ")"
   ]
  },
  {
   "cell_type": "code",
   "execution_count": 5,
   "metadata": {},
   "outputs": [
    {
     "name": "stdout",
     "output_type": "stream",
     "text": [
      "4\n",
      "12 1\n"
     ]
    }
   ],
   "source": [
    "print(flu_menv.actor_count)\n",
    "print(flu_menv.state_space_size, flu_menv.action_space_size)"
   ]
  },
  {
   "cell_type": "markdown",
   "metadata": {},
   "source": [
    "### MARL Setup Demo"
   ]
  },
  {
   "cell_type": "code",
   "execution_count": 6,
   "metadata": {},
   "outputs": [],
   "source": [
    "actor = lambda s: ActionPolicyNetwork(s, hSeq=(8,), gamma_reg=1e-1)\n",
    "sensor = lambda st, out_dim: SensoriumNetworkTemplate(st, hSeq=(16,8,), out_dim=out_dim, gamma_reg=5.)\n",
    "\n",
    "# num_episodes, n_epochs, max_len = (5, 4, 5)\n",
    "num_episodes, n_epochs, max_len = (10, 400, 25)"
   ]
  },
  {
   "cell_type": "code",
   "execution_count": 7,
   "metadata": {},
   "outputs": [
    {
     "name": "stdout",
     "output_type": "stream",
     "text": [
      "WARNING:tensorflow:From /miniconda3/lib/python3.6/site-packages/tensorflow/contrib/layers/python/layers/layers.py:1624: flatten (from tensorflow.python.layers.core) is deprecated and will be removed in a future version.\n",
      "Instructions for updating:\n",
      "Use keras.layers.flatten instead.\n",
      "WARNING:tensorflow:From /miniconda3/lib/python3.6/site-packages/tensorflow/python/framework/op_def_library.py:263: colocate_with (from tensorflow.python.framework.ops) is deprecated and will be removed in a future version.\n",
      "Instructions for updating:\n",
      "Colocations handled automatically by placer.\n"
     ]
    },
    {
     "data": {
      "text/plain": [
       "(1, 1)"
      ]
     },
     "execution_count": 7,
     "metadata": {},
     "output_type": "execute_result"
    }
   ],
   "source": [
    "flumrf = emi.EmbodiedAgent_IRFB(\n",
    "    name=\"flu_mRFB\",\n",
    "    env_=flu_menv,\n",
    "    alpha_p=5e3, alpha_v=5e2,\n",
    "    max_episode_length=max_len,\n",
    "    latentDim=4, \n",
    "    actorNN=actor, sensorium=sensor\n",
    ")\n",
    "# ??flumrf.play\n",
    "(flumrf.a_size, flumrf.env.action_space_size)"
   ]
  },
  {
   "cell_type": "code",
   "execution_count": 8,
   "metadata": {},
   "outputs": [
    {
     "name": "stdout",
     "output_type": "stream",
     "text": [
      "Tensorboard logs in:  ./log/train_flu_mRFB\n"
     ]
    }
   ],
   "source": [
    "sess = tf.InteractiveSession()\n",
    "flumrf.init_graph(sess) # note tboard log dir\n",
    "saver = tf.train.Saver(max_to_keep=1) "
   ]
  },
  {
   "cell_type": "markdown",
   "metadata": {},
   "source": [
    "## Baseline"
   ]
  },
  {
   "cell_type": "code",
   "execution_count": 9,
   "metadata": {},
   "outputs": [
    {
     "name": "stdout",
     "output_type": "stream",
     "text": [
      "Baselining untrained pnet...\n",
      "Episode 0/10\n",
      "Agent is flu-free for an average of 2260.0pct of seasons\n"
     ]
    }
   ],
   "source": [
    "print('Baselining untrained pnet...')\n",
    "rwds0 = []\n",
    "for k in range(num_episodes):\n",
    "    flumrf.play(sess, terminal_reward=0.);\n",
    "    rwds0.append(flumrf.last_total_returns)\n",
    "    if k%20 == 0: print(\"\\rEpisode {}/{}\".format(k, num_episodes),end=\"\")\n",
    "base_perf = np.mean(rwds0)\n",
    "print(\"\\nAgent is flu-free for an average of {}pct of seasons\".format(100.*base_perf))\n",
    "\n",
    "base_per_agent = np.mean(np.array(rwds0)/float(flumrf.max_episode_length), axis=0)"
   ]
  },
  {
   "cell_type": "code",
   "execution_count": 10,
   "metadata": {},
   "outputs": [],
   "source": [
    "st = flumrf.env.reset()"
   ]
  },
  {
   "cell_type": "markdown",
   "metadata": {},
   "source": [
    "## Train Agent Population"
   ]
  },
  {
   "cell_type": "code",
   "execution_count": 11,
   "metadata": {},
   "outputs": [
    {
     "name": "stdout",
     "output_type": "stream",
     "text": [
      "Training...\n",
      "Starting agent flu_mRFB\n",
      "Epoch no.: 0/400\n",
      "\n",
      "\tStats @Step 0: \t(Min, Mean, Max)\n",
      "Perf/Recent Rewards: (22.0, 23.5, 25.0)\n",
      "Losses/Policy LLs: (-7.0447245, -1.245924, -0.0010796713)\n",
      "Losses/Critic Scores: (0.41931838, 4.800447, 16.665392)\n",
      "Losses/Policy Entropies: (0.01, 0.41457543, 0.69228905)\n",
      "Saved Model\n",
      "Epoch no.: 100/400\n",
      "\n",
      "\tStats @Step 100: \t(Min, Mean, Max)\n",
      "Perf/Recent Rewards: (22.0, 23.75, 25.0)\n",
      "Losses/Policy LLs: (-4.2649093, -0.32924187, -0.0012875671)\n",
      "Losses/Critic Scores: (10.490915, 11.349155, 12.360098)\n",
      "Losses/Policy Entropies: (0.01, 0.29661378, 0.68900746)\n",
      "WARNING:tensorflow:From /miniconda3/lib/python3.6/site-packages/tensorflow/python/training/saver.py:966: remove_checkpoint (from tensorflow.python.training.checkpoint_management) is deprecated and will be removed in a future version.\n",
      "Instructions for updating:\n",
      "Use standard file APIs to delete files with this prefix.\n",
      "Saved Model\n",
      "Epoch no.: 200/400\n",
      "\n",
      "\tStats @Step 200: \t(Min, Mean, Max)\n",
      "Perf/Recent Rewards: (22.0, 23.25, 25.0)\n",
      "Losses/Policy LLs: (-2.6921206, -0.25774816, -0.0003013527)\n",
      "Losses/Critic Scores: (9.845358, 11.351106, 12.222357)\n",
      "Losses/Policy Entropies: (0.01, 0.2626999, 0.6931416)\n",
      "Saved Model\n",
      "Epoch no.: 300/400\n",
      "\n",
      "\tStats @Step 300: \t(Min, Mean, Max)\n",
      "Perf/Recent Rewards: (22.0, 22.5, 24.0)\n",
      "Losses/Policy LLs: (-2.7726107, -0.28132218, -0.0019602887)\n",
      "Losses/Critic Scores: (9.904172, 10.586182, 11.481564)\n",
      "Losses/Policy Entropies: (0.014168149, 0.27711806, 0.69301236)\n",
      "Saved Model\n",
      "Epoch no.: 399/400"
     ]
    }
   ],
   "source": [
    "# ### Train Agents\n",
    "print('Training...')\n",
    "flumrf.work(sess, num_epochs=n_epochs, saver=saver)"
   ]
  },
  {
   "cell_type": "markdown",
   "metadata": {},
   "source": [
    "## Test"
   ]
  },
  {
   "cell_type": "code",
   "execution_count": 12,
   "metadata": {},
   "outputs": [
    {
     "name": "stdout",
     "output_type": "stream",
     "text": [
      "Testing...\n",
      "Episode 8/10\n",
      "Agent is flu-free for an average of 92.4 pct compared to baseline of 2260.0 pct\n"
     ]
    }
   ],
   "source": [
    "# Test pnet!\n",
    "print('Testing...')\n",
    "rwds = []\n",
    "for k in range(num_episodes):\n",
    "    flumrf.play(sess)\n",
    "    rwds.append(flumrf.last_total_returns)\n",
    "    if k%int(num_episodes/5) == 0: print(\"\\rEpisode {}/{}\".format(k, num_episodes),end=\"\")\n",
    "trained_perf = np.mean(np.array(rwds)/float(flumrf.max_episode_length))\n",
    "print(\"\\nAgent is flu-free for an average of {} pct compared to baseline of {} pct\".format(\n",
    "    100*trained_perf, 100*base_perf) )\n",
    "\n",
    "trained_per_agent = np.mean(np.array(rwds)/float(flumrf.max_episode_length), axis=0)"
   ]
  },
  {
   "cell_type": "markdown",
   "metadata": {},
   "source": [
    "## Evaluate"
   ]
  },
  {
   "cell_type": "code",
   "execution_count": 15,
   "metadata": {},
   "outputs": [
    {
     "data": {
      "text/plain": [
       "Text(0.5, 1.0, 'Trained Episode Rewards')"
      ]
     },
     "execution_count": 15,
     "metadata": {},
     "output_type": "execute_result"
    },
    {
     "data": {
      "image/png": "[encoded data removed]",
      "text/plain": [
       "<Figure size 432x288 with 2 Axes>"
      ]
     },
     "metadata": {
      "needs_background": "light"
     },
     "output_type": "display_data"
    }
   ],
   "source": [
    "fig, axs = plt.subplots(2, 1, sharex=True)\n",
    "sns.violinplot(rwds0, ax = axs[0])\n",
    "axs[0].set_title('Baseline Episode Rewards')\n",
    "sns.violinplot(rwds, ax = axs[1])\n",
    "axs[1].set_title('Trained Episode Rewards')"
   ]
  },
  {
   "cell_type": "code",
   "execution_count": 23,
   "metadata": {},
   "outputs": [
    {
     "data": {
      "text/plain": [
       "array([-0.008, -0.02 , -0.056,  0.004])"
      ]
     },
     "execution_count": 23,
     "metadata": {},
     "output_type": "execute_result"
    }
   ],
   "source": [
    "base_per_agent-trained_per_agent"
   ]
  },
  {
   "cell_type": "code",
   "execution_count": 24,
   "metadata": {},
   "outputs": [
    {
     "data": {
      "text/plain": [
       "<BarContainer object of 4 artists>"
      ]
     },
     "execution_count": 24,
     "metadata": {},
     "output_type": "execute_result"
    },
    {
     "data": {
      "image/png": "[encoded data removed]",
      "text/plain": [
       "<Figure size 432x288 with 2 Axes>"
      ]
     },
     "metadata": {
      "needs_background": "light"
     },
     "output_type": "display_data"
    }
   ],
   "source": [
    "fig, axs = plt.subplots(2,1)\n",
    "cmp = sns.boxplot(base_per_agent-trained_per_agent, ax = axs[0])\n",
    "axs[0].set_title('Distribution: Success Rate Per-Agent Improvement');\n",
    "axs[1].bar(x=range(len(exos)), height=100.*(base_per_agent-trained_per_agent))"
   ]
  },
  {
   "cell_type": "code",
   "execution_count": null,
   "metadata": {},
   "outputs": [],
   "source": []
  }
 ],
 "metadata": {
  "kernelspec": {
   "display_name": "Python 3",
   "language": "python",
   "name": "python3"
  },
  "language_info": {
   "codemirror_mode": {
    "name": "ipython",
    "version": 3
   },
   "file_extension": ".py",
   "mimetype": "text/x-python",
   "name": "python",
   "nbconvert_exporter": "python",
   "pygments_lexer": "ipython3",
   "version": "3.6.8"
  }
 },
 "nbformat": 4,
 "nbformat_minor": 2
}
