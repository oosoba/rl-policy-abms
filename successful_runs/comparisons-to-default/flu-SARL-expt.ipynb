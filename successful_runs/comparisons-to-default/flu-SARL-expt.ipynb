{
 "cells": [
  {
   "cell_type": "markdown",
   "metadata": {},
   "source": [
    "## 1-vs-(N-1) Flu ABM Env\n",
    "- 1-vs-(N-1) experiment\n",
    "- Basic AC learner\n",
    "- For comparison with MARL outcomes"
   ]
  },
  {
   "cell_type": "code",
   "execution_count": 1,
   "metadata": {},
   "outputs": [
    {
     "name": "stdout",
     "output_type": "stream",
     "text": [
      "Tensorflow version: 1.15.0\n",
      "Pandas version: 0.25.3\n"
     ]
    }
   ],
   "source": [
    "import itertools, importlib, sys, warnings, os\n",
    "\n",
    "import numpy as np\n",
    "import pandas as pd\n",
    "import matplotlib.pyplot as plt\n",
    "import seaborn as sns\n",
    "\n",
    "# ML libs\n",
    "import tensorflow as tf\n",
    "print(\"Tensorflow version:\", tf.__version__)\n",
    "print(\"Pandas version:\", pd.__version__)\n",
    "\n",
    "log_path = './log/flu'\n",
    "#tensorboard --logdir=flugame_worker_1:'./log/<<..>>'\n",
    "\n",
    "## suppress annoy verbose tf msgs\n",
    "warnings.filterwarnings(\"ignore\")\n",
    "os.environ['TF_CPP_MIN_LOG_LEVEL'] = '2' # '3' to block all including error msgs\n",
    "tf.compat.v1.logging.set_verbosity(tf.compat.v1.logging.ERROR)\n",
    "# plt.rcParams['figure.figsize'] = (18,7)"
   ]
  },
  {
   "cell_type": "code",
   "execution_count": 2,
   "metadata": {},
   "outputs": [
    {
     "data": {
      "text/plain": [
       "<module 'embodied_AC' from './embodied_arch/embodied_AC.py'>"
      ]
     },
     "execution_count": 2,
     "metadata": {},
     "output_type": "execute_result"
    }
   ],
   "source": [
    "sys.path.append('./embodied_arch')\n",
    "\n",
    "import embodied_AC as emg\n",
    "import flumodel_python.flu_env as Fenv\n",
    "from embodied_misc import ActionPolicyNetwork, ValueNetwork, SensoriumNetworkTemplate\n",
    "\n",
    "importlib.reload(emg)"
   ]
  },
  {
   "cell_type": "markdown",
   "metadata": {},
   "source": [
    "## Env Setup - Single Agent"
   ]
  },
  {
   "cell_type": "code",
   "execution_count": 3,
   "metadata": {},
   "outputs": [],
   "source": [
    "importlib.reload(Fenv);\n",
    "# ?Fenv.Flu_env"
   ]
  },
  {
   "cell_type": "code",
   "execution_count": 4,
   "metadata": {},
   "outputs": [
    {
     "data": {
      "text/plain": [
       "5423"
      ]
     },
     "execution_count": 4,
     "metadata": {},
     "output_type": "execute_result"
    }
   ],
   "source": [
    "exos = np.random.choice(9223)\n",
    "exos"
   ]
  },
  {
   "cell_type": "code",
   "execution_count": 5,
   "metadata": {},
   "outputs": [],
   "source": [
    "tf.reset_default_graph()\n",
    "flu_env = Fenv.Flu_env(\n",
    "    exo_idx=exos,\n",
    "    model_path=\"./flumodel_python/\"\n",
    ")"
   ]
  },
  {
   "cell_type": "markdown",
   "metadata": {},
   "source": [
    "### SARL Setup Demo"
   ]
  },
  {
   "cell_type": "code",
   "execution_count": 6,
   "metadata": {},
   "outputs": [],
   "source": [
    "actor = lambda s: ActionPolicyNetwork(s, hSeq=(8,), gamma_reg=1e-1)\n",
    "value = lambda s: ValueNetwork(s, hSeq=(8,), gamma_reg=1.)\n",
    "sensor = lambda st, out_dim: SensoriumNetworkTemplate(st, hSeq=(16,8,8), out_dim=out_dim, gamma_reg=5.)\n",
    "\n",
    "num_episodes, max_len, n_epochs, evry = (100, 35, 751, 150)\n",
    "# num_episodes, n_epochs, max_len = (30, 400, 25)"
   ]
  },
  {
   "cell_type": "code",
   "execution_count": 7,
   "metadata": {},
   "outputs": [
    {
     "name": "stdout",
     "output_type": "stream",
     "text": [
      "<embodied_AC.EmbodiedAgentAC object at 0x7fb9b0ff3110> 8 1\n"
     ]
    }
   ],
   "source": [
    "importlib.reload(emg);\n",
    "\n",
    "flurf = emg.EmbodiedAgentAC(\n",
    "    name=\"fluAC\", env_=flu_env, \n",
    "    _every_=evry, max_episode_length=max_len, \n",
    "    latentDim=4, alpha_p=10., alpha_v=5., \n",
    "    actorNN=actor, sensorium=sensor, valueNN=value\n",
    ")\n",
    "\n",
    "print(flurf, flurf.s_size, flurf.a_size)"
   ]
  },
  {
   "cell_type": "code",
   "execution_count": 8,
   "metadata": {},
   "outputs": [
    {
     "name": "stdout",
     "output_type": "stream",
     "text": [
      "8 1\n"
     ]
    }
   ],
   "source": [
    "print(flu_env.state_space_size, flu_env.action_space_size)"
   ]
  },
  {
   "cell_type": "markdown",
   "metadata": {},
   "source": [
    "### Burn-in Flu ABM to Equilibrium"
   ]
  },
  {
   "cell_type": "code",
   "execution_count": 9,
   "metadata": {},
   "outputs": [
    {
     "name": "stdout",
     "output_type": "stream",
     "text": [
      "0.07598395316057682 0.05665959325289261\n"
     ]
    },
    {
     "data": {
      "image/png": "[encoded data removed]",
      "text/plain": [
       "<Figure size 432x288 with 1 Axes>"
      ]
     },
     "metadata": {
      "needs_background": "light"
     },
     "output_type": "display_data"
    }
   ],
   "source": [
    "burn_in = 451\n",
    "flurf.env.soft_reset(DBM_reset=True)\n",
    "flurf.env.infection_rate_history\n",
    "for _ in range(burn_in):\n",
    "    _ = flurf.env.stepAll()\n",
    "\n",
    "\n",
    "plt.plot(pd.Series(flurf.env.infection_rate_history).rolling(window=50).mean().iloc[50-1:].values);\n",
    "\n",
    "print(\n",
    "    np.mean(np.array(flurf.env.infection_rate_history)[:flurf.max_episode_length]),\n",
    "    np.mean(np.array(flurf.env.infection_rate_history)[-flurf.max_episode_length:])\n",
    ")\n",
    "\n",
    "## no equilibrium, just cycling..."
   ]
  },
  {
   "cell_type": "markdown",
   "metadata": {},
   "source": [
    "## Baseline"
   ]
  },
  {
   "cell_type": "code",
   "execution_count": 10,
   "metadata": {},
   "outputs": [
    {
     "name": "stdout",
     "output_type": "stream",
     "text": [
      "Tensorboard logs in:  ./log/train_fluAC\n"
     ]
    }
   ],
   "source": [
    "sess = tf.InteractiveSession()\n",
    "flurf.init_graph(sess) # note tboard log dir"
   ]
  },
  {
   "cell_type": "code",
   "execution_count": 11,
   "metadata": {},
   "outputs": [
    {
     "name": "stdout",
     "output_type": "stream",
     "text": [
      "Baselining untrained pnet...\n",
      "Episode 99/100\n",
      "Agent is flu-free for an average of 94.71428571428572pct of seasons\n"
     ]
    }
   ],
   "source": [
    "print('Baselining untrained pnet...')\n",
    "rwds0 = []\n",
    "for k in range(num_episodes):\n",
    "    flurf.play(sess, terminal_reward=0.);\n",
    "    rwds0.append(flurf.last_total_return)\n",
    "    print(\"\\rEpisode {}/{}\".format(k, num_episodes),end=\"\")\n",
    "\n",
    "# Compute average rewards\n",
    "base_perf = 100.*np.mean(np.array(rwds0)/float(flurf.max_episode_length))\n",
    "\n",
    "print(\"\\nAgent is flu-free for an average of {}pct of seasons\".format(1.*base_perf))"
   ]
  },
  {
   "cell_type": "markdown",
   "metadata": {},
   "source": [
    "## Train"
   ]
  },
  {
   "cell_type": "code",
   "execution_count": 12,
   "metadata": {},
   "outputs": [
    {
     "name": "stdout",
     "output_type": "stream",
     "text": [
      "\tIteration 39: Value loss(2.978991746902466)))"
     ]
    },
    {
     "data": {
      "text/plain": [
       "[<matplotlib.lines.Line2D at 0x7fb9ae9b4090>]"
      ]
     },
     "execution_count": 12,
     "metadata": {},
     "output_type": "execute_result"
    },
    {
     "data": {
      "image/png": "[encoded data removed]",
      "text/plain": [
       "<Figure size 432x288 with 1 Axes>"
      ]
     },
     "metadata": {
      "needs_background": "light"
     },
     "output_type": "display_data"
    }
   ],
   "source": [
    "obs = []\n",
    "for ct in range(40):\n",
    "    flurf.play(sess)\n",
    "    tmp = flurf.pretrainV(sess)\n",
    "    obs.append(tmp)\n",
    "    print('\\r\\tIteration {}: Value loss({})'.format(ct, tmp), end=\"\")\n",
    "plt.plot(obs)"
   ]
  },
  {
   "cell_type": "code",
   "execution_count": 13,
   "metadata": {},
   "outputs": [
    {
     "name": "stdout",
     "output_type": "stream",
     "text": [
      "Training...\n",
      "Starting agent fluAC\n",
      "Epoch no.: 0/751\n",
      "Step 0: Stats(['Perf/Recent Reward', 'Losses/Policy LL', 'Losses/Value Fxn', 'Losses/Entropy']): ( [32.0, -0.0895846, 2.6754167, 0.6882952] )\n",
      "Saved Model\n",
      "Epoch no.: 150/751\n",
      "Step 150: Stats(['Perf/Recent Reward', 'Losses/Policy LL', 'Losses/Value Fxn', 'Losses/Entropy']): ( [32.0, -0.027927427, 2.6384542, 0.6841873] )\n",
      "Saved Model\n",
      "Epoch no.: 300/751\n",
      "Step 300: Stats(['Perf/Recent Reward', 'Losses/Policy LL', 'Losses/Value Fxn', 'Losses/Entropy']): ( [32.0, 0.13610244, 2.412248, 0.6725986] )\n",
      "Saved Model\n",
      "Epoch no.: 450/751\n",
      "Step 450: Stats(['Perf/Recent Reward', 'Losses/Policy LL', 'Losses/Value Fxn', 'Losses/Entropy']): ( [33.0, -0.033349868, 1.9708086, 0.68544424] )\n",
      "Saved Model\n",
      "Epoch no.: 600/751\n",
      "Step 600: Stats(['Perf/Recent Reward', 'Losses/Policy LL', 'Losses/Value Fxn', 'Losses/Entropy']): ( [35.0, 0.134849, 2.1508675, 0.6482908] )\n",
      "Saved Model\n",
      "Epoch no.: 750/751\n",
      "Step 750: Stats(['Perf/Recent Reward', 'Losses/Policy LL', 'Losses/Value Fxn', 'Losses/Entropy']): ( [34.0, -0.059447363, 1.9821364, 0.60314626] )\n",
      "Saved Model\n"
     ]
    }
   ],
   "source": [
    "# Train pnet on cartpole episodes\n",
    "print('Training...')\n",
    "saver = tf.train.Saver(max_to_keep=1)\n",
    "hist = flurf.work(sess, saver, num_epochs=n_epochs);"
   ]
  },
  {
   "cell_type": "code",
   "execution_count": 14,
   "metadata": {},
   "outputs": [
    {
     "data": {
      "text/plain": [
       "<matplotlib.axes._subplots.AxesSubplot at 0x7fb9804ad410>"
      ]
     },
     "execution_count": 14,
     "metadata": {},
     "output_type": "execute_result"
    },
    {
     "data": {
      "image/png": "[encoded data removed]",
      "text/plain": [
       "<Figure size 432x288 with 1 Axes>"
      ]
     },
     "metadata": {
      "needs_background": "light"
     },
     "output_type": "display_data"
    }
   ],
   "source": [
    "sns.violinplot(hist)"
   ]
  },
  {
   "cell_type": "markdown",
   "metadata": {},
   "source": [
    "## Test"
   ]
  },
  {
   "cell_type": "code",
   "execution_count": 15,
   "metadata": {},
   "outputs": [
    {
     "name": "stdout",
     "output_type": "stream",
     "text": [
      "Testing...\n",
      "Episode 99/100\n",
      "Agent is flu-free for an average of 97.08571428571429pct of seasons compared to baseline 94.71428571428572pct\n"
     ]
    }
   ],
   "source": [
    "print('Testing...')\n",
    "rwds = []\n",
    "for k in range(num_episodes):\n",
    "    flurf.play(sess, terminal_reward=0.);\n",
    "    rwds.append(flurf.last_total_return)\n",
    "    print(\"\\rEpisode {}/{}\".format(k, num_episodes),end=\"\")\n",
    "\n",
    "# Compute average rewards\n",
    "trained_perf = 100.*np.mean(np.array(rwds)/float(flurf.max_episode_length))\n",
    "print(\"\\nAgent is flu-free for an average of {}pct of seasons compared to baseline {}pct\".format(\n",
    "    trained_perf, base_perf) )\n"
   ]
  },
  {
   "cell_type": "markdown",
   "metadata": {},
   "source": [
    "## Evaluate"
   ]
  },
  {
   "cell_type": "code",
   "execution_count": 16,
   "metadata": {},
   "outputs": [
    {
     "data": {
      "text/plain": [
       "Text(0.5, 1.0, 'Trained Episode Rewards')"
      ]
     },
     "execution_count": 16,
     "metadata": {},
     "output_type": "execute_result"
    },
    {
     "data": {
      "image/png": "[encoded data removed]",
      "text/plain": [
       "<Figure size 432x288 with 2 Axes>"
      ]
     },
     "metadata": {
      "needs_background": "light"
     },
     "output_type": "display_data"
    }
   ],
   "source": [
    "fig, axs = plt.subplots(2, 1, sharex=True)\n",
    "sns.violinplot(rwds0, ax = axs[0])\n",
    "axs[0].set_title('Baseline Episode Rewards')\n",
    "sns.violinplot(rwds, ax = axs[1])\n",
    "axs[1].set_title('Trained Episode Rewards')"
   ]
  },
  {
   "cell_type": "code",
   "execution_count": 21,
   "metadata": {
    "collapsed": true,
    "jupyter": {
     "outputs_hidden": true
    }
   },
   "outputs": [
    {
     "data": {
      "text/plain": [
       "array([ 2.85714286, -2.85714286, 11.42857143,  0.        ,  5.71428571,\n",
       "        0.        ,  0.        ,  2.85714286,  5.71428571,  2.85714286,\n",
       "        2.85714286, 14.28571429,  5.71428571,  8.57142857,  2.85714286,\n",
       "        0.        ,  5.71428571,  2.85714286, 11.42857143,  0.        ,\n",
       "        8.57142857,  5.71428571,  2.85714286,  0.        ,  2.85714286,\n",
       "        2.85714286,  2.85714286,  0.        , -5.71428571,  5.71428571,\n",
       "       -2.85714286,  2.85714286, -2.85714286,  2.85714286,  8.57142857,\n",
       "       -2.85714286,  5.71428571,  2.85714286,  8.57142857,  5.71428571,\n",
       "        5.71428571, 11.42857143, -8.57142857,  8.57142857,  2.85714286,\n",
       "        2.85714286,  2.85714286,  0.        ,  2.85714286,  0.        ,\n",
       "       -5.71428571,  0.        ,  0.        ,  2.85714286,  2.85714286,\n",
       "       -5.71428571,  5.71428571,  5.71428571,  0.        ,  2.85714286,\n",
       "       11.42857143,  2.85714286, -2.85714286,  2.85714286,  2.85714286,\n",
       "        2.85714286,  2.85714286,  0.        , -2.85714286,  0.        ,\n",
       "        2.85714286,  2.85714286,  2.85714286, -2.85714286, -2.85714286,\n",
       "        2.85714286,  5.71428571, -2.85714286,  5.71428571,  5.71428571,\n",
       "        2.85714286, -8.57142857, 11.42857143,  0.        ,  2.85714286,\n",
       "        0.        ,  8.57142857,  2.85714286,  0.        , -2.85714286,\n",
       "        0.        ,  8.57142857, -2.85714286,  0.        , 11.42857143,\n",
       "       -8.57142857,  0.        ,  0.        , -2.85714286,  0.        ])"
      ]
     },
     "execution_count": 21,
     "metadata": {},
     "output_type": "execute_result"
    }
   ],
   "source": [
    "100.*(np.array(rwds)-np.array(rwds0))/float(flurf.max_episode_length)"
   ]
  },
  {
   "cell_type": "code",
   "execution_count": 49,
   "metadata": {
    "collapsed": true,
    "jupyter": {
     "outputs_hidden": true
    }
   },
   "outputs": [
    {
     "data": {
      "image/png": "[encoded data removed]",
      "text/plain": [
       "<Figure size 576x216 with 1 Axes>"
      ]
     },
     "metadata": {
      "needs_background": "light"
     },
     "output_type": "display_data"
    }
   ],
   "source": [
    "cmp = sns.boxplot(100.*(np.array(rwds)-np.array(rwds0))/float(flurf.max_episode_length))\n",
    "cmp.set_title('Distribution of Agent\\'s Improvement in Seasonal Immunity');"
   ]
  },
  {
   "cell_type": "markdown",
   "metadata": {},
   "source": [
    "### Baseline for Default Behavioral Model\n",
    "Using internal Env instead of new Flu Env"
   ]
  },
  {
   "cell_type": "code",
   "execution_count": null,
   "metadata": {
    "jupyter": {
     "source_hidden": true
    }
   },
   "outputs": [],
   "source": [
    "# import flumodel_python.flu_env_basic as FABM\n",
    "# # ?Fenv.Flu_ABM\n",
    "# importlib.reload(FABM);\n",
    "# flu = FABM.Flu_ABM(model_path=\"./flumodel_python/\")"
   ]
  },
  {
   "cell_type": "code",
   "execution_count": 24,
   "metadata": {},
   "outputs": [],
   "source": [
    "# No Burn-in Flu ABM... No DBM reset.\n",
    "# note change in comparison standard: against average background popn, not against itself under DBM\n",
    "flu_hist = np.zeros(num_episodes)\n",
    "for k in range(num_episodes):\n",
    "    for _ in range(flurf.max_episode_length):\n",
    "        _ = flurf.env.stepAll() \n",
    "    flu_hist[k] = np.mean(np.array(flurf.env.infection_rate_history)[-flurf.max_episode_length:])"
   ]
  },
  {
   "cell_type": "markdown",
   "metadata": {},
   "source": [
    "### Evaluate RL Agent Against Default Behavioral Model"
   ]
  },
  {
   "cell_type": "code",
   "execution_count": 71,
   "metadata": {},
   "outputs": [
    {
     "name": "stdout",
     "output_type": "stream",
     "text": [
      "93.98180325583557 94.71428571428571 97.08571428571426\n"
     ]
    }
   ],
   "source": [
    "rwds_dbm = 100.*(1.-flu_hist)\n",
    "rwds_init = 100.*np.array(rwds0)/float(flurf.max_episode_length)\n",
    "rwds_rl = 100.*np.array(rwds)/float(flurf.max_episode_length)\n",
    "# print(rwds_dbm.shape, rwds_rl.shape)\n",
    "print(np.mean(rwds_dbm), np.mean(rwds_init), np.mean(rwds_rl))\n",
    "# print(np.mean(rwds_rl - rwds_dbm))\n",
    "\n",
    "# plt.rcParams['figure.figsize'] = (8,3)\n",
    "# cmp_dbm = sns.boxplot(rwds_rl-rwds_dbm)\n",
    "# cmp_dbm.set_title(\n",
    "#     'Average Difference in Agent Performance (Seasonal Non-Infection Pct):\\nRL Agent over Default Behavioral Model ({:0.2f} pct)'.format(\n",
    "#     np.mean(rwds_rl - rwds_dbm)));"
   ]
  },
  {
   "cell_type": "code",
   "execution_count": 72,
   "metadata": {},
   "outputs": [
    {
     "data": {
      "image/png": "[encoded data removed]",
      "text/plain": [
       "<Figure size 648x504 with 2 Axes>"
      ]
     },
     "metadata": {
      "needs_background": "light"
     },
     "output_type": "display_data"
    }
   ],
   "source": [
    "plt.rcParams['figure.figsize'] = (9,7)\n",
    "fig, axs = plt.subplots(2, 1, sharex=True)\n",
    "\n",
    "fig.suptitle(\"Comparing Avg. Agent Performance (Seasonal Non-Infection Pct)\", fontsize=16)\n",
    "\n",
    "sns.boxplot(rwds_rl-rwds_dbm, ax = axs[0])\n",
    "axs[0].set_title('Trained RL Agent vs. Default Behavioral Model (+{:0.2f} pct)'.format(\n",
    "    np.mean(rwds_rl - rwds_dbm)));\n",
    "# axs[0].set_xlabel(\"Percentage Improvment\");\n",
    "axs[0].tick_params(labelbottom=True)\n",
    "# plt.setp(axs[0].get_xticklabels(), visible=True)\n",
    "\n",
    "sns.boxplot(rwds_rl-rwds_init, ax = axs[1])\n",
    "axs[1].set_title('RL Agent After vs. Before Training (+{:0.2f} pct)'.format(\n",
    "    np.mean(rwds_rl - rwds_init)));\n",
    "axs[1].set_xlabel(\"Percentage Improvment\");"
   ]
  },
  {
   "cell_type": "code",
   "execution_count": null,
   "metadata": {},
   "outputs": [],
   "source": []
  }
 ],
 "metadata": {
  "kernelspec": {
   "display_name": "Python 3",
   "language": "python",
   "name": "python3"
  },
  "language_info": {
   "codemirror_mode": {
    "name": "ipython",
    "version": 3
   },
   "file_extension": ".py",
   "mimetype": "text/x-python",
   "name": "python",
   "nbconvert_exporter": "python",
   "pygments_lexer": "ipython3",
   "version": "3.7.4"
  }
 },
 "nbformat": 4,
 "nbformat_minor": 4
}
