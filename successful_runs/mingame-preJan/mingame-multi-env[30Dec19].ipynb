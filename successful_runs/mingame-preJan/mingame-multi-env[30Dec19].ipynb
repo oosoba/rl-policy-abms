{
 "cells": [
  {
   "cell_type": "markdown",
   "metadata": {},
   "source": [
    "## Preamble: Libs + signal def"
   ]
  },
  {
   "cell_type": "code",
   "execution_count": 1,
   "metadata": {},
   "outputs": [
    {
     "name": "stdout",
     "output_type": "stream",
     "text": [
      "Tensorflow version: 1.15.0\n"
     ]
    }
   ],
   "source": [
    "import itertools, importlib, sys, warnings, os\n",
    "\n",
    "import numpy as np\n",
    "import matplotlib.pyplot as plt\n",
    "import seaborn as sns\n",
    "\n",
    "# ML libs\n",
    "import tensorflow as tf\n",
    "print(\"Tensorflow version:\", tf.__version__)\n",
    "\n",
    "\n",
    "## suppress annoy verbose tf msgs\n",
    "warnings.filterwarnings(\"ignore\")\n",
    "os.environ['TF_CPP_MIN_LOG_LEVEL'] = '2' # '3' to block all including error msgs\n",
    "tf.compat.v1.logging.set_verbosity(tf.compat.v1.logging.ERROR)"
   ]
  },
  {
   "cell_type": "code",
   "execution_count": 2,
   "metadata": {},
   "outputs": [],
   "source": [
    "sys.path.append('./embodied_arch')\n",
    "sys.path.append('./minoritygame')\n",
    "import minoritygame.minority_multienv as MGME\n",
    "import embodied as emg\n",
    "import embodied_indep as emi\n",
    "from embodied_misc import ActionPolicyNetwork, ValueNetwork, SensoriumNetworkTemplate\n",
    "\n",
    "\n",
    "importlib.reload(MGME) \n",
    "importlib.reload(emg)\n",
    "importlib.reload(emi)\n",
    "\n",
    "\n",
    "%matplotlib inline\n",
    "plt.style.use('ggplot')\n",
    "plt.rcParams['figure.figsize'] = (7,7)\n",
    "\n",
    "log_path = './log/mingame'\n",
    "#tensorboard --logdir=mingame_worker_1:'<...>'"
   ]
  },
  {
   "cell_type": "markdown",
   "metadata": {},
   "source": [
    "## Setup k-vs-(N-k) Mingame Env"
   ]
  },
  {
   "cell_type": "code",
   "execution_count": 3,
   "metadata": {},
   "outputs": [
    {
     "data": {
      "text/plain": [
       "<module 'minoritygame.minority_multienv' from '/Users/oosoba/Documents/RAND/Coding/multiagent-ABM/minoritygame/minority_multienv.py'>"
      ]
     },
     "execution_count": 3,
     "metadata": {},
     "output_type": "execute_result"
    }
   ],
   "source": [
    "importlib.reload(MGME)"
   ]
  },
  {
   "cell_type": "code",
   "execution_count": 4,
   "metadata": {},
   "outputs": [
    {
     "name": "stdout",
     "output_type": "stream",
     "text": [
      "5 2 [0, 1]\n",
      "3 1\n"
     ]
    }
   ],
   "source": [
    "# n_agents = 61\n",
    "# exos = (np.random.sample(n_agents) < 0.3)  # np.sum(exos)\n",
    "\n",
    "exos = [True, True, False, False, False]\n",
    "menv = MGME.MinorityGame_Multiagent_env(\n",
    "    m=3, s=4,\n",
    "    exo_actorsQ=exos\n",
    ")\n",
    "\n",
    "print(len(menv.actor_exoQ), menv.actor_count, menv.actor_index)\n",
    "print(menv.state_space_size, menv.action_space_size)"
   ]
  },
  {
   "cell_type": "code",
   "execution_count": 5,
   "metadata": {},
   "outputs": [
    {
     "data": {
      "text/plain": [
       "(5, (5, 5))"
      ]
     },
     "execution_count": 5,
     "metadata": {},
     "output_type": "execute_result"
    }
   ],
   "source": [
    "len(menv.actor_exoQ), (len(menv.agents), menv.nagents)"
   ]
  },
  {
   "cell_type": "markdown",
   "metadata": {},
   "source": [
    "## Setup MARL"
   ]
  },
  {
   "cell_type": "code",
   "execution_count": 6,
   "metadata": {},
   "outputs": [],
   "source": [
    "num_episodes, n_epochs, max_len = (100, 751, 150)"
   ]
  },
  {
   "cell_type": "code",
   "execution_count": 7,
   "metadata": {},
   "outputs": [],
   "source": [
    "actor = lambda s: ActionPolicyNetwork(s, hSeq=(32,), gamma_reg=1e-1)\n",
    "value = lambda s: ValueNetwork(s, hSeq=(16,16,8,), gamma_reg=1.)\n",
    "sensor = lambda st, out_dim: SensoriumNetworkTemplate(st, hSeq=(16,8,), out_dim=out_dim, gamma_reg=5.)"
   ]
  },
  {
   "cell_type": "code",
   "execution_count": 8,
   "metadata": {},
   "outputs": [
    {
     "data": {
      "text/plain": [
       "<module 'embodied_indep' from './embodied_arch/embodied_indep.py'>"
      ]
     },
     "execution_count": 8,
     "metadata": {},
     "output_type": "execute_result"
    }
   ],
   "source": [
    "tf.reset_default_graph()\n",
    "importlib.reload(emi)"
   ]
  },
  {
   "cell_type": "code",
   "execution_count": 9,
   "metadata": {},
   "outputs": [
    {
     "name": "stdout",
     "output_type": "stream",
     "text": [
      "<embodied_indep.EmbodiedAgent_IAC object at 0x1a342d4210> 3 1\n"
     ]
    }
   ],
   "source": [
    "## REINFORCE\n",
    "# embrf = emi.EmbodiedAgent_IRF(\n",
    "#     name=\"mgRF_k-vs-N-k\", env_=menv, latentDim=4,\n",
    "#     actorNN=actor, sensorium=sensor, alpha=5.e-1,\n",
    "#     max_episode_length=max_len\n",
    "# )\n",
    "\n",
    "## REINFORCE with Baseline\n",
    "# embrf = emi.EmbodiedAgent_IRFB(\n",
    "#     name=\"mgRFB_k-vs-N-k\",\n",
    "#     env_=menv, latentDim=4, \n",
    "#     alpha_p=5.e-1, alpha_v=1e-2, \n",
    "#     actorNN=actor, valueNN=value,\n",
    "#     sensorium=sensor,\n",
    "#     max_episode_length=max_len\n",
    "# )\n",
    "\n",
    "## Actor-Critic\n",
    "embrf = emi.EmbodiedAgent_IAC(\n",
    "    name=\"mgAC_k-vs-N-k\",\n",
    "    env_=menv, latentDim=4, \n",
    "    alpha_p=50, alpha_v=12., \n",
    "    actorNN=actor, valueNN=value,\n",
    "    sensorium=sensor,\n",
    "    _every_=150,\n",
    "    max_episode_length=max_len\n",
    ")\n",
    "\n",
    "print(embrf, embrf.s_size, embrf.a_size)"
   ]
  },
  {
   "cell_type": "code",
   "execution_count": 10,
   "metadata": {},
   "outputs": [
    {
     "name": "stdout",
     "output_type": "stream",
     "text": [
      "Tensorboard logs in:  ./log/train_mgAC_k-vs-N-k\n"
     ]
    }
   ],
   "source": [
    "sess = tf.InteractiveSession()\n",
    "embrf.init_graph(sess)  # note tboard log dir"
   ]
  },
  {
   "cell_type": "code",
   "execution_count": 11,
   "metadata": {},
   "outputs": [
    {
     "data": {
      "text/plain": [
       "array([52., 47.])"
      ]
     },
     "execution_count": 11,
     "metadata": {},
     "output_type": "execute_result"
    }
   ],
   "source": [
    "## Verify step + play set up\n",
    "state = embrf.env.reset()\n",
    "# print(state, embrf.act(state, sess))\n",
    "\n",
    "embrf.play(sess)\n",
    "np.sum(np.array(embrf.episode_buffer['rewards']), axis=0)\n",
    "# np.array(embrf.episode_buffer['rewards'])"
   ]
  },
  {
   "cell_type": "code",
   "execution_count": 12,
   "metadata": {},
   "outputs": [
    {
     "name": "stdout",
     "output_type": "stream",
     "text": [
      "[52. 47.]\n",
      "(47.0, 49.5, 52.0)\n"
     ]
    }
   ],
   "source": [
    "print(embrf.last_total_returns)\n",
    "print(emi.summarize_np(embrf.last_total_returns))"
   ]
  },
  {
   "cell_type": "markdown",
   "metadata": {},
   "source": [
    "### Pre-test Agent"
   ]
  },
  {
   "cell_type": "code",
   "execution_count": 13,
   "metadata": {},
   "outputs": [
    {
     "name": "stdout",
     "output_type": "stream",
     "text": [
      "Baselining untrained pnet...\n",
      "Episode 80/100\n",
      "Agents win an average of [30.49333333 29.14666667] pct\n"
     ]
    }
   ],
   "source": [
    "print('Baselining untrained pnet...')\n",
    "rwd_mg0 = []\n",
    "for k in range(num_episodes):\n",
    "    embrf.play(sess, terminal_reward=0.)\n",
    "    rwd_mg0.append(embrf.last_total_returns)\n",
    "    if k%int(num_episodes/5) == 0: print(\"\\rEpisode {}/{}\".format(k, num_episodes),end=\"\")\n",
    "base_perf_mg = 100.*np.mean(np.array(rwd_mg0)/float(embrf.max_episode_length), axis=0)\n",
    "print(\"\\nAgents win an average of {} pct\".format(base_perf_mg))\n",
    "\n",
    "base_per_agent = 100.*np.mean(np.array(rwd_mg0)/float(embrf.max_episode_length), axis=0)"
   ]
  },
  {
   "cell_type": "markdown",
   "metadata": {},
   "source": [
    "## Train MARL Agents"
   ]
  },
  {
   "cell_type": "code",
   "execution_count": 14,
   "metadata": {},
   "outputs": [
    {
     "name": "stdout",
     "output_type": "stream",
     "text": [
      "\tIteration 299: Value loss([1.57765639 0.81780505]))\n",
      " [1.68645773 1.86476817]\n"
     ]
    },
    {
     "data": {
      "image/png": "[encoded data removed]",
      "text/plain": [
       "<Figure size 504x504 with 1 Axes>"
      ]
     },
     "metadata": {},
     "output_type": "display_data"
    }
   ],
   "source": [
    "obs = []\n",
    "for ct in range(300):\n",
    "    embrf.play(sess)\n",
    "    tmp = embrf.pretrainCritics(sess)\n",
    "    obs.append(tmp)\n",
    "    print('\\r\\tIteration {}: Value loss({})'.format(ct, tmp), end=\"\")\n",
    "plt.plot(obs)\n",
    "\n",
    "# plt.figure()\n",
    "# sns.violinplot(np.array(obs).ravel())\n",
    "print('\\n', np.mean(obs, axis=0))"
   ]
  },
  {
   "cell_type": "code",
   "execution_count": 15,
   "metadata": {},
   "outputs": [
    {
     "name": "stdout",
     "output_type": "stream",
     "text": [
      "Training...\n",
      "Starting agent mgAC_k-vs-N-k\n",
      "Epoch no.: 0/751\n",
      "\n",
      "\tStats @Step 0: \t(Min, Mean, Max)\n",
      "Perf/Recent Rewards: (43.0, 44.0, 45.0)\n",
      "Losses/Policy LLs: (-1.201472, -0.6529286, -0.35774857)\n",
      "Losses/Critic Scores: (14.174569, 17.667355, 21.153696)\n",
      "Losses/Policy Entropies: (0.6114994, 0.6547935, 0.6930927)\n",
      "Saved Model\n",
      "Epoch no.: 150/751\n",
      "\n",
      "\tStats @Step 150: \t(Min, Mean, Max)\n",
      "Perf/Recent Rewards: (69.0, 74.0, 79.0)\n",
      "Losses/Policy LLs: (-4.9073668, -0.040895864, -0.006608781)\n",
      "Losses/Critic Scores: (26.911959, 29.294672, 31.352505)\n",
      "Losses/Policy Entropies: (0.039649766, 0.047536068, 0.06296283)\n",
      "Saved Model\n",
      "Epoch no.: 300/751\n",
      "\n",
      "\tStats @Step 300: \t(Min, Mean, Max)\n",
      "Perf/Recent Rewards: (69.0, 75.0, 81.0)\n",
      "Losses/Policy LLs: (-0.0012089189, -0.00067447615, -3.5811943e-05)\n",
      "Losses/Critic Scores: (30.930534, 31.735895, 32.159023)\n",
      "Losses/Policy Entropies: (0.01, 0.009999998, 0.01)\n",
      "Saved Model\n",
      "Epoch no.: 450/751\n",
      "\n",
      "\tStats @Step 450: \t(Min, Mean, Max)\n",
      "Perf/Recent Rewards: (70.0, 75.0, 80.0)\n",
      "Losses/Policy LLs: (-0.0007731585, -0.0006349716, -0.0002298813)\n",
      "Losses/Critic Scores: (25.023388, 29.954308, 35.29809)\n",
      "Losses/Policy Entropies: (0.01, 0.009999998, 0.01)\n",
      "Saved Model\n",
      "Epoch no.: 600/751\n",
      "\n",
      "\tStats @Step 600: \t(Min, Mean, Max)\n",
      "Perf/Recent Rewards: (69.0, 75.0, 81.0)\n",
      "Losses/Policy LLs: (-0.00050335383, -0.00036221166, -0.00012676307)\n",
      "Losses/Critic Scores: (29.573551, 30.312546, 31.245626)\n",
      "Losses/Policy Entropies: (0.01, 0.009999998, 0.01)\n",
      "Saved Model\n",
      "Epoch no.: 750/751\n",
      "\n",
      "\tStats @Step 750: \t(Min, Mean, Max)\n",
      "Perf/Recent Rewards: (70.0, 75.0, 80.0)\n",
      "Losses/Policy LLs: (-0.0013165373, -0.00047451278, -9.83066e-05)\n",
      "Losses/Critic Scores: (27.12757, 30.054623, 33.40102)\n",
      "Losses/Policy Entropies: (0.01, 0.010002101, 0.01004207)\n",
      "Saved Model\n"
     ]
    }
   ],
   "source": [
    "# ### Train Agent w/ Algo on Experience Tuples\n",
    "# Train pnet on mingame episodes\n",
    "print('Training...')\n",
    "saver = tf.train.Saver(max_to_keep=1)\n",
    "hist = embrf.work(sess, num_epochs=n_epochs, saver=saver)"
   ]
  },
  {
   "cell_type": "markdown",
   "metadata": {},
   "source": [
    "### Post-test Agent"
   ]
  },
  {
   "cell_type": "code",
   "execution_count": 16,
   "metadata": {},
   "outputs": [
    {
     "name": "stdout",
     "output_type": "stream",
     "text": [
      "Testing...\n",
      "Episode 80/100\n",
      "Agent wins an average of [52.68       47.28666667] pct compared to baseline of [30.49333333 29.14666667] pct\n"
     ]
    }
   ],
   "source": [
    "# Test pnet!\n",
    "print('Testing...')\n",
    "rwd_mg = []\n",
    "for k in range(num_episodes):\n",
    "    embrf.play(sess, terminal_reward=0.)\n",
    "    rwd_mg.append(embrf.last_total_returns)\n",
    "    if k%int(num_episodes/5) == 0: print(\"\\rEpisode {}/{}\".format(k, num_episodes),end=\"\")\n",
    "trained_perf_mg = 100.*np.mean(np.array(rwd_mg)/float(embrf.max_episode_length), axis=0)\n",
    "print(\"\\nAgent wins an average of {} pct compared to baseline of {} pct\".format(\n",
    "    trained_perf_mg, base_perf_mg) )\n",
    "\n",
    "trained_per_agent = 100.*np.mean(np.array(rwd_mg)/float(embrf.max_episode_length), axis=0)"
   ]
  },
  {
   "cell_type": "code",
   "execution_count": 17,
   "metadata": {},
   "outputs": [
    {
     "name": "stdout",
     "output_type": "stream",
     "text": [
      "\n",
      "Agent wins an average of [52.68       47.28666667] pct \n",
      "compared to baseline of [30.49333333 29.14666667] pct\n"
     ]
    },
    {
     "data": {
      "image/png": "[encoded data removed]",
      "text/plain": [
       "<Figure size 504x504 with 2 Axes>"
      ]
     },
     "metadata": {},
     "output_type": "display_data"
    }
   ],
   "source": [
    "fig, axs = plt.subplots(2, 1, sharex=True)\n",
    "sns.violinplot(np.array(rwd_mg0)/embrf.max_episode_length - 0.5, ax = axs[0])\n",
    "axs[0].set_title('Baseline Mean Success Rates')\n",
    "sns.violinplot(np.array(rwd_mg)/embrf.max_episode_length - 0.5, ax = axs[1])\n",
    "axs[1].set_title('Trained Mean Success Rate')\n",
    "\n",
    "print(\"\\nAgent wins an average of {} pct \\ncompared to baseline of {} pct\".format(\n",
    "    trained_perf_mg, base_perf_mg) )"
   ]
  },
  {
   "cell_type": "code",
   "execution_count": 18,
   "metadata": {},
   "outputs": [
    {
     "data": {
      "text/plain": [
       "<BarContainer object of 2 artists>"
      ]
     },
     "execution_count": 18,
     "metadata": {},
     "output_type": "execute_result"
    },
    {
     "data": {
      "image/png": "[encoded data removed]",
      "text/plain": [
       "<Figure size 504x504 with 2 Axes>"
      ]
     },
     "metadata": {},
     "output_type": "display_data"
    }
   ],
   "source": [
    "fig, axs = plt.subplots(2,1)\n",
    "cmp = sns.boxplot(trained_per_agent-base_per_agent, ax = axs[0])\n",
    "axs[0].set_title('Distribution: Success Rate Per-Agent Improvement');\n",
    "axs[1].bar(x=range(sum(exos)), height=(trained_per_agent-base_per_agent))"
   ]
  }
 ],
 "metadata": {
  "kernelspec": {
   "display_name": "Python 3",
   "language": "python",
   "name": "python3"
  },
  "language_info": {
   "codemirror_mode": {
    "name": "ipython",
    "version": 3
   },
   "file_extension": ".py",
   "mimetype": "text/x-python",
   "name": "python",
   "nbconvert_exporter": "python",
   "pygments_lexer": "ipython3",
   "version": "3.7.4"
  }
 },
 "nbformat": 4,
 "nbformat_minor": 4
}
