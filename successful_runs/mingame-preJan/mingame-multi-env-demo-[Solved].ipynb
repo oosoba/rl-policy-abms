{
 "cells": [
  {
   "cell_type": "markdown",
   "metadata": {},
   "source": [
    "## Preamble: Libs + signal def"
   ]
  },
  {
   "cell_type": "code",
   "execution_count": 1,
   "metadata": {},
   "outputs": [
    {
     "name": "stdout",
     "output_type": "stream",
     "text": [
      "Tensorflow version: 1.15.0\n"
     ]
    }
   ],
   "source": [
    "import itertools, importlib, sys, warnings, os\n",
    "\n",
    "import numpy as np\n",
    "import matplotlib.pyplot as plt\n",
    "import seaborn as sns\n",
    "\n",
    "# ML libs\n",
    "import tensorflow as tf\n",
    "print(\"Tensorflow version:\", tf.__version__)\n",
    "\n",
    "\n",
    "## suppress annoy verbose tf msgs\n",
    "warnings.filterwarnings(\"ignore\")\n",
    "os.environ['TF_CPP_MIN_LOG_LEVEL'] = '2' # '3' to block all including error msgs\n",
    "tf.compat.v1.logging.set_verbosity(tf.compat.v1.logging.ERROR)"
   ]
  },
  {
   "cell_type": "code",
   "execution_count": 2,
   "metadata": {},
   "outputs": [],
   "source": [
    "sys.path.append('./embodied_arch')\n",
    "sys.path.append('./minoritygame')\n",
    "import minoritygame.minority_multienv as MGME\n",
    "import embodied as emg\n",
    "import embodied_indep as emi\n",
    "from embodied_misc import ActionPolicyNetwork, ValueNetwork, SensoriumNetworkTemplate\n",
    "\n",
    "\n",
    "importlib.reload(MGME) \n",
    "importlib.reload(emg)\n",
    "importlib.reload(emi)\n",
    "\n",
    "\n",
    "%matplotlib inline\n",
    "plt.style.use('ggplot')\n",
    "plt.rcParams['figure.figsize'] = (7,7)\n",
    "\n",
    "log_path = './log/mingame'\n",
    "#tensorboard --logdir=mingame_worker_1:'<...>'"
   ]
  },
  {
   "cell_type": "markdown",
   "metadata": {},
   "source": [
    "## Setup k-vs-(N-k) Mingame Env"
   ]
  },
  {
   "cell_type": "code",
   "execution_count": 3,
   "metadata": {},
   "outputs": [
    {
     "data": {
      "text/plain": [
       "<module 'minoritygame.minority_multienv' from '/Users/oosoba/Documents/RAND/Coding/multiagent-ABM/minoritygame/minority_multienv.py'>"
      ]
     },
     "execution_count": 3,
     "metadata": {},
     "output_type": "execute_result"
    }
   ],
   "source": [
    "importlib.reload(MGME)"
   ]
  },
  {
   "cell_type": "code",
   "execution_count": 4,
   "metadata": {},
   "outputs": [
    {
     "name": "stdout",
     "output_type": "stream",
     "text": [
      "4 2 [0, 1]\n",
      "3 1\n"
     ]
    }
   ],
   "source": [
    "n_agents = 61\n",
    "\n",
    "exos = (np.random.sample(n_agents) < 0.3)  # np.sum(exos)\n",
    "exos = [True, True, False, False]\n",
    "menv = MGME.MinorityGame_Multiagent_env(\n",
    "    m=3, s=4,\n",
    "    exo_actorsQ=exos\n",
    ")\n",
    "\n",
    "print(len(menv.actor_exoQ), menv.actor_count, menv.actor_index)\n",
    "print(menv.state_space_size, menv.action_space_size)"
   ]
  },
  {
   "cell_type": "code",
   "execution_count": 5,
   "metadata": {},
   "outputs": [
    {
     "data": {
      "text/plain": [
       "(4, (4, 4))"
      ]
     },
     "execution_count": 5,
     "metadata": {},
     "output_type": "execute_result"
    }
   ],
   "source": [
    "len(menv.actor_exoQ), (len(menv.agents), menv.nagents)"
   ]
  },
  {
   "cell_type": "markdown",
   "metadata": {},
   "source": [
    "## Setup MARL"
   ]
  },
  {
   "cell_type": "code",
   "execution_count": 6,
   "metadata": {},
   "outputs": [],
   "source": [
    "num_episodes, n_epochs, max_len = (25, 501, 30)"
   ]
  },
  {
   "cell_type": "code",
   "execution_count": 7,
   "metadata": {},
   "outputs": [],
   "source": [
    "actor = lambda s: ActionPolicyNetwork(s, hSeq=(8,), gamma_reg=2.)\n",
    "value = lambda s: ValueNetwork(s, hSeq=(8,), gamma_reg=1.)\n",
    "sensor = lambda st, out_dim: SensoriumNetworkTemplate(st, hSeq=(16,8,), out_dim=out_dim, gamma_reg=5.)"
   ]
  },
  {
   "cell_type": "code",
   "execution_count": 8,
   "metadata": {},
   "outputs": [
    {
     "data": {
      "text/plain": [
       "<module 'embodied_indep' from './embodied_arch/embodied_indep.py'>"
      ]
     },
     "execution_count": 8,
     "metadata": {},
     "output_type": "execute_result"
    }
   ],
   "source": [
    "tf.reset_default_graph()\n",
    "importlib.reload(emi)"
   ]
  },
  {
   "cell_type": "code",
   "execution_count": 9,
   "metadata": {},
   "outputs": [
    {
     "name": "stdout",
     "output_type": "stream",
     "text": [
      "<embodied_indep.EmbodiedAgent_IRFB object at 0x1c389b5210> 3 1\n"
     ]
    }
   ],
   "source": [
    "## REINFORCE\n",
    "# embrf = emi.EmbodiedAgent_IRF(\n",
    "#     name=\"mgRF_k-vs-N-k\", env_=menv, latentDim=4,\n",
    "#     actorNN=actor, sensorium=sensor, alpha=5.e-1,\n",
    "#     max_episode_length=max_len\n",
    "# )\n",
    "\n",
    "## REINFORCE with Baseline\n",
    "embrf = emi.EmbodiedAgent_IRFB(\n",
    "    name=\"mgRFB_k-vs-N-k\",\n",
    "    env_=menv, latentDim=4, \n",
    "    alpha_p=5.e-1, alpha_v=1e-2, \n",
    "    actorNN=actor, valueNN=value,\n",
    "    sensorium=sensor,\n",
    "    max_episode_length=max_len\n",
    ")\n",
    "\n",
    "print(embrf, embrf.s_size, embrf.a_size)"
   ]
  },
  {
   "cell_type": "code",
   "execution_count": 10,
   "metadata": {},
   "outputs": [
    {
     "name": "stdout",
     "output_type": "stream",
     "text": [
      "Tensorboard logs in:  ./log/train_mgRFB_k-vs-N-k\n"
     ]
    }
   ],
   "source": [
    "sess = tf.InteractiveSession()\n",
    "embrf.init_graph(sess)  # note tboard log dir"
   ]
  },
  {
   "cell_type": "code",
   "execution_count": 11,
   "metadata": {},
   "outputs": [
    {
     "data": {
      "text/plain": [
       "array([7., 7.])"
      ]
     },
     "execution_count": 11,
     "metadata": {},
     "output_type": "execute_result"
    }
   ],
   "source": [
    "## Verify step + play set up\n",
    "state = embrf.env.reset()\n",
    "# print(state, embrf.act(state, sess))\n",
    "\n",
    "embrf.play(sess)\n",
    "np.sum(np.array(embrf.episode_buffer['rewards']), axis=0)\n",
    "# np.array(embrf.episode_buffer['rewards'])"
   ]
  },
  {
   "cell_type": "code",
   "execution_count": 12,
   "metadata": {},
   "outputs": [
    {
     "name": "stdout",
     "output_type": "stream",
     "text": [
      "[7. 7.]\n",
      "(7.0, 7.0, 7.0)\n"
     ]
    }
   ],
   "source": [
    "print(embrf.last_total_returns)\n",
    "print(emi.summarize_np(embrf.last_total_returns))"
   ]
  },
  {
   "cell_type": "markdown",
   "metadata": {},
   "source": [
    "### Pre-test Agent"
   ]
  },
  {
   "cell_type": "code",
   "execution_count": 13,
   "metadata": {},
   "outputs": [
    {
     "name": "stdout",
     "output_type": "stream",
     "text": [
      "Baselining untrained pnet...\n",
      "Episode 20/25\n",
      "Agent wins an average of 23.73333333333333 pct\n"
     ]
    }
   ],
   "source": [
    "print('Baselining untrained pnet...')\n",
    "rwd_mg0 = []\n",
    "for k in range(num_episodes):\n",
    "    embrf.play(sess, terminal_reward=0.)\n",
    "    rwd_mg0.append(embrf.last_total_returns)\n",
    "    if k%int(num_episodes/5) == 0: print(\"\\rEpisode {}/{}\".format(k, num_episodes),end=\"\")\n",
    "base_perf_mg = np.mean(np.array(rwd_mg0)/float(embrf.max_episode_length))\n",
    "print(\"\\nAgent wins an average of {} pct\".format(100.0*base_perf_mg))\n",
    "\n",
    "base_per_agent = np.mean(np.array(rwd_mg0)/float(embrf.max_episode_length), axis=0)"
   ]
  },
  {
   "cell_type": "markdown",
   "metadata": {},
   "source": [
    "## Train MARL Agents"
   ]
  },
  {
   "cell_type": "code",
   "execution_count": 14,
   "metadata": {},
   "outputs": [
    {
     "name": "stdout",
     "output_type": "stream",
     "text": [
      "Training...\n",
      "Starting agent mgRFB_k-vs-N-k\n",
      "Epoch no.: 0/501\n",
      "\n",
      "\tStats @Step 0: \t(Min, Mean, Max)\n",
      "Perf/Recent Rewards: (2.0, 6.0, 10.0)\n",
      "Losses/Policy LLs: (-2.945191, -0.43528622, -0.052137643)\n",
      "Losses/Critic Scores: (-0.86334664, 0.47699833, 1.8843292)\n",
      "Losses/Policy Entropies: (0.20086935, 0.39461735, 0.57634664)\n",
      "Saved Model\n",
      "Epoch no.: 100/501\n",
      "\n",
      "\tStats @Step 100: \t(Min, Mean, Max)\n",
      "Perf/Recent Rewards: (3.0, 7.5, 12.0)\n",
      "Losses/Policy LLs: (-2.238146, -0.52603865, -0.107903875)\n",
      "Losses/Critic Scores: (1.7856442, 3.3147087, 4.820733)\n",
      "Losses/Policy Entropies: (0.3300772, 0.46566677, 0.6188556)\n",
      "Saved Model\n",
      "Epoch no.: 200/501\n",
      "\n",
      "\tStats @Step 200: \t(Min, Mean, Max)\n",
      "Perf/Recent Rewards: (30.0, 30.0, 30.0)\n",
      "Losses/Policy LLs: (-0.0003829351, -0.00025083456, -0.00011873398)\n",
      "Losses/Critic Scores: (14.248821, 14.292317, 14.335812)\n",
      "Losses/Policy Entropies: (0.01, 0.01, 0.01)\n",
      "Saved Model\n",
      "Epoch no.: 300/501\n",
      "\n",
      "\tStats @Step 300: \t(Min, Mean, Max)\n",
      "Perf/Recent Rewards: (30.0, 30.0, 30.0)\n",
      "Losses/Policy LLs: (-7.757417e-05, -5.2560885e-05, -2.75476e-05)\n",
      "Losses/Critic Scores: (13.69005, 13.943237, 14.196425)\n",
      "Losses/Policy Entropies: (0.01, 0.01, 0.01)\n",
      "Saved Model\n",
      "Epoch no.: 400/501\n",
      "\n",
      "\tStats @Step 400: \t(Min, Mean, Max)\n",
      "Perf/Recent Rewards: (30.0, 30.0, 30.0)\n",
      "Losses/Policy LLs: (-5.0435618e-05, -4.349667e-05, -3.6557736e-05)\n",
      "Losses/Critic Scores: (14.097852, 14.100567, 14.103281)\n",
      "Losses/Policy Entropies: (0.01, 0.01, 0.01)\n",
      "Saved Model\n",
      "Epoch no.: 500/501\n",
      "\n",
      "\tStats @Step 500: \t(Min, Mean, Max)\n",
      "Perf/Recent Rewards: (30.0, 30.0, 30.0)\n",
      "Losses/Policy LLs: (-5.037284e-05, -4.3491284e-05, -3.660972e-05)\n",
      "Losses/Critic Scores: (14.101129, 14.101132, 14.101135)\n",
      "Losses/Policy Entropies: (0.01, 0.01, 0.01)\n",
      "Saved Model\n"
     ]
    }
   ],
   "source": [
    "# ### Train Agent w/ Algo on Experience Tuples\n",
    "# Train pnet on mingame episodes\n",
    "print('Training...')\n",
    "saver = tf.train.Saver(max_to_keep=1)\n",
    "embrf.work(sess, num_epochs=n_epochs, saver=saver)"
   ]
  },
  {
   "cell_type": "markdown",
   "metadata": {},
   "source": [
    "### Post-test Agent"
   ]
  },
  {
   "cell_type": "code",
   "execution_count": 15,
   "metadata": {},
   "outputs": [
    {
     "name": "stdout",
     "output_type": "stream",
     "text": [
      "Testing...\n",
      "Episode 20/25\n",
      "Agent wins an average of 100.0 pct compared to baseline of 23.73333333333333 pct\n"
     ]
    }
   ],
   "source": [
    "# Test pnet!\n",
    "print('Testing...')\n",
    "rwd_mg = []\n",
    "for k in range(num_episodes):\n",
    "    embrf.play(sess, terminal_reward=0.)\n",
    "    rwd_mg.append(embrf.last_total_returns)\n",
    "    if k%int(num_episodes/5) == 0: print(\"\\rEpisode {}/{}\".format(k, num_episodes),end=\"\")\n",
    "trained_perf_mg = np.mean(np.array(rwd_mg)/float(embrf.max_episode_length))\n",
    "print(\"\\nAgent wins an average of {} pct compared to baseline of {} pct\".format(\n",
    "    100*trained_perf_mg, 100*base_perf_mg) )\n",
    "\n",
    "trained_per_agent = np.mean(np.array(rwd_mg)/float(embrf.max_episode_length), axis=0)"
   ]
  },
  {
   "cell_type": "code",
   "execution_count": 16,
   "metadata": {},
   "outputs": [
    {
     "name": "stdout",
     "output_type": "stream",
     "text": [
      "\n",
      "Agent wins an average of 100.0 pct \n",
      "compared to baseline of 23.73333333333333 pct\n"
     ]
    },
    {
     "data": {
      "image/png": "[encoded data removed]",
      "text/plain": [
       "<Figure size 504x504 with 2 Axes>"
      ]
     },
     "metadata": {},
     "output_type": "display_data"
    }
   ],
   "source": [
    "fig, axs = plt.subplots(2, 1, sharex=True)\n",
    "sns.violinplot(np.array(rwd_mg0)/embrf.max_episode_length - 0.5, ax = axs[0])\n",
    "axs[0].set_title('Baseline Mean Success Rates')\n",
    "sns.violinplot(np.array(rwd_mg)/embrf.max_episode_length - 0.5, ax = axs[1])\n",
    "axs[1].set_title('Trained Mean Success Rate')\n",
    "\n",
    "print(\"\\nAgent wins an average of {} pct \\ncompared to baseline of {} pct\".format(\n",
    "    100*trained_perf_mg, 100*base_perf_mg) )"
   ]
  },
  {
   "cell_type": "code",
   "execution_count": 17,
   "metadata": {},
   "outputs": [
    {
     "data": {
      "text/plain": [
       "<BarContainer object of 2 artists>"
      ]
     },
     "execution_count": 17,
     "metadata": {},
     "output_type": "execute_result"
    },
    {
     "data": {
      "image/png": "[encoded data removed]",
      "text/plain": [
       "<Figure size 504x504 with 2 Axes>"
      ]
     },
     "metadata": {},
     "output_type": "display_data"
    }
   ],
   "source": [
    "fig, axs = plt.subplots(2,1)\n",
    "cmp = sns.boxplot(trained_per_agent-base_per_agent, ax = axs[0])\n",
    "axs[0].set_title('Distribution: Success Rate Per-Agent Improvement');\n",
    "axs[1].bar(x=range(sum(exos)), height=(trained_per_agent-base_per_agent))"
   ]
  },
  {
   "cell_type": "code",
   "execution_count": 18,
   "metadata": {},
   "outputs": [
    {
     "data": {
      "text/plain": [
       "'./log/train_mgRFB_k-vs-N-k/model-500.cptk'"
      ]
     },
     "execution_count": 18,
     "metadata": {},
     "output_type": "execute_result"
    }
   ],
   "source": [
    "embrf.last_good_model"
   ]
  },
  {
   "cell_type": "code",
   "execution_count": null,
   "metadata": {},
   "outputs": [],
   "source": []
  }
 ],
 "metadata": {
  "kernelspec": {
   "display_name": "Python 3",
   "language": "python",
   "name": "python3"
  },
  "language_info": {
   "codemirror_mode": {
    "name": "ipython",
    "version": 3
   },
   "file_extension": ".py",
   "mimetype": "text/x-python",
   "name": "python",
   "nbconvert_exporter": "python",
   "pygments_lexer": "ipython3",
   "version": "3.7.4"
  }
 },
 "nbformat": 4,
 "nbformat_minor": 4
}
