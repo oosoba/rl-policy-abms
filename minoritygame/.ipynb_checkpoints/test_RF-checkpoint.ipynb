{
 "cells": [
  {
   "cell_type": "code",
   "execution_count": null,
   "metadata": {},
   "outputs": [],
   "source": [
    "import minority_agent\n",
    "import gym\n",
    "import tensorflow as tf\n",
    "import itertools\n",
    "import numpy as np\n",
    "import matplotlib.pyplot as plt\n",
    "import seaborn as sns"
   ]
  },
  {
   "cell_type": "code",
   "execution_count": null,
   "metadata": {},
   "outputs": [],
   "source": [
    "# from tensorflow.python import debug as tf_debug # debug\n",
    "import importlib # debug\n",
    "importlib.reload(minority_agent) # debug\n",
    "tf.reset_default_graph()\n",
    "env = gym.make('CartPole-v0')"
   ]
  },
  {
   "cell_type": "code",
   "execution_count": null,
   "metadata": {},
   "outputs": [],
   "source": [
    "learning_rate = 0.01\n",
    "rollout = [[] for i in range(4)]\n",
    "# rollout is [states | actions | rewards | next_states]"
   ]
  },
  {
   "cell_type": "code",
   "execution_count": null,
   "metadata": {},
   "outputs": [],
   "source": [
    "# sess = tf.Session()\n",
    "REINFORCE = minority_agent.REINFORCE_MG(name = 'Tester',\n",
    "                                 s_size = env.observation_space.shape[0],\n",
    "                                 a_size = 1,\n",
    "                                 trainer=tf.train.GradientDescentOptimizer(learning_rate=learning_rate),\n",
    "                                 )"
   ]
  },
  {
   "cell_type": "code",
   "execution_count": null,
   "metadata": {},
   "outputs": [],
   "source": [
    "sess = tf.Session(graph = REINFORCE.graph)\n",
    "# sess = tf_debug.LocalCLIDebugWrapperSession(sess) # debug\n",
    "\n",
    "REINFORCE.init_graph(sess)\n",
    "# sess.run(tf.global_variables_initializer())\n",
    "# sess.run(REINFORCE.init_var())\n",
    "def process_state(state):\n",
    "    # helperfunction to make state the correct dims for tensorflow\n",
    "    # (4,) -> (1, 4)\n",
    "    return np.expand_dims(state,0)"
   ]
  },
  {
   "cell_type": "code",
   "execution_count": null,
   "metadata": {},
   "outputs": [],
   "source": [
    "print('Baselining untrained pnet...')\n",
    "uplen0 = []\n",
    "for k in range(1000):\n",
    "    state = env.reset()\n",
    "    done = False\n",
    "    rewards = []\n",
    "    while done is False:\n",
    "        # env.render() # cannot use this on OSX because OpenAI GYM causes segfaults\n",
    "        state = process_state(state)\n",
    "        action = REINFORCE.generate_action(sess, state)\n",
    "        next_state, reward, done, _ = env.step(np.squeeze(action))\n",
    "        rewards.append(reward)\n",
    "        state = next_state\n",
    "    uplen0.append(len(rewards))\n",
    "#assert sum(rewards)==len(rewards), \"env error?!\"\n",
    "base_perf = np.mean(uplen0)\n",
    "print(\"Cartpole stays up for an average of {} steps\".format(base_perf))\n",
    "#plt.plot(uplen0)"
   ]
  },
  {
   "cell_type": "code",
   "execution_count": null,
   "metadata": {},
   "outputs": [],
   "source": [
    "# Train pnet on cartpole episodes\n",
    "num_episodes = 750\n",
    "episode_rewards = np.zeros(num_episodes)\n",
    "episode_lengths = np.zeros(num_episodes)\n",
    "\n",
    "for i_episode in range(num_episodes):\n",
    "    state = env.reset()\n",
    "    episode = []\n",
    "    # One step in the environment\n",
    "    for t in itertools.count():\n",
    "        state = process_state(state)\n",
    "        # Take a step\n",
    "        # tensor_states = tf.get_variable('Tester/states:0')\n",
    "        # tensor_actions = tf.get_variable('Tester/output_action:0')\n",
    "        # action = sess.run(tensor_actions, feed_dict={tensor_states: state})\n",
    "        # action = sess.run(REINFORCE.a, feed_dict={REINFORCE.states: state})\n",
    "        action = REINFORCE.generate_action(sess, state)\n",
    "        next_state, reward, done, _ = env.step(np.squeeze(action))\n",
    "        # Keep track of the transition\n",
    "        rollout[0].append(state)\n",
    "        rollout[1].append(action)\n",
    "        rollout[2].append(reward)\n",
    "        rollout[3].append(next_state)\n",
    "\n",
    "        # Update statistics\n",
    "        episode_rewards[i_episode] += reward\n",
    "        episode_lengths[i_episode] = t\n",
    "\n",
    "        # Print out which step we're on, useful for debugging.\n",
    "        #print(\"\\rStep {} @ Episode {}/{} ({})\".format(t, i_episode + 1, num_episodes, episode_rewards[i_episode - 1]), end=\"\")\n",
    "        # sys.stdout.flush()\n",
    "        if done:\n",
    "            break\n",
    "        state = next_state\n",
    "\n",
    "     # Go through the episode and make policy updates\n",
    "    REINFORCE.train(rollout, sess, 1.0)\n",
    "    if (i_episode % 50) == 1:\n",
    "        print(\"\\rCartpole up for {} steps on Episode {}\".format(episode_lengths[i_episode], i_episode),\n",
    "              end=\"\")"
   ]
  },
  {
   "cell_type": "code",
   "execution_count": null,
   "metadata": {},
   "outputs": [],
   "source": [
    "# Now test it!\n",
    "\n",
    "print('Testing...')\n",
    "uplen = []\n",
    "for k in range(1000):\n",
    "    state = env.reset()\n",
    "    done = False\n",
    "    rewards = []\n",
    "    while done is False:\n",
    "        # env.render() # cannot use this on OSX because OpenAI GYM causes segfaults\n",
    "        state = process_state(state)\n",
    "        action = REINFORCE.generate_action(sess, state)\n",
    "        next_state, reward, done, _ = env.step(np.squeeze(action))\n",
    "        rewards.append(reward)\n",
    "        state = next_state\n",
    "    uplen.append(len(rewards))\n",
    "#assert sum(rewards)==len(rewards), \"env error?!\"\n",
    "trained_perf = np.mean(uplen)\n",
    "# print(\"Cartpole stays up for an average of {} steps\".format(\n",
    "#     trained_perf) )\n",
    "print(\"Cartpole stays up for an average of {} steps compared to baseline {} steps\".format(\n",
    "    trained_perf, base_perf)\n",
    "     )"
   ]
  },
  {
   "cell_type": "code",
   "execution_count": null,
   "metadata": {},
   "outputs": [],
   "source": [
    "fig, axs = plt.subplots(2, 1, sharex=True)\n",
    "sns.boxplot(uplen0, ax = axs[0])\n",
    "axs[0].set_title('Baseline Episode Lengths')\n",
    "sns.boxplot(uplen, ax = axs[1])\n",
    "axs[1].set_title('Trained Episode Lengths')"
   ]
  },
  {
   "cell_type": "code",
   "execution_count": null,
   "metadata": {},
   "outputs": [],
   "source": []
  }
 ],
 "metadata": {
  "kernelspec": {
   "display_name": "Python 3",
   "language": "python",
   "name": "python3"
  },
  "language_info": {
   "codemirror_mode": {
    "name": "ipython",
    "version": 3
   },
   "file_extension": ".py",
   "mimetype": "text/x-python",
   "name": "python",
   "nbconvert_exporter": "python",
   "pygments_lexer": "ipython3",
   "version": "3.6.8"
  }
 },
 "nbformat": 4,
 "nbformat_minor": 2
}
