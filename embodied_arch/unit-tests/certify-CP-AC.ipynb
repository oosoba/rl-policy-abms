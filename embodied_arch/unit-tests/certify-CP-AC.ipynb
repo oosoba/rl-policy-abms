{
 "cells": [
  {
   "cell_type": "code",
   "execution_count": 1,
   "metadata": {},
   "outputs": [
    {
     "name": "stdout",
     "output_type": "stream",
     "text": [
      "1.15.0\n",
      "WARNING:tensorflow:\n",
      "The TensorFlow contrib module will not be included in TensorFlow 2.0.\n",
      "For more information, please see:\n",
      "  * https://github.com/tensorflow/community/blob/master/rfcs/20180907-contrib-sunset.md\n",
      "  * https://github.com/tensorflow/addons\n",
      "  * https://github.com/tensorflow/io (for I/O related ops)\n",
      "If you depend on functionality not listed there, please file an issue.\n",
      "\n"
     ]
    },
    {
     "name": "stderr",
     "output_type": "stream",
     "text": [
      "/Users/oosoba/Documents/RAND/Coding/gym/gym/logger.py:30: UserWarning: \u001b[33mWARN: Box bound precision lowered by casting to float32\u001b[0m\n",
      "  warnings.warn(colorize('%s: %s'%('WARN', msg % args), 'yellow'))\n"
     ]
    }
   ],
   "source": [
    "import gym, importlib, os, sys, warnings, IPython\n",
    "import tensorflow as tf\n",
    "import itertools\n",
    "import numpy as np\n",
    "import matplotlib.pyplot as plt\n",
    "import seaborn as sns\n",
    "\n",
    "print(tf.__version__)\n",
    "\n",
    "sys.path.append('./embodied_arch/')\n",
    "import embodied_AC as em\n",
    "from embodied_misc import ActionPolicyNetwork, ValueNetwork, SensoriumNetworkTemplate\n",
    "importlib.reload(em)\n",
    "\n",
    "## suppress annoy verbose tf msgs\n",
    "warnings.filterwarnings(\"ignore\")\n",
    "os.environ['TF_CPP_MIN_LOG_LEVEL'] = '2' # '3' to block all including error msgs\n",
    "tf.compat.v1.logging.set_verbosity(tf.compat.v1.logging.ERROR)"
   ]
  },
  {
   "cell_type": "markdown",
   "metadata": {},
   "source": [
    "## Cartpole Benchmark Setup"
   ]
  },
  {
   "cell_type": "code",
   "execution_count": 2,
   "metadata": {},
   "outputs": [],
   "source": [
    "actor = lambda s: ActionPolicyNetwork(s, hSeq=(32,), gamma_reg=1e-1)\n",
    "value = lambda s: ValueNetwork(s, hSeq=(16,16,8,), gamma_reg=1.)\n",
    "sensor = lambda st, out_dim: SensoriumNetworkTemplate(st, hSeq=(16,), out_dim=out_dim, gamma_reg=5.)"
   ]
  },
  {
   "cell_type": "code",
   "execution_count": 3,
   "metadata": {},
   "outputs": [
    {
     "name": "stdout",
     "output_type": "stream",
     "text": [
      "<embodied_AC.EmbodiedAgentAC object at 0x1c392e1990> 4 1\n"
     ]
    }
   ],
   "source": [
    "tf.reset_default_graph()\n",
    "importlib.reload(em)\n",
    "\n",
    "env = gym.make('CartPole-v0')\n",
    "\n",
    "num_episodes, n_epochs = (100, 601)\n",
    "\n",
    "cpac = em.EmbodiedAgentAC(\n",
    "    name=\"cp-emb-ac\", env_=env,\n",
    "    space_size = (4,1),latentDim=4,\n",
    "    alpha_p=5., alpha_v=1e-2, \n",
    "    actorNN=actor, sensorium=sensor, valueNN=value,\n",
    "    _every_=150\n",
    ")\n",
    "\n",
    "print(cpac, cpac.s_size, cpac.a_size)"
   ]
  },
  {
   "cell_type": "code",
   "execution_count": 4,
   "metadata": {},
   "outputs": [
    {
     "name": "stdout",
     "output_type": "stream",
     "text": [
      "Tensorboard logs in:  ./log/train_cp-emb-ac\n"
     ]
    }
   ],
   "source": [
    "saver = tf.train.Saver(max_to_keep=1)  #n_epochs = 1000\n",
    "sess = tf.InteractiveSession() \n",
    "cpac.init_graph(sess)"
   ]
  },
  {
   "cell_type": "code",
   "execution_count": 5,
   "metadata": {},
   "outputs": [
    {
     "name": "stdout",
     "output_type": "stream",
     "text": [
      "[-0.03722493  0.0104505  -0.01674799 -0.01024583] 1\n"
     ]
    },
    {
     "data": {
      "text/plain": [
       "11"
      ]
     },
     "execution_count": 5,
     "metadata": {},
     "output_type": "execute_result"
    }
   ],
   "source": [
    "## Verify step + play set up\n",
    "state = cpac.env.reset()\n",
    "print(state, cpac.act(state, sess))\n",
    "# cpac.env.step(cpac.act(state, sess))\n",
    "\n",
    "cpac.play(sess)\n",
    "cpac.episode_length()"
   ]
  },
  {
   "cell_type": "markdown",
   "metadata": {},
   "source": [
    "## Baseline"
   ]
  },
  {
   "cell_type": "code",
   "execution_count": 6,
   "metadata": {},
   "outputs": [
    {
     "name": "stdout",
     "output_type": "stream",
     "text": [
      "Baselining untrained pnet...\n",
      "Episode 80/100\n",
      "Cartpole stays up for an average of 15.66 steps\n"
     ]
    }
   ],
   "source": [
    "print('Baselining untrained pnet...')\n",
    "uplen0 = []\n",
    "for k in range(num_episodes):\n",
    "    cpac.play(sess, terminal_reward=0.)\n",
    "    uplen0.append(cpac.last_total_return)\n",
    "    if k%20 == 0: print(\"\\rEpisode {}/{}\".format(k, num_episodes),end=\"\")\n",
    "base_perf = np.mean(uplen0)\n",
    "print(\"\\nCartpole stays up for an average of {} steps\".format(base_perf))"
   ]
  },
  {
   "cell_type": "code",
   "execution_count": 7,
   "metadata": {},
   "outputs": [],
   "source": [
    "st = cpac.env.reset()"
   ]
  },
  {
   "cell_type": "markdown",
   "metadata": {},
   "source": [
    "## Train"
   ]
  },
  {
   "cell_type": "code",
   "execution_count": 8,
   "metadata": {},
   "outputs": [
    {
     "name": "stdout",
     "output_type": "stream",
     "text": [
      "\tIteration 1249: Value loss(0.6915042400360107))"
     ]
    },
    {
     "data": {
      "text/plain": [
       "[<matplotlib.lines.Line2D at 0x1c3a039c50>]"
      ]
     },
     "execution_count": 8,
     "metadata": {},
     "output_type": "execute_result"
    },
    {
     "data": {
      "image/png": "[encoded data removed]",
      "text/plain": [
       "<Figure size 432x288 with 1 Axes>"
      ]
     },
     "metadata": {
      "needs_background": "light"
     },
     "output_type": "display_data"
    }
   ],
   "source": [
    "obs = []\n",
    "for ct in range(1250):\n",
    "    cpac.play(sess)\n",
    "    tmp = cpac.pretrainV(sess)\n",
    "    obs.append(tmp)\n",
    "    print('\\r\\tIteration {}: Value loss({})'.format(ct, tmp), end=\"\")\n",
    "plt.plot(obs)"
   ]
  },
  {
   "cell_type": "code",
   "execution_count": 9,
   "metadata": {},
   "outputs": [
    {
     "data": {
      "text/plain": [
       "<matplotlib.axes._subplots.AxesSubplot at 0x1c3a155550>"
      ]
     },
     "execution_count": 9,
     "metadata": {},
     "output_type": "execute_result"
    },
    {
     "data": {
      "image/png": "[encoded data removed]",
      "text/plain": [
       "<Figure size 432x288 with 1 Axes>"
      ]
     },
     "metadata": {
      "needs_background": "light"
     },
     "output_type": "display_data"
    }
   ],
   "source": [
    "sns.violinplot(obs)"
   ]
  },
  {
   "cell_type": "code",
   "execution_count": 10,
   "metadata": {},
   "outputs": [
    {
     "name": "stdout",
     "output_type": "stream",
     "text": [
      "Training...\n",
      "Starting agent cp-emb-ac\n",
      "Epoch no.: 0/601\n",
      "Step 0: Stats(['Perf/Recent Reward', 'Losses/Policy LL', 'Losses/Value Fxn', 'Losses/Entropy']): ( [-1.0, -0.023739362, 0.35078445, 0.5303699] )\n",
      "Saved Model\n",
      "Epoch no.: 150/601\n",
      "Step 150: Stats(['Perf/Recent Reward', 'Losses/Policy LL', 'Losses/Value Fxn', 'Losses/Entropy']): ( [13.0, 0.05897219, 1.2869639, 0.62686294] )\n",
      "Saved Model\n",
      "Epoch no.: 300/601\n",
      "Step 300: Stats(['Perf/Recent Reward', 'Losses/Policy LL', 'Losses/Value Fxn', 'Losses/Entropy']): ( [139.0, 0.48123765, 1.9843675, 0.5843714] )\n",
      "Saved Model\n",
      "Epoch no.: 450/601\n",
      "Step 450: Stats(['Perf/Recent Reward', 'Losses/Policy LL', 'Losses/Value Fxn', 'Losses/Entropy']): ( [189.0, 0.104013234, 1.9172249, 0.5998498] )\n",
      "Saved Model\n",
      "Epoch no.: 600/601\n",
      "Step 600: Stats(['Perf/Recent Reward', 'Losses/Policy LL', 'Losses/Value Fxn', 'Losses/Entropy']): ( [189.0, 0.11262673, 1.9187517, 0.530327] )\n",
      "Saved Model\n"
     ]
    }
   ],
   "source": [
    "# Train pnet on cartpole episodes\n",
    "print('Training...')\n",
    "saver = tf.train.Saver(max_to_keep=1)\n",
    "hist = cpac.work(sess, saver, num_epochs=n_epochs)"
   ]
  },
  {
   "cell_type": "code",
   "execution_count": 11,
   "metadata": {},
   "outputs": [
    {
     "data": {
      "text/plain": [
       "<matplotlib.axes._subplots.AxesSubplot at 0x12e729c90>"
      ]
     },
     "execution_count": 11,
     "metadata": {},
     "output_type": "execute_result"
    },
    {
     "data": {
      "image/png": "[encoded data removed]",
      "text/plain": [
       "<Figure size 432x288 with 1 Axes>"
      ]
     },
     "metadata": {
      "needs_background": "light"
     },
     "output_type": "display_data"
    }
   ],
   "source": [
    "sns.violinplot(hist)"
   ]
  },
  {
   "cell_type": "markdown",
   "metadata": {},
   "source": [
    "## Test"
   ]
  },
  {
   "cell_type": "code",
   "execution_count": 12,
   "metadata": {},
   "outputs": [
    {
     "name": "stdout",
     "output_type": "stream",
     "text": [
      "Testing...\n",
      "Episode 80/100\n",
      "Cartpole stays up for an average of 197.85 steps compared to baseline 15.66 steps\n"
     ]
    }
   ],
   "source": [
    "# Test pnet!\n",
    "print('Testing...')\n",
    "uplen = []\n",
    "for k in range(num_episodes):\n",
    "    cpac.play(sess, terminal_reward=0.)\n",
    "    uplen.append(cpac.last_total_return)\n",
    "    if k%20 == 0: print(\"\\rEpisode {}/{}\".format(k, num_episodes),end=\"\")\n",
    "trained_perf = np.mean(uplen)\n",
    "print(\"\\nCartpole stays up for an average of {} steps compared to baseline {} steps\".format(trained_perf, base_perf) )"
   ]
  },
  {
   "cell_type": "markdown",
   "metadata": {},
   "source": [
    "## Evaluate"
   ]
  },
  {
   "cell_type": "code",
   "execution_count": 13,
   "metadata": {},
   "outputs": [
    {
     "data": {
      "text/plain": [
       "Text(0.5, 1.0, 'Trained Episode Lengths')"
      ]
     },
     "execution_count": 13,
     "metadata": {},
     "output_type": "execute_result"
    },
    {
     "data": {
      "image/png": "[encoded data removed]",
      "text/plain": [
       "<Figure size 432x288 with 2 Axes>"
      ]
     },
     "metadata": {
      "needs_background": "light"
     },
     "output_type": "display_data"
    }
   ],
   "source": [
    "fig, axs = plt.subplots(2, 1, sharex=True)\n",
    "sns.violinplot(uplen0, ax = axs[0])\n",
    "axs[0].set_title('Baseline Episode Lengths')\n",
    "sns.violinplot(uplen, ax = axs[1])\n",
    "axs[1].set_title('Trained Episode Lengths')"
   ]
  },
  {
   "cell_type": "code",
   "execution_count": 14,
   "metadata": {},
   "outputs": [],
   "source": [
    "# buf = []\n",
    "# last_total_return, d, s = 0, False, cpac.env.reset() \n",
    "# while (len(buf) < 1000) and not d:\n",
    "#     a_t = cpac.act(s, sess) \n",
    "#     s1, r, d, *rest = cpac.env.step(a_t)\n",
    "#     cpac.env.render()\n",
    "#     buf.append([s, a_t, float(r), s1])\n",
    "#     last_total_return += float(r)\n",
    "#     s = s1\n",
    "#     print(\"\\r\\tEpisode Length\", len(buf), end=\"\")"
   ]
  },
  {
   "cell_type": "code",
   "execution_count": 15,
   "metadata": {},
   "outputs": [],
   "source": [
    "# sess.close()"
   ]
  }
 ],
 "metadata": {
  "kernelspec": {
   "display_name": "Python 3",
   "language": "python",
   "name": "python3"
  },
  "language_info": {
   "codemirror_mode": {
    "name": "ipython",
    "version": 3
   },
   "file_extension": ".py",
   "mimetype": "text/x-python",
   "name": "python",
   "nbconvert_exporter": "python",
   "pygments_lexer": "ipython3",
   "version": "3.7.4"
  }
 },
 "nbformat": 4,
 "nbformat_minor": 4
}
