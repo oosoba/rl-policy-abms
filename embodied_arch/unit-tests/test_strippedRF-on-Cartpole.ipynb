{
 "cells": [
  {
   "cell_type": "code",
   "execution_count": 1,
   "metadata": {},
   "outputs": [
    {
     "data": {
      "application/javascript": [
       "IPython.notebook.set_autosave_interval(240000)"
      ]
     },
     "metadata": {},
     "output_type": "display_data"
    },
    {
     "name": "stdout",
     "output_type": "stream",
     "text": [
      "Autosaving every 240 seconds\n",
      "\n",
      "WARNING: The TensorFlow contrib module will not be included in TensorFlow 2.0.\n",
      "For more information, please see:\n",
      "  * https://github.com/tensorflow/community/blob/master/rfcs/20180907-contrib-sunset.md\n",
      "  * https://github.com/tensorflow/addons\n",
      "If you depend on functionality not listed there, please file an issue.\n",
      "\n"
     ]
    }
   ],
   "source": [
    "import gym, importlib, sys, warnings, IPython\n",
    "import itertools\n",
    "import numpy as np\n",
    "import matplotlib.pyplot as plt\n",
    "import seaborn as sns\n",
    "\n",
    "%autosave 240\n",
    "warnings.filterwarnings(\"ignore\")\n",
    "\n",
    "import tensorflow as tf\n",
    "import tensorflow_probability as tfp\n",
    "import tensorflow.contrib.slim as slim\n",
    "from scipy.signal import lfilter"
   ]
  },
  {
   "cell_type": "code",
   "execution_count": 2,
   "metadata": {},
   "outputs": [
    {
     "data": {
      "text/plain": [
       "'1.13.1'"
      ]
     },
     "execution_count": 2,
     "metadata": {},
     "output_type": "execute_result"
    }
   ],
   "source": [
    "tf.__version__"
   ]
  },
  {
   "cell_type": "code",
   "execution_count": 3,
   "metadata": {},
   "outputs": [],
   "source": [
    "def discount(x, gamma=0.99): return lfilter([1], [1, -gamma], x[::-1], axis=0)[::-1]\n",
    "\n",
    "def maximize(optimizer, value, **kwargs): return optimizer.minimize(-value, **kwargs)"
   ]
  },
  {
   "cell_type": "code",
   "execution_count": 4,
   "metadata": {},
   "outputs": [],
   "source": [
    "name=\"cp-stripped\"\n",
    "num_episodes = 100\n",
    "n_epochs = 501 # 10001\n",
    "max_buf = 1000"
   ]
  },
  {
   "cell_type": "markdown",
   "metadata": {},
   "source": [
    "## Cartpole Setup"
   ]
  },
  {
   "cell_type": "code",
   "execution_count": 5,
   "metadata": {},
   "outputs": [
    {
     "name": "stdout",
     "output_type": "stream",
     "text": [
      "4 Discrete(2)\n"
     ]
    },
    {
     "data": {
      "text/plain": [
       "array([-1.8415875e+00,  2.8113519e+38, -8.1797257e-02, -9.3371685e+37],\n",
       "      dtype=float32)"
      ]
     },
     "execution_count": 5,
     "metadata": {},
     "output_type": "execute_result"
    }
   ],
   "source": [
    "tf.reset_default_graph()\n",
    "env = gym.make('CartPole-v0')\n",
    "print(env.observation_space.shape[0], env.action_space)\n",
    "env.observation_space.sample()"
   ]
  },
  {
   "cell_type": "code",
   "execution_count": 6,
   "metadata": {},
   "outputs": [
    {
     "data": {
      "text/plain": [
       "[0, 0, 0, 0, 1, 0, 0, 1, 0, 1]"
      ]
     },
     "execution_count": 6,
     "metadata": {},
     "output_type": "execute_result"
    }
   ],
   "source": [
    "[env.action_space.sample() for _ in range(10)]\n",
    "\n",
    "# st = env.reset()\n",
    "# [act(sess.run(actor, feed_dict={states_St:[st]}).squeeze()) for _ in range(10)]"
   ]
  },
  {
   "cell_type": "markdown",
   "metadata": {},
   "source": [
    "## Setup Stripped-down Policy Net"
   ]
  },
  {
   "cell_type": "code",
   "execution_count": 7,
   "metadata": {},
   "outputs": [
    {
     "name": "stdout",
     "output_type": "stream",
     "text": [
      "WARNING:tensorflow:From /home/alterego/miniconda3/lib/python3.7/site-packages/tensorflow/contrib/layers/python/layers/layers.py:1624: flatten (from tensorflow.python.layers.core) is deprecated and will be removed in a future version.\n",
      "Instructions for updating:\n",
      "Use keras.layers.flatten instead.\n",
      "WARNING:tensorflow:From /home/alterego/miniconda3/lib/python3.7/site-packages/tensorflow/python/framework/op_def_library.py:263: colocate_with (from tensorflow.python.framework.ops) is deprecated and will be removed in a future version.\n",
      "Instructions for updating:\n",
      "Colocations handled automatically by placer.\n"
     ]
    }
   ],
   "source": [
    "alpha=0.52\n",
    "hseq0 = [int(h) for h in [\"16\"]*2]\n",
    "wgts_init = tf.truncated_normal_initializer(stddev=0.01)\n",
    "bias_init = tf.truncated_normal_initializer(mean=0.01, stddev=0.01)\n",
    "\n",
    "def PolicyNet(state, \n",
    "              hSeq=hseq0, \n",
    "              gamma_reg=1e-1):\n",
    "    '''Agent's Action Policy Network (example)\n",
    "        This one is for a binary action space'''\n",
    "    with tf.variable_scope(\"pnet\"):\n",
    "        regularizer = slim.l2_regularizer(gamma_reg)\n",
    "        hidden = slim.fully_connected(\n",
    "            slim.flatten(state),\n",
    "            num_outputs=hSeq[0],\n",
    "            activation_fn=tf.nn.relu,\n",
    "            weights_regularizer=regularizer,\n",
    "            weights_initializer=wgts_init,\n",
    "            biases_initializer=bias_init\n",
    "        )\n",
    "        if (len(hSeq) > 1):\n",
    "            hidden = slim.stack(hidden,\n",
    "                                slim.fully_connected,\n",
    "                                list(hSeq[1:]),\n",
    "                                activation_fn=tf.nn.relu,\n",
    "                                weights_regularizer=regularizer,\n",
    "                                weights_initializer=wgts_init,\n",
    "                                biases_initializer=bias_init\n",
    "                                )\n",
    "        apn = slim.fully_connected(\n",
    "            hidden, 1,\n",
    "            activation_fn=tf.nn.sigmoid,\n",
    "            weights_initializer=wgts_init,\n",
    "            biases_initializer=bias_init\n",
    "        )\n",
    "    return apn\n",
    "\n",
    "states_St = tf.placeholder(shape=[None, env.observation_space.shape[0]], dtype=tf.float32, name='states')\n",
    "returns_Gt = tf.placeholder(shape=[None, 1], dtype=tf.float32, name='returns_discounted')\n",
    "actions_At = tf.placeholder(shape=[None, 1], dtype=tf.float32, name='actions-taken')\n",
    "\n",
    "actor = PolicyNet(states_St)\n",
    "act = lambda p: 1*(np.random.rand() < p)\n",
    "\n",
    "lnPi_t = (actions_At) * tf.log(actor) + (1.-actions_At)*tf.log(1.-actor)\n",
    "GlnPi_t = returns_Gt * lnPi_t\n",
    "rfobj = alpha * tf.reduce_sum(GlnPi_t)\n",
    "rfoptimizer = tf.train.AdamOptimizer(learning_rate=3e-3)\n",
    "# rfoptimizer = tf.train.GradientDescentOptimizer(learning_rate=1e-1)\n",
    "rf_train = rfoptimizer.minimize(-1.*rfobj)\n",
    "rf_grads = rfoptimizer.compute_gradients(loss=rfobj, \n",
    "                                         var_list=tf.trainable_variables(scope=\"pnet\"))\n",
    "gvs = rfoptimizer.compute_gradients(loss=rfobj, \n",
    "                                    var_list=tf.trainable_variables(scope=\"pnet\"))\n",
    "\n",
    "def train(sess, epbuf):\n",
    "    buf = np.array(epbuf)\n",
    "    states = np.squeeze(buf[:, 0])\n",
    "    actions = np.squeeze(buf[:, 1])\n",
    "    rewards = np.squeeze(buf[:, 2])\n",
    "    next_states = np.squeeze(buf[:, 3])\n",
    "\n",
    "    # generate discounted returns; goes into G_t\n",
    "    discounted_returns = discount(np.hstack([rewards, [0.]]))\n",
    "    discounted_returns = discounted_returns[:-1, None]\n",
    "    feed_dict = {\n",
    "        states_St: np.vstack(states),\n",
    "        actions_At: np.vstack(actions),\n",
    "        returns_Gt: np.vstack(discounted_returns)\n",
    "    }\n",
    "    # Generate network statistics to periodically save\n",
    "    obj, LL, _ = sess.run(\n",
    "        [rfobj, tf.reduce_mean(lnPi_t), rf_train],\n",
    "        feed_dict=feed_dict\n",
    "    )\n",
    "    return obj, LL\n",
    "\n",
    "def get_rollout(env, buf_lim=max_buf):\n",
    "    buf = []\n",
    "    last_total_return, d, s = 0, False, env.reset() \n",
    "    while (len(buf) < buf_lim) and not d:\n",
    "        a_t = act(sess.run(actor, \n",
    "                   feed_dict={states_St:np.expand_dims(s.flatten(),axis=0)}).squeeze()) \n",
    "        s1, r, d, *rest = env.step(a_t)\n",
    "        buf.append([s, a_t, float(r), s1])\n",
    "        last_total_return += float(r)\n",
    "        s = s1\n",
    "    return buf, last_total_return"
   ]
  },
  {
   "cell_type": "markdown",
   "metadata": {},
   "source": [
    "### Training..."
   ]
  },
  {
   "cell_type": "code",
   "execution_count": 8,
   "metadata": {},
   "outputs": [],
   "source": [
    "saver = tf.train.Saver(max_to_keep=1)\n",
    "sess = tf.InteractiveSession()\n",
    "sess.run(tf.global_variables_initializer())"
   ]
  },
  {
   "cell_type": "markdown",
   "metadata": {},
   "source": [
    "### Baseline agent"
   ]
  },
  {
   "cell_type": "code",
   "execution_count": 9,
   "metadata": {},
   "outputs": [
    {
     "name": "stdout",
     "output_type": "stream",
     "text": [
      "Baselining untrained pnet...\n",
      "Episode 95/100\n",
      "Cartpole stays up for an average of 21.74 steps\n"
     ]
    }
   ],
   "source": [
    "print('Baselining untrained pnet...')\n",
    "uplen0 = []\n",
    "for k in range(num_episodes):\n",
    "    episode_buffer, last_total_return = get_rollout(env)\n",
    "    uplen0.append(last_total_return)\n",
    "    if k%5 == 0: print(\"\\rEpisode {}/{}\".format(k, num_episodes),end=\"\")\n",
    "base_perf = np.mean(uplen0)\n",
    "print(\"\\nCartpole stays up for an average of {} steps\".format(base_perf))"
   ]
  },
  {
   "cell_type": "markdown",
   "metadata": {},
   "source": [
    "## Train"
   ]
  },
  {
   "cell_type": "code",
   "execution_count": 10,
   "metadata": {},
   "outputs": [
    {
     "name": "stdout",
     "output_type": "stream",
     "text": [
      "Starting agent cp-stripped\n",
      "Epoch no.: 500/501 \tReward, Obj, mean LL: (195, -3066.010009765625, -0.5286259651184082)"
     ]
    }
   ],
   "source": [
    "print(\"Starting agent \" + str(name))\n",
    "obs = []\n",
    "with sess.as_default(), sess.graph.as_default():\n",
    "    for tk in range(int(n_epochs)):\n",
    "        episode_buffer, last_total_return = get_rollout(env)\n",
    "        ob, ll = train(sess, episode_buffer)\n",
    "        obs.append(ob)\n",
    "        print(\"\\rEpoch no.: {}/{} \\tReward, Obj, mean LL: ({}, {}, {})\".format(tk, n_epochs, len(episode_buffer), ob, ll), end=\"\")"
   ]
  },
  {
   "cell_type": "code",
   "execution_count": 11,
   "metadata": {},
   "outputs": [
    {
     "data": {
      "text/plain": [
       "[<matplotlib.lines.Line2D at 0x7fb2c3c68b00>]"
      ]
     },
     "execution_count": 11,
     "metadata": {},
     "output_type": "execute_result"
    },
    {
     "data": {
      "image/png": "[encoded data removed]",
      "text/plain": [
       "<Figure size 432x288 with 1 Axes>"
      ]
     },
     "metadata": {
      "needs_background": "light"
     },
     "output_type": "display_data"
    }
   ],
   "source": [
    "plt.plot(obs)"
   ]
  },
  {
   "cell_type": "markdown",
   "metadata": {},
   "source": [
    "## Test & Evaluate"
   ]
  },
  {
   "cell_type": "code",
   "execution_count": 12,
   "metadata": {},
   "outputs": [
    {
     "name": "stdout",
     "output_type": "stream",
     "text": [
      "Testing...\n",
      "Episode 95/100\n",
      "Cartpole stays up for an average of 176.84 steps compared to baseline 21.74 steps\n"
     ]
    }
   ],
   "source": [
    "# Test pnet!\n",
    "print('Testing...') \n",
    "\n",
    "uplen = []\n",
    "for k in range(num_episodes):\n",
    "    episode_buffer, last_total_return = get_rollout(env)\n",
    "    uplen.append(last_total_return)\n",
    "    if k%5 == 0: print(\"\\rEpisode {}/{}\".format(k, num_episodes),end=\"\")\n",
    "trained_perf = np.mean(uplen)\n",
    "print(\"\\nCartpole stays up for an average of {} steps compared to baseline {} steps\".format(trained_perf, base_perf) )"
   ]
  },
  {
   "cell_type": "code",
   "execution_count": 13,
   "metadata": {},
   "outputs": [
    {
     "data": {
      "text/plain": [
       "Text(0.5, 1.0, 'Trained Episode Lengths')"
      ]
     },
     "execution_count": 13,
     "metadata": {},
     "output_type": "execute_result"
    },
    {
     "data": {
      "image/png": "[encoded data removed]",
      "text/plain": [
       "<Figure size 432x288 with 2 Axes>"
      ]
     },
     "metadata": {
      "needs_background": "light"
     },
     "output_type": "display_data"
    }
   ],
   "source": [
    "fig, axs = plt.subplots(2, 1, sharex=True)\n",
    "sns.boxplot(uplen0, ax = axs[0])\n",
    "axs[0].set_title('Baseline Episode Lengths')\n",
    "sns.boxplot(uplen, ax = axs[1])\n",
    "axs[1].set_title('Trained Episode Lengths')"
   ]
  },
  {
   "cell_type": "code",
   "execution_count": 14,
   "metadata": {},
   "outputs": [
    {
     "name": "stdout",
     "output_type": "stream",
     "text": [
      "\tEpisode Length 184"
     ]
    }
   ],
   "source": [
    "buf = []\n",
    "last_total_return, d, s = 0, False, env.reset() \n",
    "while (len(buf) < 1000) and not d:\n",
    "    a_t = act(sess.run(actor, \n",
    "               feed_dict={states_St:np.expand_dims(s.flatten(),axis=0)}).squeeze()) \n",
    "    s1, r, d, *rest = env.step(a_t)\n",
    "    env.render()\n",
    "    buf.append([s, a_t, float(r), s1])\n",
    "    last_total_return += float(r)\n",
    "    s = s1\n",
    "    print(\"\\r\\tEpisode Length\", len(buf), end=\"\")"
   ]
  },
  {
   "cell_type": "code",
   "execution_count": 15,
   "metadata": {},
   "outputs": [],
   "source": [
    "sess.close()"
   ]
  },
  {
   "cell_type": "code",
   "execution_count": null,
   "metadata": {},
   "outputs": [],
   "source": []
  }
 ],
 "metadata": {
  "kernelspec": {
   "display_name": "Python 3",
   "language": "python",
   "name": "python3"
  },
  "language_info": {
   "codemirror_mode": {
    "name": "ipython",
    "version": 3
   },
   "file_extension": ".py",
   "mimetype": "text/x-python",
   "name": "python",
   "nbconvert_exporter": "python",
   "pygments_lexer": "ipython3",
   "version": "3.6.8"
  }
 },
 "nbformat": 4,
 "nbformat_minor": 2
}
