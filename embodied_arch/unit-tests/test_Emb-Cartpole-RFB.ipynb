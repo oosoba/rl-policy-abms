{
 "cells": [
  {
   "cell_type": "code",
   "execution_count": 1,
   "metadata": {},
   "outputs": [
    {
     "data": {
      "application/javascript": [
       "IPython.notebook.set_autosave_interval(240000)"
      ]
     },
     "metadata": {},
     "output_type": "display_data"
    },
    {
     "name": "stdout",
     "output_type": "stream",
     "text": [
      "Autosaving every 240 seconds\n",
      "1.13.1\n"
     ]
    }
   ],
   "source": [
    "import gym, importlib, sys, warnings, IPython\n",
    "import tensorflow as tf\n",
    "import itertools\n",
    "import numpy as np\n",
    "import matplotlib.pyplot as plt\n",
    "import seaborn as sns\n",
    "\n",
    "%autosave 240\n",
    "warnings.filterwarnings(\"ignore\")\n",
    "print(tf.__version__)"
   ]
  },
  {
   "cell_type": "code",
   "execution_count": 2,
   "metadata": {},
   "outputs": [
    {
     "data": {
      "text/plain": [
       "<module 'embodied' from '../../embodied_arch/embodied.py'>"
      ]
     },
     "execution_count": 2,
     "metadata": {},
     "output_type": "execute_result"
    }
   ],
   "source": [
    "sys.path.append('../../embodied_arch/')\n",
    "import embodied as emg\n",
    "from embodied_misc import ActionPolicyNetwork, SensoriumNetworkTemplate\n",
    "importlib.reload(emg)"
   ]
  },
  {
   "cell_type": "markdown",
   "metadata": {},
   "source": [
    "## Cartpole Benchmark Setup"
   ]
  },
  {
   "cell_type": "code",
   "execution_count": 3,
   "metadata": {},
   "outputs": [],
   "source": [
    "actor = lambda s: ActionPolicyNetwork(s, hSeq=(10,), gamma_reg=1e-1)\n",
    "sensor = lambda st, out_dim: SensoriumNetworkTemplate(st, hSeq=(32,), out_dim=out_dim, gamma_reg=1e-1)"
   ]
  },
  {
   "cell_type": "code",
   "execution_count": 4,
   "metadata": {},
   "outputs": [
    {
     "name": "stdout",
     "output_type": "stream",
     "text": [
      "WARNING:tensorflow:From /home/alterego/miniconda3/lib/python3.7/site-packages/tensorflow/contrib/layers/python/layers/layers.py:1624: flatten (from tensorflow.python.layers.core) is deprecated and will be removed in a future version.\n",
      "Instructions for updating:\n",
      "Use keras.layers.flatten instead.\n",
      "WARNING:tensorflow:From /home/alterego/miniconda3/lib/python3.7/site-packages/tensorflow/python/framework/op_def_library.py:263: colocate_with (from tensorflow.python.framework.ops) is deprecated and will be removed in a future version.\n",
      "Instructions for updating:\n",
      "Colocations handled automatically by placer.\n",
      "<embodied.EmbodiedAgentRFBaselined object at 0x7f83db4cc438> 4 1\n"
     ]
    }
   ],
   "source": [
    "tf.reset_default_graph()\n",
    "importlib.reload(emg)\n",
    "env = gym.make('CartPole-v0')\n",
    "# cprf = emg.EmbodiedAgentRF(name=\"cp-emb\", env_=env,\n",
    "#                            space_size = (4,1),latentDim=8,\n",
    "#                            alpha=0.52, actorNN=actor, sensorium=sensor\n",
    "#                           ) \n",
    "cprf = emg.EmbodiedAgentRFBaselined(name=\"cp-emb-b\", env_=env,\n",
    "                           space_size = (4,1),latentDim=8,\n",
    "                           alpha_p=0.52, alpha_v=0.52, actorNN=actor, sensorium=sensor )\n",
    "print(cprf, cprf.s_size, cprf.a_size)"
   ]
  },
  {
   "cell_type": "code",
   "execution_count": 5,
   "metadata": {},
   "outputs": [
    {
     "name": "stdout",
     "output_type": "stream",
     "text": [
      "Tensorboard logs in:  ./log/train_cp-emb-b\n"
     ]
    }
   ],
   "source": [
    "saver = tf.train.Saver(max_to_keep=1)  #n_epochs = 1000\n",
    "sess = tf.InteractiveSession() \n",
    "cprf.init_graph(sess)\n",
    "\n",
    "num_episodes = 100\n",
    "n_epochs = 2001"
   ]
  },
  {
   "cell_type": "code",
   "execution_count": 6,
   "metadata": {},
   "outputs": [
    {
     "name": "stdout",
     "output_type": "stream",
     "text": [
      "[-0.04607967 -0.01724731  0.02800063 -0.04012387] 0\n"
     ]
    },
    {
     "data": {
      "text/plain": [
       "12"
      ]
     },
     "execution_count": 6,
     "metadata": {},
     "output_type": "execute_result"
    }
   ],
   "source": [
    "## Verify step + play set up\n",
    "state = cprf.env.reset()\n",
    "print(state, cprf.act(state, sess))\n",
    "cprf.env.step(cprf.act(state, sess))\n",
    "cprf.play(sess)\n",
    "len(cprf.episode_buffer)"
   ]
  },
  {
   "cell_type": "markdown",
   "metadata": {},
   "source": [
    "## Baseline"
   ]
  },
  {
   "cell_type": "code",
   "execution_count": 7,
   "metadata": {},
   "outputs": [
    {
     "name": "stdout",
     "output_type": "stream",
     "text": [
      "Baselining untrained pnet...\n",
      "Episode 80/100\n",
      "Cartpole stays up for an average of 20.32 steps\n"
     ]
    }
   ],
   "source": [
    "print('Baselining untrained pnet...')\n",
    "uplen0 = []\n",
    "for k in range(num_episodes):\n",
    "    cprf.play(sess)\n",
    "    uplen0.append(cprf.last_total_return) # uplen0.append(len(cprf.episode_buffer))\n",
    "    if k%20 == 0: print(\"\\rEpisode {}/{}\".format(k, num_episodes),end=\"\")\n",
    "base_perf = np.mean(uplen0)\n",
    "print(\"\\nCartpole stays up for an average of {} steps\".format(base_perf))"
   ]
  },
  {
   "cell_type": "markdown",
   "metadata": {},
   "source": [
    "## Train"
   ]
  },
  {
   "cell_type": "code",
   "execution_count": 8,
   "metadata": {},
   "outputs": [
    {
     "name": "stdout",
     "output_type": "stream",
     "text": [
      "Training...\n",
      "Starting agent cp-emb-b\n",
      "Epoch no.: 0/2001\n",
      "Step 0: Stats(['Perf/Recent Reward', 'Losses/Policy LL', 'Losses/Value Fxn', 'Losses/Entropy']): ( [35.0, -0.6930508, 44676.3, 0.69314665] )\n",
      "Saved Model\n",
      "Epoch no.: 500/2001\n",
      "Step 500: Stats(['Perf/Recent Reward', 'Losses/Policy LL', 'Losses/Value Fxn', 'Losses/Entropy']): ( [200.0, -0.54374105, 163926.95, 0.5770844] )\n",
      "WARNING:tensorflow:From /home/alterego/miniconda3/lib/python3.7/site-packages/tensorflow/python/training/saver.py:966: remove_checkpoint (from tensorflow.python.training.checkpoint_management) is deprecated and will be removed in a future version.\n",
      "Instructions for updating:\n",
      "Use standard file APIs to delete files with this prefix.\n",
      "Saved Model\n",
      "Epoch no.: 1000/2001\n",
      "Step 1000: Stats(['Perf/Recent Reward', 'Losses/Policy LL', 'Losses/Value Fxn', 'Losses/Entropy']): ( [177.0, -0.50598234, 132999.44, 0.5160964] )\n",
      "Saved Model\n",
      "Epoch no.: 1500/2001\n",
      "Step 1500: Stats(['Perf/Recent Reward', 'Losses/Policy LL', 'Losses/Value Fxn', 'Losses/Entropy']): ( [185.0, -0.4403503, 140561.02, 0.43539] )\n",
      "Saved Model\n",
      "Epoch no.: 2000/2001\n",
      "Step 2000: Stats(['Perf/Recent Reward', 'Losses/Policy LL', 'Losses/Value Fxn', 'Losses/Entropy']): ( [200.0, -0.39989007, 155116.73, 0.42565745] )\n",
      "Saved Model\n"
     ]
    }
   ],
   "source": [
    "# Train pnet on cartpole episodes\n",
    "print('Training...')\n",
    "saver = tf.train.Saver(max_to_keep=1)\n",
    "cprf.work(sess, saver, num_epochs = n_epochs)"
   ]
  },
  {
   "cell_type": "markdown",
   "metadata": {},
   "source": [
    "## Test"
   ]
  },
  {
   "cell_type": "code",
   "execution_count": 9,
   "metadata": {},
   "outputs": [
    {
     "name": "stdout",
     "output_type": "stream",
     "text": [
      "Testing...\n",
      "Episode 80/100\n",
      "Cartpole stays up for an average of 199.36 steps compared to baseline 20.32 steps\n"
     ]
    }
   ],
   "source": [
    "# Test pnet!\n",
    "print('Testing...')\n",
    "uplen = []\n",
    "for k in range(num_episodes):\n",
    "    cprf.play(sess)\n",
    "    uplen.append(cprf.last_total_return) # uplen.append(len(cprf.episode_buffer))\n",
    "    if k%20 == 0: print(\"\\rEpisode {}/{}\".format(k, num_episodes),end=\"\")\n",
    "trained_perf = np.mean(uplen)\n",
    "print(\"\\nCartpole stays up for an average of {} steps compared to baseline {} steps\".format(trained_perf, base_perf) )"
   ]
  },
  {
   "cell_type": "markdown",
   "metadata": {},
   "source": [
    "## Evaluate"
   ]
  },
  {
   "cell_type": "code",
   "execution_count": 10,
   "metadata": {},
   "outputs": [
    {
     "data": {
      "text/plain": [
       "Text(0.5, 1.0, 'Trained Episode Lengths')"
      ]
     },
     "execution_count": 10,
     "metadata": {},
     "output_type": "execute_result"
    },
    {
     "data": {
      "image/png": "[encoded data removed]",
      "text/plain": [
       "<Figure size 432x288 with 2 Axes>"
      ]
     },
     "metadata": {
      "needs_background": "light"
     },
     "output_type": "display_data"
    }
   ],
   "source": [
    "fig, axs = plt.subplots(2, 1, sharex=True)\n",
    "sns.boxplot(uplen0, ax = axs[0])\n",
    "axs[0].set_title('Baseline Episode Lengths')\n",
    "sns.boxplot(uplen, ax = axs[1])\n",
    "axs[1].set_title('Trained Episode Lengths')"
   ]
  },
  {
   "cell_type": "code",
   "execution_count": 11,
   "metadata": {},
   "outputs": [
    {
     "name": "stdout",
     "output_type": "stream",
     "text": [
      "\tEpisode Length 200"
     ]
    }
   ],
   "source": [
    "buf = []\n",
    "last_total_return, d, s = 0, False, cprf.env.reset() \n",
    "while (len(buf) < 1000) and not d:\n",
    "    a_t = cprf.act(s, sess) \n",
    "    s1, r, d, *rest = cprf.env.step(a_t)\n",
    "    cprf.env.render()\n",
    "    buf.append([s, a_t, float(r), s1])\n",
    "    last_total_return += float(r)\n",
    "    s = s1\n",
    "    print(\"\\r\\tEpisode Length\", len(buf), end=\"\")"
   ]
  },
  {
   "cell_type": "code",
   "execution_count": 12,
   "metadata": {},
   "outputs": [],
   "source": [
    "sess.close()"
   ]
  }
 ],
 "metadata": {
  "kernelspec": {
   "display_name": "Python 3",
   "language": "python",
   "name": "python3"
  },
  "language_info": {
   "codemirror_mode": {
    "name": "ipython",
    "version": 3
   },
   "file_extension": ".py",
   "mimetype": "text/x-python",
   "name": "python",
   "nbconvert_exporter": "python",
   "pygments_lexer": "ipython3",
   "version": "3.7.3"
  }
 },
 "nbformat": 4,
 "nbformat_minor": 2
}
