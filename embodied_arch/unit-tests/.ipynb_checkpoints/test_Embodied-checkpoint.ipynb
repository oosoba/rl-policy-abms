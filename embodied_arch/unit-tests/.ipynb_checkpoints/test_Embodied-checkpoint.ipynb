{
 "cells": [
  {
   "cell_type": "code",
   "execution_count": 1,
   "metadata": {},
   "outputs": [],
   "source": [
    "import gym\n",
    "import tensorflow as tf\n",
    "import itertools\n",
    "import numpy as np\n",
    "import matplotlib.pyplot as plt\n",
    "import seaborn as sns\n",
    "import importlib # debug\n",
    "from misc_helpers import discount"
   ]
  },
  {
   "cell_type": "code",
   "execution_count": 2,
   "metadata": {},
   "outputs": [],
   "source": [
    "import minority_agent\n",
    "from minority_env import MinorityGame1vN_env\n",
    "\n",
    "import embodiedMG as emg"
   ]
  },
  {
   "cell_type": "code",
   "execution_count": 3,
   "metadata": {},
   "outputs": [
    {
     "data": {
      "text/plain": [
       "<module 'embodiedMG' from '/Users/oosoba/Documents/RAND/Coding/multiagent-ABM/minoritygame/embodiedMG.py'>"
      ]
     },
     "execution_count": 3,
     "metadata": {},
     "output_type": "execute_result"
    }
   ],
   "source": [
    "# from tensorflow.python import debug as tf_debug # debug\n",
    "importlib.reload(minority_agent) \n",
    "importlib.reload(emg)"
   ]
  },
  {
   "cell_type": "markdown",
   "metadata": {},
   "source": [
    "## Cartpole Benchmark Setup"
   ]
  },
  {
   "cell_type": "code",
   "execution_count": 4,
   "metadata": {},
   "outputs": [
    {
     "name": "stderr",
     "output_type": "stream",
     "text": [
      "/miniconda3/lib/python3.6/site-packages/gym/envs/registration.py:14: PkgResourcesDeprecationWarning: Parameters to load are deprecated.  Call .resolve and .require separately.\n",
      "  result = entry_point.load(False)\n"
     ]
    },
    {
     "name": "stdout",
     "output_type": "stream",
     "text": [
      "<embodiedMG.EmbodiedAgentRF object at 0x1c38f3ccc0> 4 1\n"
     ]
    }
   ],
   "source": [
    "tf.reset_default_graph()\n",
    "env = gym.make('CartPole-v0')\n",
    "cprf = emg.EmbodiedAgentRF(name=\"cartpole-emb\", env_=env,\n",
    "                           space_size = (4,1)\n",
    "                          ) \n",
    "#(...,sensorium=SensoriumNetworkTemplate, latentDim=_zdim_, space_size = (_s_size_, _a_size_))\n",
    "print(cprf, cprf.s_size, cprf.a_size)"
   ]
  },
  {
   "cell_type": "code",
   "execution_count": 5,
   "metadata": {},
   "outputs": [
    {
     "name": "stdout",
     "output_type": "stream",
     "text": [
      "Tensorboard logs in:  ./log/train_cartpole-emb\n"
     ]
    }
   ],
   "source": [
    "saver = tf.train.Saver(max_to_keep=2)  #n_epochs = 1000\n",
    "sess = tf.InteractiveSession() #sess.run(tf.global_variables_initializer())\n",
    "cprf.init_graph(sess)\n",
    "\n",
    "num_episodes = 100\n",
    "n_epochs = 5001"
   ]
  },
  {
   "cell_type": "code",
   "execution_count": 6,
   "metadata": {},
   "outputs": [
    {
     "name": "stdout",
     "output_type": "stream",
     "text": [
      "[-0.04369896 -0.03504609  0.02565386  0.02255537] 1\n"
     ]
    },
    {
     "data": {
      "text/plain": [
       "12"
      ]
     },
     "execution_count": 6,
     "metadata": {},
     "output_type": "execute_result"
    }
   ],
   "source": [
    "## Verify step + play set up\n",
    "state = cprf.env.reset()\n",
    "print(state, cprf.act(state, sess))\n",
    "cprf.env.step(cprf.act(state, sess))\n",
    "cprf.play(sess)\n",
    "len(cprf.episode_buffer)"
   ]
  },
  {
   "cell_type": "code",
   "execution_count": 7,
   "metadata": {},
   "outputs": [
    {
     "name": "stdout",
     "output_type": "stream",
     "text": [
      "Baselining untrained pnet...\n",
      "Episode 80/100\n",
      "Cartpole stays up for an average of 22.15 steps\n"
     ]
    }
   ],
   "source": [
    "print('Baselining untrained pnet...')\n",
    "uplen0 = []\n",
    "for k in range(num_episodes):\n",
    "    cprf.play(sess)\n",
    "    uplen0.append(len(cprf.episode_buffer))\n",
    "    if k%20 == 0: print(\"\\rEpisode {}/{}\".format(k, num_episodes),end=\"\")\n",
    "base_perf = np.mean(uplen0)\n",
    "print(\"\\nCartpole stays up for an average of {} steps\".format(base_perf))"
   ]
  },
  {
   "cell_type": "code",
   "execution_count": 8,
   "metadata": {},
   "outputs": [
    {
     "name": "stdout",
     "output_type": "stream",
     "text": [
      "Training...\n",
      "Starting agent cartpole-emb\n",
      "Step 0: Stats(['Perf/Recent Reward', 'Losses/Policy LL', 'Losses/Entropy']): ( [1.0, -52.86489, 52.59031] )\n",
      "Saved Model\n",
      "Step 500: Stats(['Perf/Recent Reward', 'Losses/Policy LL', 'Losses/Entropy']): ( [1.0, -45.841988, 42.989155] )\n",
      "Saved Model\n",
      "Step 1000: Stats(['Perf/Recent Reward', 'Losses/Policy LL', 'Losses/Entropy']): ( [1.0, -40.388813, 40.87394] )\n",
      "Saved Model\n",
      "Step 1500: Stats(['Perf/Recent Reward', 'Losses/Policy LL', 'Losses/Entropy']): ( [1.0, -34.12849, 36.35929] )\n",
      "Saved Model\n",
      "Step 2000: Stats(['Perf/Recent Reward', 'Losses/Policy LL', 'Losses/Entropy']): ( [1.0, -23.8854, 23.467659] )\n",
      "Saved Model\n",
      "Step 2500: Stats(['Perf/Recent Reward', 'Losses/Policy LL', 'Losses/Entropy']): ( [1.0, -19.323105, 16.970085] )\n",
      "Saved Model\n",
      "Step 3000: Stats(['Perf/Recent Reward', 'Losses/Policy LL', 'Losses/Entropy']): ( [1.0, -14.711184, 14.271843] )\n",
      "Saved Model\n",
      "Step 3500: Stats(['Perf/Recent Reward', 'Losses/Policy LL', 'Losses/Entropy']): ( [1.0, nan, nan] )\n",
      "Model problems... Not saved!\n",
      "Step 4000: Stats(['Perf/Recent Reward', 'Losses/Policy LL', 'Losses/Entropy']): ( [1.0, nan, nan] )\n",
      "Model problems... Not saved!\n",
      "Step 4500: Stats(['Perf/Recent Reward', 'Losses/Policy LL', 'Losses/Entropy']): ( [1.0, nan, nan] )\n",
      "Model problems... Not saved!\n",
      "Step 5000: Stats(['Perf/Recent Reward', 'Losses/Policy LL', 'Losses/Entropy']): ( [1.0, nan, nan] )\n",
      "Model problems... Not saved!\n"
     ]
    }
   ],
   "source": [
    "# Train pnet on cartpole episodes\n",
    "print('Training...')\n",
    "saver = tf.train.Saver(max_to_keep=2)\n",
    "cprf.work(sess, saver, num_epochs = n_epochs)"
   ]
  },
  {
   "cell_type": "code",
   "execution_count": 9,
   "metadata": {},
   "outputs": [
    {
     "name": "stdout",
     "output_type": "stream",
     "text": [
      "Testing...\n",
      "Episode 80/100\n",
      "Cartpole stays up for an average of 9.4 steps compared to baseline 22.15 steps\n"
     ]
    }
   ],
   "source": [
    "# Test pnet!\n",
    "print('Testing...')\n",
    "uplen = []\n",
    "for k in range(num_episodes):\n",
    "    cprf.play(sess)\n",
    "    uplen.append(len(cprf.episode_buffer))\n",
    "    if k%20 == 0: print(\"\\rEpisode {}/{}\".format(k, num_episodes),end=\"\")\n",
    "trained_perf = np.mean(uplen)\n",
    "print(\"\\nCartpole stays up for an average of {} steps compared to baseline {} steps\".format(trained_perf, base_perf) )"
   ]
  },
  {
   "cell_type": "code",
   "execution_count": 10,
   "metadata": {},
   "outputs": [
    {
     "data": {
      "text/plain": [
       "Text(0.5, 1.0, 'Trained Episode Lengths')"
      ]
     },
     "execution_count": 10,
     "metadata": {},
     "output_type": "execute_result"
    },
    {
     "data": {
      "image/png": "[encoded data removed]",
      "text/plain": [
       "<Figure size 432x288 with 2 Axes>"
      ]
     },
     "metadata": {
      "needs_background": "light"
     },
     "output_type": "display_data"
    }
   ],
   "source": [
    "fig, axs = plt.subplots(2, 1, sharex=True)\n",
    "sns.boxplot(uplen0, ax = axs[0])\n",
    "axs[0].set_title('Baseline Episode Lengths')\n",
    "sns.boxplot(uplen, ax = axs[1])\n",
    "axs[1].set_title('Trained Episode Lengths')"
   ]
  },
  {
   "cell_type": "code",
   "execution_count": 11,
   "metadata": {},
   "outputs": [],
   "source": [
    "sess.close()"
   ]
  },
  {
   "cell_type": "markdown",
   "metadata": {},
   "source": [
    "## Minority Game Benchmark Setup"
   ]
  },
  {
   "cell_type": "code",
   "execution_count": 12,
   "metadata": {},
   "outputs": [
    {
     "data": {
      "text/plain": [
       "<module 'embodiedMG' from '/Users/oosoba/Documents/RAND/Coding/multiagent-ABM/minoritygame/embodiedMG.py'>"
      ]
     },
     "execution_count": 12,
     "metadata": {},
     "output_type": "execute_result"
    }
   ],
   "source": [
    "importlib.reload(minority_agent) \n",
    "importlib.reload(emg)"
   ]
  },
  {
   "cell_type": "code",
   "execution_count": 13,
   "metadata": {},
   "outputs": [
    {
     "name": "stdout",
     "output_type": "stream",
     "text": [
      "4 1\n",
      "<embodiedMG.EmbodiedAgentRF object at 0x1c61eba550> 4 1\n"
     ]
    }
   ],
   "source": [
    "tf.reset_default_graph()\n",
    "menv = MinorityGame1vN_env(33, 4, 4, 0.5)\n",
    "print(menv.state_space_size, menv.action_space_size)\n",
    "embrf = emg.EmbodiedAgentRF(name=\"mingame-emb\", env_=menv)\n",
    "embrf.max_episode_length = 101\n",
    "print(embrf, embrf.s_size, embrf.a_size)"
   ]
  },
  {
   "cell_type": "code",
   "execution_count": 14,
   "metadata": {},
   "outputs": [
    {
     "name": "stdout",
     "output_type": "stream",
     "text": [
      "Tensorboard logs in:  ./log/train_mingame-emb\n"
     ]
    }
   ],
   "source": [
    "saver = tf.train.Saver(max_to_keep=2)  #n_epochs = 1000\n",
    "sess = tf.InteractiveSession() #sess.run(tf.global_variables_initializer())\n",
    "embrf.init_graph(sess)"
   ]
  },
  {
   "cell_type": "code",
   "execution_count": 15,
   "metadata": {},
   "outputs": [
    {
     "name": "stdout",
     "output_type": "stream",
     "text": [
      "[0. 0. 1. 1.] 1\n"
     ]
    },
    {
     "data": {
      "text/plain": [
       "0.48514851485148514"
      ]
     },
     "execution_count": 15,
     "metadata": {},
     "output_type": "execute_result"
    }
   ],
   "source": [
    "## Verify step + play set up\n",
    "state = embrf.env.reset()\n",
    "print(state, embrf.act(state, sess))\n",
    "\n",
    "embrf.env.step(embrf.act(state, sess))\n",
    "embrf.play(sess)\n",
    "np.mean(np.array(embrf.episode_buffer)[:,2]) #np.array(embrf.episode_buffer)[:,2]"
   ]
  },
  {
   "cell_type": "code",
   "execution_count": 16,
   "metadata": {},
   "outputs": [
    {
     "name": "stdout",
     "output_type": "stream",
     "text": [
      "Baselining untrained pnet...\n",
      "Episode 80/100\n",
      "Agent wins an average of 45.5940594059406 pct\n"
     ]
    }
   ],
   "source": [
    "print('Baselining untrained pnet...')\n",
    "uplen_mg0 = []\n",
    "for k in range(num_episodes):\n",
    "    embrf.play(sess)\n",
    "    uplen_mg0.append(np.mean(np.array(embrf.episode_buffer)[:,2]))\n",
    "    if k%20 == 0: print(\"\\rEpisode {}/{}\".format(k, num_episodes),end=\"\")\n",
    "base_perf_mg = np.mean(uplen_mg0)\n",
    "print(\"\\nAgent wins an average of {} pct\".format(100.0*base_perf_mg))"
   ]
  },
  {
   "cell_type": "code",
   "execution_count": 17,
   "metadata": {},
   "outputs": [
    {
     "name": "stdout",
     "output_type": "stream",
     "text": [
      "Training...\n",
      "Starting agent mingame-emb\n",
      "Step 0: Stats(['Perf/Recent Reward', 'Losses/Policy LL', 'Losses/Entropy']): ( [0.466, -70.09474, 69.868546] )\n",
      "Saved Model\n",
      "Step 500: Stats(['Perf/Recent Reward', 'Losses/Policy LL', 'Losses/Entropy']): ( [0.466, -68.11524, 64.92379] )\n",
      "Saved Model\n",
      "Step 1000: Stats(['Perf/Recent Reward', 'Losses/Policy LL', 'Losses/Entropy']): ( [0.466, -65.291885, 62.7351] )\n",
      "Saved Model\n",
      "Step 1500: Stats(['Perf/Recent Reward', 'Losses/Policy LL', 'Losses/Entropy']): ( [0.466, -65.22794, 62.568027] )\n",
      "Saved Model\n",
      "Step 2000: Stats(['Perf/Recent Reward', 'Losses/Policy LL', 'Losses/Entropy']): ( [0.466, -65.17789, 62.406273] )\n",
      "Saved Model\n",
      "Step 2500: Stats(['Perf/Recent Reward', 'Losses/Policy LL', 'Losses/Entropy']): ( [0.466, -65.06784, 62.253777] )\n",
      "Saved Model\n",
      "Step 3000: Stats(['Perf/Recent Reward', 'Losses/Policy LL', 'Losses/Entropy']): ( [0.466, -64.76248, 62.04463] )\n",
      "Saved Model\n",
      "Step 3500: Stats(['Perf/Recent Reward', 'Losses/Policy LL', 'Losses/Entropy']): ( [0.466, -64.54089, 61.389908] )\n",
      "Saved Model\n",
      "Step 4000: Stats(['Perf/Recent Reward', 'Losses/Policy LL', 'Losses/Entropy']): ( [0.466, -64.51493, 61.380535] )\n",
      "Saved Model\n",
      "Step 4500: Stats(['Perf/Recent Reward', 'Losses/Policy LL', 'Losses/Entropy']): ( [0.466, -64.49759, 61.380154] )\n",
      "Saved Model\n",
      "Step 5000: Stats(['Perf/Recent Reward', 'Losses/Policy LL', 'Losses/Entropy']): ( [0.466, -64.50779, 61.380466] )\n",
      "Saved Model\n"
     ]
    }
   ],
   "source": [
    "# Train pnet on cartpole episodes\n",
    "print('Training...')\n",
    "saver = tf.train.Saver(max_to_keep=2)\n",
    "embrf.work(sess, saver, num_epochs = n_epochs)"
   ]
  },
  {
   "cell_type": "code",
   "execution_count": null,
   "metadata": {},
   "outputs": [],
   "source": [
    "# Test pnet!\n",
    "print('Testing...')\n",
    "uplen_mg = []\n",
    "for k in range(num_episodes):\n",
    "    embrf.play(sess)\n",
    "    uplen_mg.append(np.mean(np.array(embrf.episode_buffer)[:,2]))\n",
    "    if k%20 == 0: print(\"\\rEpisode {}/{}\".format(k, num_episodes),end=\"\")\n",
    "trained_perf_mg = np.mean(uplen_mg)\n",
    "print(\"\\nAgent wins an average of {} pct compared to baseline of {} pct\".format(100*trained_perf_mg, 100*base_perf_mg) )"
   ]
  },
  {
   "cell_type": "code",
   "execution_count": 21,
   "metadata": {},
   "outputs": [
    {
     "data": {
      "text/plain": [
       "[0.4752475247524752,\n",
       " 0.49504950495049505,\n",
       " 0.46534653465346537,\n",
       " 0.4752475247524752,\n",
       " 0.4752475247524752,\n",
       " 0.44554455445544555,\n",
       " 0.4158415841584158,\n",
       " 0.4158415841584158,\n",
       " 0.46534653465346537,\n",
       " 0.5247524752475248,\n",
       " 0.504950495049505,\n",
       " 0.49504950495049505,\n",
       " 0.43564356435643564,\n",
       " 0.44554455445544555,\n",
       " 0.44554455445544555,\n",
       " 0.42574257425742573,\n",
       " 0.5544554455445545,\n",
       " 0.48514851485148514,\n",
       " 0.46534653465346537]"
      ]
     },
     "execution_count": 21,
     "metadata": {},
     "output_type": "execute_result"
    }
   ],
   "source": [
    "uplen_mg"
   ]
  },
  {
   "cell_type": "code",
   "execution_count": 27,
   "metadata": {},
   "outputs": [
    {
     "name": "stdout",
     "output_type": "stream",
     "text": [
      "\n",
      "Agent wins an average of 46.899426784783735 pct \n",
      "compared to baseline of 45.5940594059406 pct\n"
     ]
    },
    {
     "data": {
      "image/png": "[encoded data removed]",
      "text/plain": [
       "<Figure size 432x288 with 2 Axes>"
      ]
     },
     "metadata": {
      "needs_background": "light"
     },
     "output_type": "display_data"
    }
   ],
   "source": [
    "fig, axs = plt.subplots(2, 1, sharex=True)\n",
    "sns.boxplot(uplen_mg0, ax = axs[0])\n",
    "axs[0].set_title('Baseline Mean Success Percentage')\n",
    "sns.boxplot(uplen_mg, ax = axs[1])\n",
    "axs[1].set_title('Trained Mean Success Percentage')\n",
    "\n",
    "print(\"\\nAgent wins an average of {} pct \\ncompared to baseline of {} pct\".format(\n",
    "    100*np.mean(uplen_mg), 100*base_perf_mg) )"
   ]
  },
  {
   "cell_type": "code",
   "execution_count": null,
   "metadata": {},
   "outputs": [],
   "source": [
    "sess.close()"
   ]
  }
 ],
 "metadata": {
  "kernelspec": {
   "display_name": "Python 3",
   "language": "python",
   "name": "python3"
  },
  "language_info": {
   "codemirror_mode": {
    "name": "ipython",
    "version": 3
   },
   "file_extension": ".py",
   "mimetype": "text/x-python",
   "name": "python",
   "nbconvert_exporter": "python",
   "pygments_lexer": "ipython3",
   "version": "3.6.8"
  }
 },
 "nbformat": 4,
 "nbformat_minor": 2
}
