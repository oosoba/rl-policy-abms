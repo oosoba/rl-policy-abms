{
 "cells": [
  {
   "cell_type": "code",
   "execution_count": null,
   "metadata": {},
   "outputs": [],
   "source": [
    "import gym, importlib, os, sys, warnings, IPython\n",
    "import tensorflow as tf\n",
    "import itertools\n",
    "import numpy as np\n",
    "import matplotlib.pyplot as plt\n",
    "import seaborn as sns\n",
    "\n",
    "%autosave 240\n",
    "print(tf.__version__)\n",
    "\n",
    "sys.path.append('../../embodied_arch/')\n",
    "import embodied_AC as em\n",
    "from embodied_misc import ActionPolicyNetwork, ValueNetwork, SensoriumNetworkTemplate\n",
    "importlib.reload(em)\n",
    "\n",
    "\n",
    "## suppress annoy verbose tf msgs\n",
    "warnings.filterwarnings(\"ignore\")\n",
    "os.environ['TF_CPP_MIN_LOG_LEVEL'] = '2' # '3' to block all including error msgs\n",
    "tf.compat.v1.logging.set_verbosity(tf.compat.v1.logging.ERROR)"
   ]
  },
  {
   "cell_type": "markdown",
   "metadata": {},
   "source": [
    "## Cartpole Benchmark Setup"
   ]
  },
  {
   "cell_type": "code",
   "execution_count": null,
   "metadata": {},
   "outputs": [],
   "source": [
    "actor = lambda s: ActionPolicyNetwork(s, hSeq=(32,), gamma_reg=1e-1)\n",
    "value = lambda s: ValueNetwork(s, hSeq=(16,16,8,), gamma_reg=1.)\n",
    "sensor = lambda st, out_dim: SensoriumNetworkTemplate(st, hSeq=(16,), out_dim=out_dim, gamma_reg=5.)"
   ]
  },
  {
   "cell_type": "code",
   "execution_count": null,
   "metadata": {},
   "outputs": [],
   "source": [
    "tf.reset_default_graph()\n",
    "importlib.reload(em)\n",
    "env = gym.make('CartPole-v0')\n",
    "cpac = em.EmbodiedAgentAC(\n",
    "    name=\"cp-emb-ac\", env_=env,\n",
    "    space_size = (4,1),latentDim=4,\n",
    "    alpha_p=1., alpha_v=1e-2, \n",
    "    actorNN=actor, sensorium=sensor, valueNN=value\n",
    ")\n",
    "\n",
    "print(cpac, cpac.s_size, cpac.a_size)"
   ]
  },
  {
   "cell_type": "code",
   "execution_count": null,
   "metadata": {},
   "outputs": [],
   "source": [
    "saver = tf.train.Saver(max_to_keep=1)  #n_epochs = 1000\n",
    "sess = tf.InteractiveSession() \n",
    "cpac.init_graph(sess)\n",
    "\n",
    "num_episodes = 100\n",
    "n_epochs = 601"
   ]
  },
  {
   "cell_type": "code",
   "execution_count": null,
   "metadata": {},
   "outputs": [],
   "source": [
    "## Verify step + play set up\n",
    "state = cpac.env.reset()\n",
    "print(state, cpac.act(state, sess))\n",
    "# cpac.env.step(cpac.act(state, sess))\n",
    "\n",
    "cpac.play(sess)\n",
    "cpac.episode_length()"
   ]
  },
  {
   "cell_type": "markdown",
   "metadata": {},
   "source": [
    "## Baseline"
   ]
  },
  {
   "cell_type": "code",
   "execution_count": null,
   "metadata": {},
   "outputs": [],
   "source": [
    "print('Baselining untrained pnet...')\n",
    "uplen0 = []\n",
    "for k in range(num_episodes):\n",
    "    cpac.play(sess, terminal_reward=0.)\n",
    "    uplen0.append(cpac.last_total_return)\n",
    "    if k%20 == 0: print(\"\\rEpisode {}/{}\".format(k, num_episodes),end=\"\")\n",
    "base_perf = np.mean(uplen0)\n",
    "print(\"\\nCartpole stays up for an average of {} steps\".format(base_perf))"
   ]
  },
  {
   "cell_type": "code",
   "execution_count": null,
   "metadata": {},
   "outputs": [],
   "source": [
    "st = cpac.env.reset()"
   ]
  },
  {
   "cell_type": "markdown",
   "metadata": {},
   "source": [
    "## Train"
   ]
  },
  {
   "cell_type": "code",
   "execution_count": null,
   "metadata": {},
   "outputs": [],
   "source": [
    "obs = []\n",
    "for ct in range(1250):\n",
    "    cpac.play(sess)\n",
    "    tmp = cpac.pretrainV(sess)\n",
    "    obs.append(tmp)\n",
    "    print('\\r\\tIteration {}: Value loss({})'.format(ct, tmp), end=\"\")\n",
    "plt.plot(obs)"
   ]
  },
  {
   "cell_type": "code",
   "execution_count": null,
   "metadata": {},
   "outputs": [],
   "source": [
    "sns.violinplot(obs)"
   ]
  },
  {
   "cell_type": "code",
   "execution_count": null,
   "metadata": {},
   "outputs": [],
   "source": [
    "# Train pnet on cartpole episodes\n",
    "print('Training...')\n",
    "saver = tf.train.Saver(max_to_keep=1)\n",
    "hist = cpac.work(sess, saver, num_epochs=n_epochs)"
   ]
  },
  {
   "cell_type": "code",
   "execution_count": null,
   "metadata": {},
   "outputs": [],
   "source": [
    "sns.violinplot(hist)"
   ]
  },
  {
   "cell_type": "markdown",
   "metadata": {},
   "source": [
    "## Test"
   ]
  },
  {
   "cell_type": "code",
   "execution_count": null,
   "metadata": {},
   "outputs": [],
   "source": [
    "# Test pnet!\n",
    "print('Testing...')\n",
    "uplen = []\n",
    "for k in range(num_episodes):\n",
    "    cpac.play(sess, terminal_reward=0.)\n",
    "    uplen.append(cpac.last_total_return)\n",
    "    if k%20 == 0: print(\"\\rEpisode {}/{}\".format(k, num_episodes),end=\"\")\n",
    "trained_perf = np.mean(uplen)\n",
    "print(\"\\nCartpole stays up for an average of {} steps compared to baseline {} steps\".format(trained_perf, base_perf) )"
   ]
  },
  {
   "cell_type": "markdown",
   "metadata": {},
   "source": [
    "## Evaluate"
   ]
  },
  {
   "cell_type": "code",
   "execution_count": null,
   "metadata": {},
   "outputs": [],
   "source": [
    "fig, axs = plt.subplots(2, 1, sharex=True)\n",
    "sns.violinplot(uplen0, ax = axs[0])\n",
    "axs[0].set_title('Baseline Episode Lengths')\n",
    "sns.violinplot(uplen, ax = axs[1])\n",
    "axs[1].set_title('Trained Episode Lengths')"
   ]
  },
  {
   "cell_type": "code",
   "execution_count": null,
   "metadata": {},
   "outputs": [],
   "source": [
    "# buf = []\n",
    "# last_total_return, d, s = 0, False, cpac.env.reset() \n",
    "# while (len(buf) < 1000) and not d:\n",
    "#     a_t = cpac.act(s, sess) \n",
    "#     s1, r, d, *rest = cpac.env.step(a_t)\n",
    "#     cpac.env.render()\n",
    "#     buf.append([s, a_t, float(r), s1])\n",
    "#     last_total_return += float(r)\n",
    "#     s = s1\n",
    "#     print(\"\\r\\tEpisode Length\", len(buf), end=\"\")"
   ]
  },
  {
   "cell_type": "code",
   "execution_count": null,
   "metadata": {},
   "outputs": [],
   "source": [
    "# sess.close()"
   ]
  }
 ],
 "metadata": {
  "kernelspec": {
   "display_name": "Python 3",
   "language": "python",
   "name": "python3"
  },
  "language_info": {
   "codemirror_mode": {
    "name": "ipython",
    "version": 3
   },
   "file_extension": ".py",
   "mimetype": "text/x-python",
   "name": "python",
   "nbconvert_exporter": "python",
   "pygments_lexer": "ipython3",
   "version": "3.7.4"
  }
 },
 "nbformat": 4,
 "nbformat_minor": 4
}
