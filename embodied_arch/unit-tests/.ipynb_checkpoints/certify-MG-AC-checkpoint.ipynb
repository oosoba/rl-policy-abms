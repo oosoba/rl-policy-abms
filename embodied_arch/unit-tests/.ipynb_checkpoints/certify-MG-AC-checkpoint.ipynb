{
 "cells": [
  {
   "cell_type": "code",
   "execution_count": 1,
   "metadata": {},
   "outputs": [],
   "source": [
    "import gym\n",
    "import tensorflow as tf\n",
    "import itertools\n",
    "import numpy as np\n",
    "import matplotlib.pyplot as plt\n",
    "import seaborn as sns\n",
    "import importlib\n",
    "# import IPython\n",
    "# %autosave 240"
   ]
  },
  {
   "cell_type": "code",
   "execution_count": 2,
   "metadata": {},
   "outputs": [
    {
     "name": "stderr",
     "output_type": "stream",
     "text": [
      "/miniconda3/lib/python3.6/site-packages/gym/envs/registration.py:14: PkgResourcesDeprecationWarning: Parameters to load are deprecated.  Call .resolve and .require separately.\n",
      "  result = entry_point.load(False)\n"
     ]
    }
   ],
   "source": [
    "import sys\n",
    "sys.path.append('../../embodied_arch/')\n",
    "import embodied_AC as emg\n",
    "from embodied_misc import ActionPolicyNetwork, ValueNetwork, SensoriumNetworkTemplate"
   ]
  },
  {
   "cell_type": "code",
   "execution_count": 3,
   "metadata": {},
   "outputs": [],
   "source": [
    "sys.path.append('../../minoritygame/') #\n",
    "from minority_env import MinorityGame1vN_env as minority_agent"
   ]
  },
  {
   "cell_type": "markdown",
   "metadata": {},
   "source": [
    "## Minority Game Benchmark Setup"
   ]
  },
  {
   "cell_type": "code",
   "execution_count": 4,
   "metadata": {},
   "outputs": [],
   "source": [
    "actor = lambda s: ActionPolicyNetwork(s, hSeq=(12,), gamma_reg=1.)\n",
    "value = lambda s: ValueNetwork(s, hSeq=(8,), gamma_reg=1.)\n",
    "sensor = lambda st, out_dim: SensoriumNetworkTemplate(st, hSeq=(16,8,16,), out_dim=out_dim, gamma_reg=5.)"
   ]
  },
  {
   "cell_type": "code",
   "execution_count": 5,
   "metadata": {},
   "outputs": [
    {
     "data": {
      "text/plain": [
       "<module 'embodied_AC' from '../../embodied_arch/embodied_AC.py'>"
      ]
     },
     "execution_count": 5,
     "metadata": {},
     "output_type": "execute_result"
    }
   ],
   "source": [
    "num_episodes = 100\n",
    "n_epochs = 1001\n",
    "importlib.reload(emg)"
   ]
  },
  {
   "cell_type": "code",
   "execution_count": 6,
   "metadata": {},
   "outputs": [
    {
     "name": "stdout",
     "output_type": "stream",
     "text": [
      "WARNING:tensorflow:From /miniconda3/lib/python3.6/site-packages/tensorflow/contrib/layers/python/layers/layers.py:1624: flatten (from tensorflow.python.layers.core) is deprecated and will be removed in a future version.\n",
      "Instructions for updating:\n",
      "Use keras.layers.flatten instead.\n",
      "WARNING:tensorflow:From /miniconda3/lib/python3.6/site-packages/tensorflow/python/framework/op_def_library.py:263: colocate_with (from tensorflow.python.framework.ops) is deprecated and will be removed in a future version.\n",
      "Instructions for updating:\n",
      "Colocations handled automatically by placer.\n"
     ]
    }
   ],
   "source": [
    "tf.reset_default_graph()\n",
    "menv = minority_agent(33, 4, 4, 0.5)\n",
    "\n",
    "embrf = emg.EmbodiedAgentAC(\n",
    "    name=\"mingame-AC\", \n",
    "    env_=menv,\n",
    "    alpha_p=5., alpha_v=1.e-1,\n",
    "    actorNN=actor, sensorium=sensor, valueNN=value\n",
    ") \n",
    "# alpha_p=45., alpha_v=150,\n",
    "embrf.max_episode_length = 30 #101  # dangerous... may incentivize finite n behavior"
   ]
  },
  {
   "cell_type": "code",
   "execution_count": 7,
   "metadata": {},
   "outputs": [
    {
     "name": "stdout",
     "output_type": "stream",
     "text": [
      "4 1\n",
      "<embodied_AC.EmbodiedAgentAC object at 0x1c30b3c828> 4 1\n",
      "Tensorboard logs in:  ./log/train_mingame-AC\n"
     ]
    }
   ],
   "source": [
    "print(menv.state_space_size, menv.action_space_size)\n",
    "print(embrf, embrf.s_size, embrf.a_size)\n",
    "\n",
    "sess = tf.InteractiveSession()\n",
    "embrf.init_graph(sess) # note tboard log dir"
   ]
  },
  {
   "cell_type": "code",
   "execution_count": 8,
   "metadata": {},
   "outputs": [
    {
     "name": "stdout",
     "output_type": "stream",
     "text": [
      "[0 0 1 1] 0\n"
     ]
    },
    {
     "data": {
      "text/plain": [
       "13.0"
      ]
     },
     "execution_count": 8,
     "metadata": {},
     "output_type": "execute_result"
    }
   ],
   "source": [
    "## Verify step + play set up\n",
    "state = embrf.env.reset()\n",
    "print(state, embrf.act(state, sess))\n",
    "\n",
    "embrf.env.step(embrf.act(state, sess))\n",
    "embrf.play(sess)\n",
    "embrf.last_total_return"
   ]
  },
  {
   "cell_type": "markdown",
   "metadata": {},
   "source": [
    "### Pre-test Agent"
   ]
  },
  {
   "cell_type": "code",
   "execution_count": 9,
   "metadata": {},
   "outputs": [
    {
     "name": "stdout",
     "output_type": "stream",
     "text": [
      "Baselining untrained pnet...\n",
      "Episode 80/100\n",
      "Agent wins an average of 47.76666666666666 pct\n"
     ]
    }
   ],
   "source": [
    "print('Baselining untrained pnet...')\n",
    "rwd_mg0 = []\n",
    "for k in range(num_episodes):\n",
    "    embrf.play(sess)\n",
    "    rwd_mg0.append(embrf.last_total_return)\n",
    "    if k%int(num_episodes/5) == 0: print(\"\\rEpisode {}/{}\".format(k, num_episodes),end=\"\")\n",
    "base_perf_mg = np.mean(np.array(rwd_mg0)/float(embrf.max_episode_length))\n",
    "print(\"\\nAgent wins an average of {} pct\".format(100.0*base_perf_mg))"
   ]
  },
  {
   "cell_type": "markdown",
   "metadata": {},
   "source": [
    "### Train Agent w/ Algo on Experience Tuples"
   ]
  },
  {
   "cell_type": "code",
   "execution_count": 10,
   "metadata": {},
   "outputs": [
    {
     "name": "stdout",
     "output_type": "stream",
     "text": [
      "\tIteration 749: Value loss(-0.0009843180887401104)"
     ]
    },
    {
     "data": {
      "text/plain": [
       "[<matplotlib.lines.Line2D at 0x1c3169c5f8>]"
      ]
     },
     "execution_count": 10,
     "metadata": {},
     "output_type": "execute_result"
    },
    {
     "data": {
      "image/png": "[encoded data removed]",
      "text/plain": [
       "<Figure size 432x288 with 1 Axes>"
      ]
     },
     "metadata": {
      "needs_background": "light"
     },
     "output_type": "display_data"
    }
   ],
   "source": [
    "obs = []\n",
    "for ct in range(750):\n",
    "    embrf.play(sess)\n",
    "    tmp = embrf.pretrainV(sess)\n",
    "    obs.append(tmp)\n",
    "    print('\\r\\tIteration {}: Value loss({})'.format(ct, tmp), end=\"\")\n",
    "plt.plot(obs)\n",
    "\n",
    "# from collections import Counter\n",
    "# ?Counter"
   ]
  },
  {
   "cell_type": "code",
   "execution_count": 11,
   "metadata": {},
   "outputs": [
    {
     "data": {
      "text/plain": [
       "<matplotlib.axes._subplots.AxesSubplot at 0x1c31755128>"
      ]
     },
     "execution_count": 11,
     "metadata": {},
     "output_type": "execute_result"
    },
    {
     "data": {
      "image/png": "[encoded data removed]",
      "text/plain": [
       "<Figure size 432x288 with 1 Axes>"
      ]
     },
     "metadata": {
      "needs_background": "light"
     },
     "output_type": "display_data"
    }
   ],
   "source": [
    "sns.violinplot(obs)"
   ]
  },
  {
   "cell_type": "code",
   "execution_count": 12,
   "metadata": {},
   "outputs": [
    {
     "name": "stdout",
     "output_type": "stream",
     "text": [
      "Training...\n",
      "Starting agent mingame-AC\n",
      "Epoch no.: 0/1001\n",
      "Step 0: Stats(['Perf/Recent Reward', 'Losses/Policy LL', 'Losses/Value Fxn', 'Losses/Entropy']): ( [9.0, 0.020578314, 0.0023090383, 0.6357123] )\n",
      "Saved Model\n",
      "Epoch no.: 50/1001\n",
      "Step 50: Stats(['Perf/Recent Reward', 'Losses/Policy LL', 'Losses/Value Fxn', 'Losses/Entropy']): ( [18.0, -0.045427583, -0.00022079349, 0.5873245] )\n",
      "WARNING:tensorflow:From /miniconda3/lib/python3.6/site-packages/tensorflow/python/training/saver.py:966: remove_checkpoint (from tensorflow.python.training.checkpoint_management) is deprecated and will be removed in a future version.\n",
      "Instructions for updating:\n",
      "Use standard file APIs to delete files with this prefix.\n",
      "Saved Model\n",
      "Epoch no.: 100/1001\n",
      "Step 100: Stats(['Perf/Recent Reward', 'Losses/Policy LL', 'Losses/Value Fxn', 'Losses/Entropy']): ( [14.0, 0.020177552, 0.0007603099, 0.5308272] )\n",
      "Saved Model\n",
      "Epoch no.: 150/1001\n",
      "Step 150: Stats(['Perf/Recent Reward', 'Losses/Policy LL', 'Losses/Value Fxn', 'Losses/Entropy']): ( [14.0, 0.0904664, 0.0010021548, 0.48938718] )\n",
      "Saved Model\n",
      "Epoch no.: 200/1001\n",
      "Step 200: Stats(['Perf/Recent Reward', 'Losses/Policy LL', 'Losses/Value Fxn', 'Losses/Entropy']): ( [16.0, 0.07524834, -0.00017228523, 0.4380945] )\n",
      "Saved Model\n",
      "Epoch no.: 250/1001\n",
      "Step 250: Stats(['Perf/Recent Reward', 'Losses/Policy LL', 'Losses/Value Fxn', 'Losses/Entropy']): ( [18.0, -0.020316869, -0.0036456783, 0.38266075] )\n",
      "Saved Model\n",
      "Epoch no.: 300/1001\n",
      "Step 300: Stats(['Perf/Recent Reward', 'Losses/Policy LL', 'Losses/Value Fxn', 'Losses/Entropy']): ( [14.0, -0.004621327, -0.0062228045, 0.33114877] )\n",
      "Saved Model\n",
      "Epoch no.: 350/1001\n",
      "Step 350: Stats(['Perf/Recent Reward', 'Losses/Policy LL', 'Losses/Value Fxn', 'Losses/Entropy']): ( [14.0, 0.07555915, -0.005491733, 0.28750148] )\n",
      "Saved Model\n",
      "Epoch no.: 400/1001\n",
      "Step 400: Stats(['Perf/Recent Reward', 'Losses/Policy LL', 'Losses/Value Fxn', 'Losses/Entropy']): ( [16.0, -0.075492896, 0.0031351587, 0.28218147] )\n",
      "Saved Model\n",
      "Epoch no.: 450/1001\n",
      "Step 450: Stats(['Perf/Recent Reward', 'Losses/Policy LL', 'Losses/Value Fxn', 'Losses/Entropy']): ( [16.0, -0.11795893, -0.017749103, 0.25334427] )\n",
      "Saved Model\n",
      "Epoch no.: 500/1001\n",
      "Step 500: Stats(['Perf/Recent Reward', 'Losses/Policy LL', 'Losses/Value Fxn', 'Losses/Entropy']): ( [17.0, -0.15324531, 0.0047465065, 0.28435072] )\n",
      "Saved Model\n",
      "Epoch no.: 550/1001\n",
      "Step 550: Stats(['Perf/Recent Reward', 'Losses/Policy LL', 'Losses/Value Fxn', 'Losses/Entropy']): ( [14.0, 0.16485633, 0.0031813383, 0.26191774] )\n",
      "Saved Model\n",
      "Epoch no.: 600/1001\n",
      "Step 600: Stats(['Perf/Recent Reward', 'Losses/Policy LL', 'Losses/Value Fxn', 'Losses/Entropy']): ( [13.0, 0.19080804, 0.0030184537, 0.2566111] )\n",
      "Saved Model\n",
      "Epoch no.: 650/1001\n",
      "Step 650: Stats(['Perf/Recent Reward', 'Losses/Policy LL', 'Losses/Value Fxn', 'Losses/Entropy']): ( [14.0, 0.09553684, 0.0006003539, 0.20251693] )\n",
      "Saved Model\n",
      "Epoch no.: 700/1001\n",
      "Step 700: Stats(['Perf/Recent Reward', 'Losses/Policy LL', 'Losses/Value Fxn', 'Losses/Entropy']): ( [14.0, 0.00083069655, -0.01061393, 0.19539036] )\n",
      "Saved Model\n",
      "Epoch no.: 750/1001\n",
      "Step 750: Stats(['Perf/Recent Reward', 'Losses/Policy LL', 'Losses/Value Fxn', 'Losses/Entropy']): ( [16.0, -0.14786664, -0.002875624, 0.22632371] )\n",
      "Saved Model\n",
      "Epoch no.: 800/1001\n",
      "Step 800: Stats(['Perf/Recent Reward', 'Losses/Policy LL', 'Losses/Value Fxn', 'Losses/Entropy']): ( [14.0, 0.0003988626, -0.0018010477, 0.1661142] )\n",
      "Saved Model\n",
      "Epoch no.: 850/1001\n",
      "Step 850: Stats(['Perf/Recent Reward', 'Losses/Policy LL', 'Losses/Value Fxn', 'Losses/Entropy']): ( [15.0, -0.00010586586, 0.00264618, 0.12793472] )\n",
      "Saved Model\n",
      "Epoch no.: 900/1001\n",
      "Step 900: Stats(['Perf/Recent Reward', 'Losses/Policy LL', 'Losses/Value Fxn', 'Losses/Entropy']): ( [17.0, -0.16752912, -0.0015907846, 0.14886312] )\n",
      "Saved Model\n",
      "Epoch no.: 950/1001\n",
      "Step 950: Stats(['Perf/Recent Reward', 'Losses/Policy LL', 'Losses/Value Fxn', 'Losses/Entropy']): ( [13.0, -0.0006861642, 0.0068344832, 0.16224219] )\n",
      "Saved Model\n",
      "Epoch no.: 1000/1001\n",
      "Step 1000: Stats(['Perf/Recent Reward', 'Losses/Policy LL', 'Losses/Value Fxn', 'Losses/Entropy']): ( [17.0, -0.15769282, 0.010125355, 0.16487823] )\n",
      "Saved Model\n"
     ]
    }
   ],
   "source": [
    "# Train pnet on mingame episodes\n",
    "print('Training...')\n",
    "saver = tf.train.Saver(max_to_keep=1)\n",
    "hist = embrf.work(sess, saver, num_epochs = n_epochs)"
   ]
  },
  {
   "cell_type": "code",
   "execution_count": 13,
   "metadata": {},
   "outputs": [
    {
     "data": {
      "text/plain": [
       "<matplotlib.axes._subplots.AxesSubplot at 0x1c33b118d0>"
      ]
     },
     "execution_count": 13,
     "metadata": {},
     "output_type": "execute_result"
    },
    {
     "data": {
      "image/png": "[encoded data removed]",
      "text/plain": [
       "<Figure size 432x288 with 1 Axes>"
      ]
     },
     "metadata": {
      "needs_background": "light"
     },
     "output_type": "display_data"
    }
   ],
   "source": [
    "sns.violinplot(hist)"
   ]
  },
  {
   "cell_type": "markdown",
   "metadata": {},
   "source": [
    "### Post-test Agent"
   ]
  },
  {
   "cell_type": "code",
   "execution_count": 14,
   "metadata": {},
   "outputs": [
    {
     "name": "stdout",
     "output_type": "stream",
     "text": [
      "Testing...\n",
      "Episode 80/100\n",
      "Agent wins an average of 49.93333333333334 pct compared to baseline of 47.76666666666666 pct\n"
     ]
    }
   ],
   "source": [
    "# Test pnet!\n",
    "print('Testing...')\n",
    "rwd_mg = []\n",
    "for k in range(num_episodes):\n",
    "    embrf.play(sess)\n",
    "    rwd_mg.append(embrf.last_total_return)\n",
    "    if k%int(num_episodes/5) == 0: print(\"\\rEpisode {}/{}\".format(k, num_episodes),end=\"\")\n",
    "trained_perf_mg = np.mean(np.array(rwd_mg)/float(embrf.max_episode_length))\n",
    "print(\"\\nAgent wins an average of {} pct compared to baseline of {} pct\".format(\n",
    "    100*trained_perf_mg, 100*base_perf_mg) )"
   ]
  },
  {
   "cell_type": "code",
   "execution_count": 15,
   "metadata": {},
   "outputs": [
    {
     "name": "stdout",
     "output_type": "stream",
     "text": [
      "\n",
      "Agent wins an average of 49.93333333333334 pct \n",
      "compared to baseline of 47.76666666666666 pct\n"
     ]
    },
    {
     "data": {
      "image/png": "[encoded data removed]",
      "text/plain": [
       "<Figure size 432x288 with 2 Axes>"
      ]
     },
     "metadata": {
      "needs_background": "light"
     },
     "output_type": "display_data"
    }
   ],
   "source": [
    "fig, axs = plt.subplots(2, 1, sharex=True)\n",
    "sns.violinplot(rwd_mg0, ax = axs[0])\n",
    "axs[0].set_title('Baseline Mean Success Percentage')\n",
    "sns.violinplot(rwd_mg, ax = axs[1])\n",
    "axs[1].set_title('Trained Mean Success Percentage')\n",
    "\n",
    "print(\"\\nAgent wins an average of {} pct \\ncompared to baseline of {} pct\".format(\n",
    "    100*trained_perf_mg, 100*base_perf_mg) )"
   ]
  },
  {
   "cell_type": "code",
   "execution_count": 16,
   "metadata": {},
   "outputs": [],
   "source": [
    "# sess.close()"
   ]
  }
 ],
 "metadata": {
  "kernelspec": {
   "display_name": "Python 3",
   "language": "python",
   "name": "python3"
  },
  "language_info": {
   "codemirror_mode": {
    "name": "ipython",
    "version": 3
   },
   "file_extension": ".py",
   "mimetype": "text/x-python",
   "name": "python",
   "nbconvert_exporter": "python",
   "pygments_lexer": "ipython3",
   "version": "3.6.8"
  }
 },
 "nbformat": 4,
 "nbformat_minor": 2
}
