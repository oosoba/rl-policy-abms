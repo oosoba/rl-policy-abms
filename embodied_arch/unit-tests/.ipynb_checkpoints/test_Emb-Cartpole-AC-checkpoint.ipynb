{
 "cells": [
  {
   "cell_type": "code",
   "execution_count": 1,
   "metadata": {},
   "outputs": [
    {
     "name": "stdout",
     "output_type": "stream",
     "text": [
      "1.13.1\n"
     ]
    }
   ],
   "source": [
    "import gym, importlib, sys, warnings, IPython\n",
    "import tensorflow as tf\n",
    "import itertools\n",
    "import numpy as np\n",
    "import matplotlib.pyplot as plt\n",
    "import seaborn as sns\n",
    "\n",
    "# %autosave 240\n",
    "warnings.filterwarnings(\"ignore\")\n",
    "print(tf.__version__)"
   ]
  },
  {
   "cell_type": "markdown",
   "metadata": {},
   "source": [
    "## Cartpole Benchmark Setup"
   ]
  },
  {
   "cell_type": "code",
   "execution_count": 2,
   "metadata": {},
   "outputs": [
    {
     "data": {
      "text/plain": [
       "<module 'embodied_AC' from '../../embodied_arch/embodied_AC.py'>"
      ]
     },
     "execution_count": 2,
     "metadata": {},
     "output_type": "execute_result"
    }
   ],
   "source": [
    "sys.path.append('../../embodied_arch/')\n",
    "import embodied_AC as em\n",
    "from embodied_misc import ActionPolicyNetwork, ValueNetwork, SensoriumNetworkTemplate\n",
    "importlib.reload(em)"
   ]
  },
  {
   "cell_type": "code",
   "execution_count": 3,
   "metadata": {},
   "outputs": [],
   "source": [
    "actor = lambda s: ActionPolicyNetwork(s, hSeq=(3,), gamma_reg=1.)\n",
    "value = lambda s: ValueNetwork(s, hSeq=(3,), gamma_reg=1.)\n",
    "sensor = lambda st, out_dim: SensoriumNetworkTemplate(st, hSeq=(8,), out_dim=out_dim, gamma_reg=5.)"
   ]
  },
  {
   "cell_type": "code",
   "execution_count": 4,
   "metadata": {},
   "outputs": [
    {
     "name": "stdout",
     "output_type": "stream",
     "text": [
      "WARNING:tensorflow:From /miniconda3/lib/python3.6/site-packages/tensorflow/contrib/layers/python/layers/layers.py:1624: flatten (from tensorflow.python.layers.core) is deprecated and will be removed in a future version.\n",
      "Instructions for updating:\n",
      "Use keras.layers.flatten instead.\n",
      "WARNING:tensorflow:From /miniconda3/lib/python3.6/site-packages/tensorflow/python/framework/op_def_library.py:263: colocate_with (from tensorflow.python.framework.ops) is deprecated and will be removed in a future version.\n",
      "Instructions for updating:\n",
      "Colocations handled automatically by placer.\n",
      "<embodied_AC.EmbodiedAgentAC object at 0x1c2b7122b0> 4 1\n"
     ]
    }
   ],
   "source": [
    "tf.reset_default_graph()\n",
    "env = gym.make('CartPole-v0')\n",
    "env.seed(1)  # reproducible\n",
    "\n",
    "cpac = em.EmbodiedAgentAC(\n",
    "    name=\"cp-emb-ac-v0\", env_=env,\n",
    "    space_size = (4,1),latentDim=20,\n",
    "    alpha_p=10., alpha_v=50.,\n",
    "    actorNN=actor, sensorium=sensor\n",
    ")\n",
    "print(cpac, cpac.s_size, cpac.a_size)"
   ]
  },
  {
   "cell_type": "code",
   "execution_count": 5,
   "metadata": {},
   "outputs": [
    {
     "name": "stdout",
     "output_type": "stream",
     "text": [
      "Tensorboard logs in:  ./log/train_cp-emb-ac-v0\n"
     ]
    }
   ],
   "source": [
    "saver = tf.train.Saver(max_to_keep=1)  #n_epochs = 1000\n",
    "sess = tf.InteractiveSession() \n",
    "cpac.init_graph(sess)\n",
    "\n",
    "num_episodes = 100\n",
    "n_epochs = 751"
   ]
  },
  {
   "cell_type": "code",
   "execution_count": 6,
   "metadata": {},
   "outputs": [
    {
     "name": "stdout",
     "output_type": "stream",
     "text": [
      "[ 0.03073904  0.00145001 -0.03088818 -0.03131252] 1\n"
     ]
    },
    {
     "data": {
      "text/plain": [
       "4"
      ]
     },
     "execution_count": 6,
     "metadata": {},
     "output_type": "execute_result"
    }
   ],
   "source": [
    "## Verify step + play set up\n",
    "state = cpac.env.reset()\n",
    "print(state, cpac.act(state, sess))\n",
    "cpac.env.step(cpac.act(state, sess))\n",
    "cpac.play(sess)\n",
    "len(cpac.episode_buffer)"
   ]
  },
  {
   "cell_type": "markdown",
   "metadata": {},
   "source": [
    "## Baseline"
   ]
  },
  {
   "cell_type": "code",
   "execution_count": 7,
   "metadata": {},
   "outputs": [
    {
     "name": "stdout",
     "output_type": "stream",
     "text": [
      "Baselining untrained pnet...\n",
      "Episode 80/100\n",
      "Cartpole stays up for an average of 11.12 steps\n"
     ]
    }
   ],
   "source": [
    "print('Baselining untrained pnet...')\n",
    "uplen0 = []\n",
    "for k in range(num_episodes):\n",
    "    cpac.play(sess)\n",
    "    uplen0.append(cpac.last_total_return) \n",
    "    if k%20 == 0: print(\"\\rEpisode {}/{}\".format(k, num_episodes),end=\"\")\n",
    "base_perf = np.mean(uplen0)\n",
    "print(\"\\nCartpole stays up for an average of {} steps\".format(base_perf))"
   ]
  },
  {
   "cell_type": "markdown",
   "metadata": {},
   "source": [
    "## Train"
   ]
  },
  {
   "cell_type": "code",
   "execution_count": 8,
   "metadata": {},
   "outputs": [
    {
     "name": "stdout",
     "output_type": "stream",
     "text": [
      "\tIteration 749: Value loss(-18.43951988220215)"
     ]
    },
    {
     "data": {
      "text/plain": [
       "[<matplotlib.lines.Line2D at 0x1c2c3f48d0>]"
      ]
     },
     "execution_count": 8,
     "metadata": {},
     "output_type": "execute_result"
    },
    {
     "data": {
      "image/png": "[encoded data removed]",
      "text/plain": [
       "<Figure size 432x288 with 1 Axes>"
      ]
     },
     "metadata": {
      "needs_background": "light"
     },
     "output_type": "display_data"
    }
   ],
   "source": [
    "obs = []\n",
    "for ct in range(750):\n",
    "    cpac.play(sess)\n",
    "    tmp = cpac.pretrainV(sess)\n",
    "    obs.append(tmp)\n",
    "    print('\\r\\tIteration {}: Value loss({})'.format(ct, tmp), end=\"\")\n",
    "plt.plot(obs)"
   ]
  },
  {
   "cell_type": "code",
   "execution_count": 9,
   "metadata": {},
   "outputs": [
    {
     "name": "stdout",
     "output_type": "stream",
     "text": [
      "Training...\n",
      "Starting agent cp-emb-ac-v0\n",
      "Epoch no.: 0/751\n",
      "Step 0: Stats(['Perf/Recent Reward', 'Losses/Policy LL', 'Losses/Value Fxn', 'Losses/Entropy']): ( [26.0, -5.4632244, 86.3918, 0.68882424] )\n",
      "Saved Model\n",
      "Epoch no.: 50/751\n",
      "Step 50: Stats(['Perf/Recent Reward', 'Losses/Policy LL', 'Losses/Value Fxn', 'Losses/Entropy']): ( [4.0, 7.3620434, 45.57298, 0.6911425] )\n",
      "WARNING:tensorflow:From /miniconda3/lib/python3.6/site-packages/tensorflow/python/training/saver.py:966: remove_checkpoint (from tensorflow.python.training.checkpoint_management) is deprecated and will be removed in a future version.\n",
      "Instructions for updating:\n",
      "Use standard file APIs to delete files with this prefix.\n",
      "Saved Model\n",
      "Epoch no.: 100/751\n",
      "Step 100: Stats(['Perf/Recent Reward', 'Losses/Policy LL', 'Losses/Value Fxn', 'Losses/Entropy']): ( [10.0, -2.0984397, 60.06588, 0.6734616] )\n",
      "Saved Model\n",
      "Epoch no.: 150/751\n",
      "Step 150: Stats(['Perf/Recent Reward', 'Losses/Policy LL', 'Losses/Value Fxn', 'Losses/Entropy']): ( [3.0, 11.868406, -132.61943, 0.62049955] )\n",
      "Saved Model\n",
      "Epoch no.: 200/751\n",
      "Step 200: Stats(['Perf/Recent Reward', 'Losses/Policy LL', 'Losses/Value Fxn', 'Losses/Entropy']): ( [79.0, 1.3875735, 365.14822, 0.6531282] )\n",
      "Saved Model\n",
      "Epoch no.: 250/751\n",
      "Step 250: Stats(['Perf/Recent Reward', 'Losses/Policy LL', 'Losses/Value Fxn', 'Losses/Entropy']): ( [20.0, 14.258268, 113.732635, 0.63725454] )\n",
      "Saved Model\n",
      "Epoch no.: 300/751\n",
      "Step 300: Stats(['Perf/Recent Reward', 'Losses/Policy LL', 'Losses/Value Fxn', 'Losses/Entropy']): ( [27.0, -2.1314907, -293.17865, 0.6247053] )\n",
      "Saved Model\n",
      "Epoch no.: 350/751\n",
      "Step 350: Stats(['Perf/Recent Reward', 'Losses/Policy LL', 'Losses/Value Fxn', 'Losses/Entropy']): ( [30.0, 11.363843, -1131.1205, 0.5864206] )\n",
      "Saved Model\n",
      "Epoch no.: 400/751\n",
      "Step 400: Stats(['Perf/Recent Reward', 'Losses/Policy LL', 'Losses/Value Fxn', 'Losses/Entropy']): ( [71.0, 60.01129, -1059.0898, 0.59094954] )\n",
      "Saved Model\n",
      "Epoch no.: 450/751\n",
      "Step 450: Stats(['Perf/Recent Reward', 'Losses/Policy LL', 'Losses/Value Fxn', 'Losses/Entropy']): ( [124.0, -7.9768496, -189.47461, 0.6185006] )\n",
      "Saved Model\n",
      "Epoch no.: 500/751\n",
      "Step 500: Stats(['Perf/Recent Reward', 'Losses/Policy LL', 'Losses/Value Fxn', 'Losses/Entropy']): ( [189.0, -17.309113, 1684.3384, 0.5851978] )\n",
      "Saved Model\n",
      "Epoch no.: 550/751\n",
      "Step 550: Stats(['Perf/Recent Reward', 'Losses/Policy LL', 'Losses/Value Fxn', 'Losses/Entropy']): ( [175.0, -1.2490499, 207.5935, 0.50550544] )\n",
      "Saved Model\n",
      "Epoch no.: 600/751\n",
      "Step 600: Stats(['Perf/Recent Reward', 'Losses/Policy LL', 'Losses/Value Fxn', 'Losses/Entropy']): ( [189.0, 60.662476, -233.02417, 0.50365555] )\n",
      "Saved Model\n",
      "Epoch no.: 650/751\n",
      "Step 650: Stats(['Perf/Recent Reward', 'Losses/Policy LL', 'Losses/Value Fxn', 'Losses/Entropy']): ( [189.0, 166.5185, 333.83557, 0.5704436] )\n",
      "Saved Model\n",
      "Epoch no.: 700/751\n",
      "Step 700: Stats(['Perf/Recent Reward', 'Losses/Policy LL', 'Losses/Value Fxn', 'Losses/Entropy']): ( [189.0, -20.582443, 75.15112, 0.5546845] )\n",
      "Saved Model\n",
      "Epoch no.: 750/751\n",
      "Step 750: Stats(['Perf/Recent Reward', 'Losses/Policy LL', 'Losses/Value Fxn', 'Losses/Entropy']): ( [189.0, 68.72896, -966.64014, 0.53754103] )\n",
      "Saved Model\n"
     ]
    }
   ],
   "source": [
    "# Train pnet on cartpole episodes\n",
    "print('Training...')\n",
    "saver = tf.train.Saver(max_to_keep=1)\n",
    "hist = cpac.work(sess, saver, num_epochs=n_epochs)"
   ]
  },
  {
   "cell_type": "markdown",
   "metadata": {},
   "source": [
    "## Test"
   ]
  },
  {
   "cell_type": "code",
   "execution_count": 10,
   "metadata": {},
   "outputs": [
    {
     "name": "stdout",
     "output_type": "stream",
     "text": [
      "Testing...\n",
      "Episode 80/100\n",
      "Cartpole stays up for an average of 147.84 steps compared to baseline 11.12 steps\n"
     ]
    }
   ],
   "source": [
    "# Test pnet!\n",
    "print('Testing...')\n",
    "uplen = []\n",
    "for k in range(num_episodes):\n",
    "    cpac.play(sess)\n",
    "    uplen.append(cpac.last_total_return)\n",
    "    if k%20 == 0: print(\"\\rEpisode {}/{}\".format(k, num_episodes),end=\"\")\n",
    "trained_perf = np.mean(uplen)\n",
    "print(\"\\nCartpole stays up for an average of {} steps compared to baseline {} steps\".format(trained_perf, base_perf) )"
   ]
  },
  {
   "cell_type": "markdown",
   "metadata": {},
   "source": [
    "## Evaluate"
   ]
  },
  {
   "cell_type": "code",
   "execution_count": 11,
   "metadata": {},
   "outputs": [
    {
     "data": {
      "text/plain": [
       "Text(0.5, 1.0, 'Trained Episode Lengths')"
      ]
     },
     "execution_count": 11,
     "metadata": {},
     "output_type": "execute_result"
    },
    {
     "data": {
      "image/png": "[encoded data removed]",
      "text/plain": [
       "<Figure size 432x288 with 2 Axes>"
      ]
     },
     "metadata": {
      "needs_background": "light"
     },
     "output_type": "display_data"
    }
   ],
   "source": [
    "fig, axs = plt.subplots(2, 1, sharex=True)\n",
    "sns.boxplot(uplen0, ax = axs[0])\n",
    "axs[0].set_title('Baseline Episode Lengths')\n",
    "sns.boxplot(uplen, ax = axs[1])\n",
    "axs[1].set_title('Trained Episode Lengths')"
   ]
  },
  {
   "cell_type": "code",
   "execution_count": 12,
   "metadata": {},
   "outputs": [
    {
     "name": "stdout",
     "output_type": "stream",
     "text": [
      "\tEpisode Length 200"
     ]
    }
   ],
   "source": [
    "buf = []\n",
    "last_total_return, d, s = 0, False, cpac.env.reset() \n",
    "while (len(buf) < 1000) and not d:\n",
    "    a_t = cpac.act(s, sess) \n",
    "    s1, r, d, *rest = cpac.env.step(a_t)\n",
    "    cpac.env.render()\n",
    "    buf.append([s, a_t, float(r), s1])\n",
    "    last_total_return += float(r)\n",
    "    s = s1\n",
    "    print(\"\\r\\tEpisode Length\", len(buf), end=\"\")"
   ]
  },
  {
   "cell_type": "code",
   "execution_count": 13,
   "metadata": {},
   "outputs": [],
   "source": [
    "# sess.close()"
   ]
  }
 ],
 "metadata": {
  "kernelspec": {
   "display_name": "Python 3",
   "language": "python",
   "name": "python3"
  },
  "language_info": {
   "codemirror_mode": {
    "name": "ipython",
    "version": 3
   },
   "file_extension": ".py",
   "mimetype": "text/x-python",
   "name": "python",
   "nbconvert_exporter": "python",
   "pygments_lexer": "ipython3",
   "version": "3.6.8"
  }
 },
 "nbformat": 4,
 "nbformat_minor": 2
}
