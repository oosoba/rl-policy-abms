{
 "cells": [
  {
   "cell_type": "code",
   "execution_count": 1,
   "metadata": {},
   "outputs": [
    {
     "data": {
      "application/javascript": [
       "IPython.notebook.set_autosave_interval(240000)"
      ]
     },
     "metadata": {},
     "output_type": "display_data"
    },
    {
     "name": "stdout",
     "output_type": "stream",
     "text": [
      "Autosaving every 240 seconds\n",
      "1.13.1\n"
     ]
    }
   ],
   "source": [
    "import gym, importlib, sys, warnings, IPython\n",
    "import tensorflow as tf\n",
    "import itertools\n",
    "import numpy as np\n",
    "import matplotlib.pyplot as plt\n",
    "import seaborn as sns\n",
    "\n",
    "%autosave 240\n",
    "warnings.filterwarnings(\"ignore\")\n",
    "print(tf.__version__)"
   ]
  },
  {
   "cell_type": "code",
   "execution_count": 2,
   "metadata": {},
   "outputs": [
    {
     "data": {
      "text/plain": [
       "<module 'embodied' from '../../embodied_arch/embodied.py'>"
      ]
     },
     "execution_count": 2,
     "metadata": {},
     "output_type": "execute_result"
    }
   ],
   "source": [
    "sys.path.append('../../embodied_arch/')\n",
    "import embodied as emg\n",
    "from embodied_misc import ActionPolicyNetwork, SensoriumNetworkTemplate\n",
    "importlib.reload(emg)"
   ]
  },
  {
   "cell_type": "markdown",
   "metadata": {},
   "source": [
    "## Cartpole Benchmark Setup"
   ]
  },
  {
   "cell_type": "code",
   "execution_count": 3,
   "metadata": {},
   "outputs": [],
   "source": [
    "actor = lambda s: ActionPolicyNetwork(s, hSeq=(10,), gamma_reg=1e-1)\n",
    "sensor = lambda st, out_dim: SensoriumNetworkTemplate(st, hSeq=(16,8,), out_dim=out_dim, gamma_reg=5.)"
   ]
  },
  {
   "cell_type": "code",
   "execution_count": 4,
   "metadata": {},
   "outputs": [
    {
     "name": "stdout",
     "output_type": "stream",
     "text": [
      "WARNING:tensorflow:From /miniconda3/lib/python3.6/site-packages/tensorflow/contrib/layers/python/layers/layers.py:1624: flatten (from tensorflow.python.layers.core) is deprecated and will be removed in a future version.\n",
      "Instructions for updating:\n",
      "Use keras.layers.flatten instead.\n",
      "WARNING:tensorflow:From /miniconda3/lib/python3.6/site-packages/tensorflow/python/framework/op_def_library.py:263: colocate_with (from tensorflow.python.framework.ops) is deprecated and will be removed in a future version.\n",
      "Instructions for updating:\n",
      "Colocations handled automatically by placer.\n",
      "<embodied.EmbodiedAgentRFBaselined object at 0x1c27490780> 4 1\n"
     ]
    }
   ],
   "source": [
    "tf.reset_default_graph()\n",
    "importlib.reload(emg)\n",
    "env = gym.make('CartPole-v0')\n",
    "# cprf = emg.EmbodiedAgentRF(\n",
    "#     name=\"cp-emb\", env_=env,\n",
    "#     space_size = (4,1),latentDim=4,\n",
    "#     alpha=1e6, actorNN=actor, sensorium=sensor\n",
    "# )\n",
    "cprf = emg.EmbodiedAgentRFBaselined(\n",
    "    name=\"cp-emb-b\", env_=env,\n",
    "    space_size = (4,1),latentDim=4,\n",
    "    alpha_p=5e3, alpha_v=5e2, actorNN=actor, sensorium=sensor\n",
    ")\n",
    "\n",
    "print(cprf, cprf.s_size, cprf.a_size)"
   ]
  },
  {
   "cell_type": "code",
   "execution_count": 5,
   "metadata": {},
   "outputs": [
    {
     "name": "stdout",
     "output_type": "stream",
     "text": [
      "Tensorboard logs in:  ./log/train_cp-emb-b\n"
     ]
    }
   ],
   "source": [
    "saver = tf.train.Saver(max_to_keep=1)  #n_epochs = 1000\n",
    "sess = tf.InteractiveSession() \n",
    "cprf.init_graph(sess)\n",
    "\n",
    "num_episodes = 100\n",
    "n_epochs = 751"
   ]
  },
  {
   "cell_type": "code",
   "execution_count": 6,
   "metadata": {},
   "outputs": [
    {
     "name": "stdout",
     "output_type": "stream",
     "text": [
      "[ 0.00887747 -0.03456913 -0.04324442  0.0116372 ] 1\n"
     ]
    },
    {
     "data": {
      "text/plain": [
       "28"
      ]
     },
     "execution_count": 6,
     "metadata": {},
     "output_type": "execute_result"
    }
   ],
   "source": [
    "## Verify step + play set up\n",
    "state = cprf.env.reset()\n",
    "print(state, cprf.act(state, sess))\n",
    "# cprf.env.step(cprf.act(state, sess))\n",
    "\n",
    "cprf.play(sess)\n",
    "cprf.episode_length()"
   ]
  },
  {
   "cell_type": "markdown",
   "metadata": {},
   "source": [
    "## Baseline"
   ]
  },
  {
   "cell_type": "code",
   "execution_count": 7,
   "metadata": {},
   "outputs": [
    {
     "name": "stdout",
     "output_type": "stream",
     "text": [
      "Baselining untrained pnet...\n",
      "Episode 80/100\n",
      "Cartpole stays up for an average of 13.72 steps\n"
     ]
    }
   ],
   "source": [
    "print('Baselining untrained pnet...')\n",
    "uplen0 = []\n",
    "for k in range(num_episodes):\n",
    "    cprf.play(sess, terminal_reward=0.)\n",
    "    uplen0.append(cprf.last_total_return) # uplen0.append(len(cprf.episode_buffer))\n",
    "    if k%20 == 0: print(\"\\rEpisode {}/{}\".format(k, num_episodes),end=\"\")\n",
    "base_perf = np.mean(uplen0)\n",
    "print(\"\\nCartpole stays up for an average of {} steps\".format(base_perf))"
   ]
  },
  {
   "cell_type": "code",
   "execution_count": 8,
   "metadata": {},
   "outputs": [],
   "source": [
    "st = cprf.env.reset()"
   ]
  },
  {
   "cell_type": "markdown",
   "metadata": {},
   "source": [
    "## Train"
   ]
  },
  {
   "cell_type": "code",
   "execution_count": 9,
   "metadata": {},
   "outputs": [
    {
     "name": "stdout",
     "output_type": "stream",
     "text": [
      "Training...\n",
      "Starting agent cp-emb-b\n",
      "Epoch no.: 0/751\n",
      "Step 0: Stats(['Perf/Recent Reward', 'Losses/Policy LL', 'Losses/Value Fxn', 'Losses/Entropy']): ( [12.0, -0.6161139, 9627.055, 0.5285905] )\n",
      "Saved Model\n",
      "Epoch no.: 50/751\n",
      "Step 50: Stats(['Perf/Recent Reward', 'Losses/Policy LL', 'Losses/Value Fxn', 'Losses/Entropy']): ( [10.0, -0.67658585, 8733.718, 0.69031906] )\n",
      "WARNING:tensorflow:From /miniconda3/lib/python3.6/site-packages/tensorflow/python/training/saver.py:966: remove_checkpoint (from tensorflow.python.training.checkpoint_management) is deprecated and will be removed in a future version.\n",
      "Instructions for updating:\n",
      "Use standard file APIs to delete files with this prefix.\n",
      "Saved Model\n",
      "Epoch no.: 100/751\n",
      "Step 100: Stats(['Perf/Recent Reward', 'Losses/Policy LL', 'Losses/Value Fxn', 'Losses/Entropy']): ( [14.0, -0.6816641, 10951.782, 0.69037634] )\n",
      "Saved Model\n",
      "Epoch no.: 150/751\n",
      "Step 150: Stats(['Perf/Recent Reward', 'Losses/Policy LL', 'Losses/Value Fxn', 'Losses/Entropy']): ( [56.0, -0.6267165, 37576.707, 0.6429376] )\n",
      "Saved Model\n",
      "Epoch no.: 200/751\n",
      "Step 200: Stats(['Perf/Recent Reward', 'Losses/Policy LL', 'Losses/Value Fxn', 'Losses/Entropy']): ( [189.0, -0.51126426, 41477.2, 0.5253719] )\n",
      "Saved Model\n",
      "Epoch no.: 250/751\n",
      "Step 250: Stats(['Perf/Recent Reward', 'Losses/Policy LL', 'Losses/Value Fxn', 'Losses/Entropy']): ( [189.0, -0.48798335, 28192.725, 0.43439484] )\n",
      "Saved Model\n",
      "Epoch no.: 300/751\n",
      "Step 300: Stats(['Perf/Recent Reward', 'Losses/Policy LL', 'Losses/Value Fxn', 'Losses/Entropy']): ( [189.0, -0.4609928, 18686.055, 0.4729609] )\n",
      "Saved Model\n",
      "Epoch no.: 350/751\n",
      "Step 350: Stats(['Perf/Recent Reward', 'Losses/Policy LL', 'Losses/Value Fxn', 'Losses/Entropy']): ( [105.0, -0.46649963, 14581.581, 0.5170578] )\n",
      "Saved Model\n",
      "Epoch no.: 400/751\n",
      "Step 400: Stats(['Perf/Recent Reward', 'Losses/Policy LL', 'Losses/Value Fxn', 'Losses/Entropy']): ( [189.0, -0.3853776, 11983.678, 0.38386908] )\n",
      "Saved Model\n",
      "Epoch no.: 450/751\n",
      "Step 450: Stats(['Perf/Recent Reward', 'Losses/Policy LL', 'Losses/Value Fxn', 'Losses/Entropy']): ( [189.0, -0.4011379, 10400.621, 0.380041] )\n",
      "Saved Model\n",
      "Epoch no.: 500/751\n",
      "Step 500: Stats(['Perf/Recent Reward', 'Losses/Policy LL', 'Losses/Value Fxn', 'Losses/Entropy']): ( [131.0, -0.42305335, 11797.606, 0.412088] )\n",
      "Saved Model\n",
      "Epoch no.: 550/751\n",
      "Step 550: Stats(['Perf/Recent Reward', 'Losses/Policy LL', 'Losses/Value Fxn', 'Losses/Entropy']): ( [189.0, -0.46289605, 9599.698, 0.40784386] )\n",
      "Saved Model\n",
      "Epoch no.: 600/751\n",
      "Step 600: Stats(['Perf/Recent Reward', 'Losses/Policy LL', 'Losses/Value Fxn', 'Losses/Entropy']): ( [148.0, -0.4584968, 10955.995, 0.3914824] )\n",
      "Saved Model\n",
      "Epoch no.: 650/751\n",
      "Step 650: Stats(['Perf/Recent Reward', 'Losses/Policy LL', 'Losses/Value Fxn', 'Losses/Entropy']): ( [189.0, -0.37409043, 9450.124, 0.37746754] )\n",
      "Saved Model\n",
      "Epoch no.: 700/751\n",
      "Step 700: Stats(['Perf/Recent Reward', 'Losses/Policy LL', 'Losses/Value Fxn', 'Losses/Entropy']): ( [189.0, -0.42029446, 9339.4795, 0.32317445] )\n",
      "Saved Model\n",
      "Epoch no.: 750/751\n",
      "Step 750: Stats(['Perf/Recent Reward', 'Losses/Policy LL', 'Losses/Value Fxn', 'Losses/Entropy']): ( [189.0, -0.30909976, 9302.547, 0.3591262] )\n",
      "Saved Model\n"
     ]
    }
   ],
   "source": [
    "# Train pnet on cartpole episodes\n",
    "print('Training...')\n",
    "saver = tf.train.Saver(max_to_keep=1)\n",
    "cprf.work(sess, saver, num_epochs=n_epochs);"
   ]
  },
  {
   "cell_type": "markdown",
   "metadata": {},
   "source": [
    "## Test"
   ]
  },
  {
   "cell_type": "code",
   "execution_count": 10,
   "metadata": {},
   "outputs": [
    {
     "name": "stdout",
     "output_type": "stream",
     "text": [
      "Testing...\n",
      "Episode 80/100\n",
      "Cartpole stays up for an average of 199.0 steps compared to baseline 13.72 steps\n"
     ]
    }
   ],
   "source": [
    "# Test pnet!\n",
    "print('Testing...')\n",
    "uplen = []\n",
    "for k in range(num_episodes):\n",
    "    cprf.play(sess, terminal_reward=0.)\n",
    "    uplen.append(cprf.last_total_return) # uplen.append(len(cprf.episode_buffer))\n",
    "    if k%20 == 0: print(\"\\rEpisode {}/{}\".format(k, num_episodes),end=\"\")\n",
    "trained_perf = np.mean(uplen)\n",
    "print(\"\\nCartpole stays up for an average of {} steps compared to baseline {} steps\".format(trained_perf, base_perf) )"
   ]
  },
  {
   "cell_type": "markdown",
   "metadata": {},
   "source": [
    "## Evaluate"
   ]
  },
  {
   "cell_type": "code",
   "execution_count": 11,
   "metadata": {},
   "outputs": [
    {
     "data": {
      "text/plain": [
       "Text(0.5, 1.0, 'Trained Episode Lengths')"
      ]
     },
     "execution_count": 11,
     "metadata": {},
     "output_type": "execute_result"
    },
    {
     "data": {
      "image/png": "[encoded data removed]",
      "text/plain": [
       "<Figure size 432x288 with 2 Axes>"
      ]
     },
     "metadata": {
      "needs_background": "light"
     },
     "output_type": "display_data"
    }
   ],
   "source": [
    "fig, axs = plt.subplots(2, 1, sharex=True)\n",
    "sns.boxplot(uplen0, ax = axs[0])\n",
    "axs[0].set_title('Baseline Episode Lengths')\n",
    "sns.boxplot(uplen, ax = axs[1])\n",
    "axs[1].set_title('Trained Episode Lengths')"
   ]
  },
  {
   "cell_type": "code",
   "execution_count": 12,
   "metadata": {},
   "outputs": [],
   "source": [
    "# buf = []\n",
    "# last_total_return, d, s = 0, False, cprf.env.reset() \n",
    "# while (len(buf) < 1000) and not d:\n",
    "#     a_t = cprf.act(s, sess) \n",
    "#     s1, r, d, *rest = cprf.env.step(a_t)\n",
    "#     cprf.env.render()\n",
    "#     buf.append([s, a_t, float(r), s1])\n",
    "#     last_total_return += float(r)\n",
    "#     s = s1\n",
    "#     print(\"\\r\\tEpisode Length\", len(buf), end=\"\")"
   ]
  },
  {
   "cell_type": "code",
   "execution_count": 13,
   "metadata": {},
   "outputs": [],
   "source": [
    "# sess.close()"
   ]
  },
  {
   "cell_type": "code",
   "execution_count": 14,
   "metadata": {},
   "outputs": [],
   "source": [
    "# fdic = {\n",
    "#     cprf.states_St:[st, st],\n",
    "#     cprf.actions_At :np.vstack([1,1])\n",
    "# }\n",
    "\n",
    "# print(sess.run(\n",
    "#     [cprf.a_prob, cprf.a_logit],\n",
    "#     feed_dict=fdic)\n",
    "#      )\n",
    "# print(sess.run(\n",
    "#     [cprf.entropy],\n",
    "#     feed_dict=fdic)\n",
    "#      )\n",
    "\n",
    "# print(\n",
    "#     np.squeeze(\n",
    "#         sess.run([cprf.lnPi_t],\n",
    "#                  feed_dict=fdic)\n",
    "#     )\n",
    "# )"
   ]
  },
  {
   "cell_type": "code",
   "execution_count": 15,
   "metadata": {},
   "outputs": [],
   "source": [
    "# sess.run(\n",
    "#     tf.one_hot(tf.cast(tf.reshape(cprf.actions_At, shape=[-1]), dtype=tf.uint8), depth=2), #\n",
    "#     feed_dict={cprf.actions_At :np.vstack([1,0,1,1,0,0])}\n",
    "# )"
   ]
  }
 ],
 "metadata": {
  "kernelspec": {
   "display_name": "Python 3",
   "language": "python",
   "name": "python3"
  },
  "language_info": {
   "codemirror_mode": {
    "name": "ipython",
    "version": 3
   },
   "file_extension": ".py",
   "mimetype": "text/x-python",
   "name": "python",
   "nbconvert_exporter": "python",
   "pygments_lexer": "ipython3",
   "version": "3.6.8"
  }
 },
 "nbformat": 4,
 "nbformat_minor": 2
}
