{
 "cells": [
  {
   "cell_type": "code",
   "execution_count": 1,
   "metadata": {},
   "outputs": [
    {
     "name": "stdout",
     "output_type": "stream",
     "text": [
      "1.15.0\n"
     ]
    }
   ],
   "source": [
    "import gym, importlib, sys, warnings, os, IPython\n",
    "import tensorflow as tf\n",
    "import itertools\n",
    "import numpy as np\n",
    "import matplotlib.pyplot as plt\n",
    "import seaborn as sns\n",
    "\n",
    "# %autosave 240\n",
    "\n",
    "## suppress annoy verbose tf msgs\n",
    "warnings.filterwarnings(\"ignore\")\n",
    "os.environ['TF_CPP_MIN_LOG_LEVEL'] = '2' # '3' to block all including error msgs\n",
    "tf.compat.v1.logging.set_verbosity(tf.compat.v1.logging.ERROR)\n",
    "\n",
    "print(tf.__version__)"
   ]
  },
  {
   "cell_type": "code",
   "execution_count": 2,
   "metadata": {},
   "outputs": [],
   "source": [
    "from scipy import signal\n",
    "plt.rcParams['figure.figsize'] = (18,7)"
   ]
  },
  {
   "cell_type": "code",
   "execution_count": 3,
   "metadata": {
    "jupyter": {
     "source_hidden": true
    }
   },
   "outputs": [],
   "source": [
    "# ?signal.sawtooth\n",
    "# ?plt.plot\n",
    "# ?np.tile\n",
    "\n",
    "# halflife = 250\n",
    "# tst =  np.hstack([atten*np.ones(halflife) for atten in  (2**np.arange(0,4))])\n",
    "\n",
    "# se = np.arange(len(tst))\n",
    "# freq = 2*np.pi/100\n",
    "# gamma = 0.1\n",
    "# min_lr = 0.005\n",
    "\n",
    "# cycs = signal.sawtooth(freq*se, width=0.5) + 1 + min_lr\n",
    "# plt.plot(se, cycs/tst)\n",
    "# plt.plot(se, 1/tst)\n",
    "\n",
    "# se = np.arange(1,1e4)\n",
    "# freq = 2*np.pi/100\n",
    "# gamma = 0.1\n",
    "# min_lr = 0.005\n",
    "\n",
    "# cycs = signal.sawtooth(freq*se, width=0.5) + 1 + min_lr\n",
    "# plt.plot(se, cycs/np.log(se))\n",
    "\n",
    "# se = np.arange(1,1e3)\n",
    "# freq = 2*np.pi/100\n",
    "# gamma = 0.1\n",
    "# min_lr = 0.005\n",
    "\n",
    "# lrs = signal.sawtooth(freq*se, width=0)\n",
    "# env = se**(-gamma) # np.ones_like(se)**gamma\n",
    "\n",
    "# plt.plot(se, np.zeros_like(se) + min_lr)\n",
    "# plt.plot(se, np.ones_like(se) + min_lr)\n",
    "# plt.plot(se, np.ones_like(se) + 1 + min_lr)\n",
    "# plt.plot(se, lrs + 1 + min_lr)\n",
    "# plt.plot(se, env*lrs + 1 + min_lr)\n",
    "# plt.plot(se, 1./np.log(se))"
   ]
  },
  {
   "cell_type": "code",
   "execution_count": 4,
   "metadata": {
    "jupyter": {
     "source_hidden": true
    }
   },
   "outputs": [],
   "source": [
    "# def sch(sch_type, start, hlife):\n",
    "#     _sched_win_ = int(1e4)\n",
    "#     if sch_type == \"constant\" or sch_type not in ['exp', 'log']:\n",
    "#         lrps = start * np.ones(_sched_win_)\n",
    "#     else:\n",
    "#         freq = 2 * np.pi / 50\n",
    "#         cycs = 2*start*(1+signal.sawtooth(freq * np.arange(1, _sched_win_), width=0) )#+ 1 + min_lr\n",
    "#         cycs = cycs[:_sched_win_]\n",
    "# #         plt.figure()\n",
    "# #         plt.plot(cycs[2:])\n",
    "#         if sch_type == \"exp\":\n",
    "#             modulation = np.hstack([atten * np.ones(hlife) for\n",
    "#                                     atten in 2 ** -np.arange(0, np.ceil(_sched_win_/hlife))])\n",
    "#         elif sch_type == \"log\":\n",
    "#             modulation = 1/np.log(np.arange(1.002, _sched_win_)*hlife)\n",
    "#         modulation = modulation[:len(cycs)]\n",
    "#         lrps = cycs*modulation\n",
    "#         min_lr = 0.01 * start\n",
    "#         if (np.min(lrps)<0): lrps = (lrps - np.min(lrps)) + min_lr \n",
    "# #         plt.figure()\n",
    "# #         plt.plot(lrps[2:750])\n",
    "# #         lrps[0] = start\n",
    "#         # lrps = np.clip(lrps, a_min=(1e-6*start), a_max=(1.-_eps_))\n",
    "#     return lrps\n",
    "# tst = sch('exp',start=1e3, hlife=150)\n",
    "# # plt.plot(tst[2:])"
   ]
  },
  {
   "cell_type": "markdown",
   "metadata": {},
   "source": [
    "## Cartpole Benchmark Setup"
   ]
  },
  {
   "cell_type": "code",
   "execution_count": 5,
   "metadata": {},
   "outputs": [
    {
     "data": {
      "text/plain": [
       "<module 'embodied' from '../../embodied_arch/embodied.py'>"
      ]
     },
     "execution_count": 5,
     "metadata": {},
     "output_type": "execute_result"
    }
   ],
   "source": [
    "sys.path.append('../../embodied_arch/')\n",
    "import embodied as emg\n",
    "from embodied_misc import ActionPolicyNetwork, SensoriumNetworkTemplate\n",
    "importlib.reload(emg)"
   ]
  },
  {
   "cell_type": "code",
   "execution_count": 6,
   "metadata": {},
   "outputs": [],
   "source": [
    "actor = lambda s: ActionPolicyNetwork(s, hSeq=(4,), gamma_reg=1e-1)\n",
    "sensor = lambda st, out_dim: SensoriumNetworkTemplate(st, hSeq=(16,), out_dim=out_dim, gamma_reg=5.)"
   ]
  },
  {
   "cell_type": "code",
   "execution_count": 7,
   "metadata": {},
   "outputs": [
    {
     "name": "stdout",
     "output_type": "stream",
     "text": [
      "<embodied.EmbodiedAgentRFBaselined object at 0x146ac2d10> 4 1\n"
     ]
    }
   ],
   "source": [
    "tf.reset_default_graph()\n",
    "importlib.reload(emg)\n",
    "env = gym.make('CartPole-v0')\n",
    "# cprf = emg.EmbodiedAgentRFBaselined(\n",
    "#     name=\"cp-emb\", env_=env,\n",
    "#     space_size = (4,1),latentDim=4, _every_=150,\n",
    "#     alpha=1e3, \n",
    "#     actorNN=actor, sensorium=sensor,\n",
    "#     CyclicSchedule=(\"log\", 50)  #(\"exp\", 150) #None #(\"log\", 50)\n",
    "# );\n",
    "cprf = emg.EmbodiedAgentRFBaselined(\n",
    "    name=\"cp-emb-b\", env_=env,\n",
    "    space_size = (4,1),latentDim=4,\n",
    "    alpha_p=1e3, alpha_v=5e2, \n",
    "    actorNN=actor, sensorium=sensor,\n",
    "    CyclicSchedule=(\"log\", 50)  #(\"exp\", 150) #None #(\"log\", 50)\n",
    ");\n",
    "\n",
    "print(cprf, cprf.s_size, cprf.a_size)"
   ]
  },
  {
   "cell_type": "code",
   "execution_count": 8,
   "metadata": {},
   "outputs": [
    {
     "name": "stdout",
     "output_type": "stream",
     "text": [
      "Tensorboard logs in:  ./log/train_cp-emb-b\n"
     ]
    }
   ],
   "source": [
    "saver = tf.train.Saver(max_to_keep=1)  #n_epochs = 1000\n",
    "sess = tf.InteractiveSession() \n",
    "cprf.init_graph(sess)\n",
    "\n",
    "num_episodes = 100\n",
    "n_epochs = 751"
   ]
  },
  {
   "cell_type": "code",
   "execution_count": 9,
   "metadata": {},
   "outputs": [],
   "source": [
    "# tst = emg.cyc_learning_spd('exp',start=1e3, hlife=150)\n",
    "# plt.plot(tst[:750])"
   ]
  },
  {
   "cell_type": "code",
   "execution_count": 10,
   "metadata": {},
   "outputs": [
    {
     "name": "stdout",
     "output_type": "stream",
     "text": [
      "log 50\n"
     ]
    },
    {
     "data": {
      "text/plain": [
       "99999"
      ]
     },
     "execution_count": 10,
     "metadata": {},
     "output_type": "execute_result"
    }
   ],
   "source": [
    "print(cprf.sched_type, cprf.sched_halflife)\n",
    "len(cprf.alpha_p_schedule)"
   ]
  },
  {
   "cell_type": "code",
   "execution_count": 11,
   "metadata": {},
   "outputs": [
    {
     "name": "stdout",
     "output_type": "stream",
     "text": [
      "7.596789273069294 1001.5275829886506\n"
     ]
    },
    {
     "data": {
      "text/plain": [
       "[<matplotlib.lines.Line2D at 0x149d5dbd0>]"
      ]
     },
     "execution_count": 11,
     "metadata": {},
     "output_type": "execute_result"
    },
    {
     "data": {
      "image/png": "[encoded data removed]",
      "text/plain": [
       "<Figure size 1296x504 with 1 Axes>"
      ]
     },
     "metadata": {
      "needs_background": "light"
     },
     "output_type": "display_data"
    }
   ],
   "source": [
    "print(min(cprf.alpha_p_schedule[:750]), max(cprf.alpha_p_schedule[:750]))\n",
    "\n",
    "plt.plot(cprf.alpha_p_schedule[:750])"
   ]
  },
  {
   "cell_type": "code",
   "execution_count": 12,
   "metadata": {},
   "outputs": [
    {
     "name": "stdout",
     "output_type": "stream",
     "text": [
      "[ 0.00350686  0.04220936  0.01364783 -0.03785842] 1\n"
     ]
    },
    {
     "data": {
      "text/plain": [
       "13"
      ]
     },
     "execution_count": 12,
     "metadata": {},
     "output_type": "execute_result"
    }
   ],
   "source": [
    "## Verify step + play set up\n",
    "state = cprf.env.reset()\n",
    "print(state, cprf.act(state, sess))\n",
    "# cprf.env.step(cprf.act(state, sess))\n",
    "\n",
    "cprf.play(sess)\n",
    "cprf.episode_length()"
   ]
  },
  {
   "cell_type": "markdown",
   "metadata": {},
   "source": [
    "## Baseline"
   ]
  },
  {
   "cell_type": "code",
   "execution_count": 13,
   "metadata": {},
   "outputs": [
    {
     "name": "stdout",
     "output_type": "stream",
     "text": [
      "Baselining untrained pnet...\n",
      "Episode 80/100\n",
      "Cartpole stays up for an average of 10.7 steps\n"
     ]
    }
   ],
   "source": [
    "print('Baselining untrained pnet...')\n",
    "uplen0 = []\n",
    "for k in range(num_episodes):\n",
    "    cprf.play(sess, terminal_reward=0.)\n",
    "    uplen0.append(cprf.last_total_return) # uplen0.append(len(cprf.episode_buffer))\n",
    "    if k%20 == 0: print(\"\\rEpisode {}/{}\".format(k, num_episodes),end=\"\")\n",
    "base_perf = np.mean(uplen0)\n",
    "print(\"\\nCartpole stays up for an average of {} steps\".format(base_perf))"
   ]
  },
  {
   "cell_type": "code",
   "execution_count": 14,
   "metadata": {},
   "outputs": [],
   "source": [
    "st = cprf.env.reset()"
   ]
  },
  {
   "cell_type": "markdown",
   "metadata": {},
   "source": [
    "## Train"
   ]
  },
  {
   "cell_type": "code",
   "execution_count": 15,
   "metadata": {},
   "outputs": [
    {
     "name": "stdout",
     "output_type": "stream",
     "text": [
      "Training...\n",
      "Starting agent cp-emb-b\n",
      "Epoch no.: 0/751\n",
      "Step 0: Stats(['Perf/Recent Reward', 'Losses/Policy LL', 'Losses/Value Fxn', 'Losses/Entropy']): ( [-1.0, -0.6095882, 6.590207, 0.22316734] )\n",
      "Saved Model\n",
      "Epoch no.: 50/751\n",
      "Step 50: Stats(['Perf/Recent Reward', 'Losses/Policy LL', 'Losses/Value Fxn', 'Losses/Entropy']): ( [18.0, -0.6526834, 31.939585, 0.676077] )\n",
      "Saved Model\n",
      "Epoch no.: 100/751\n",
      "Step 100: Stats(['Perf/Recent Reward', 'Losses/Policy LL', 'Losses/Value Fxn', 'Losses/Entropy']): ( [5.0, -0.590586, 12.718985, 0.6560504] )\n",
      "Saved Model\n",
      "Epoch no.: 150/751\n",
      "Step 150: Stats(['Perf/Recent Reward', 'Losses/Policy LL', 'Losses/Value Fxn', 'Losses/Entropy']): ( [1.0, -0.6952608, 14.878106, 0.68761784] )\n",
      "Saved Model\n",
      "Epoch no.: 200/751\n",
      "Step 200: Stats(['Perf/Recent Reward', 'Losses/Policy LL', 'Losses/Value Fxn', 'Losses/Entropy']): ( [37.0, -0.6386149, 30.100565, 0.6034334] )\n",
      "Saved Model\n",
      "Epoch no.: 250/751\n",
      "Step 250: Stats(['Perf/Recent Reward', 'Losses/Policy LL', 'Losses/Value Fxn', 'Losses/Entropy']): ( [189.0, -0.5865032, 20.679173, 0.5451132] )\n",
      "Saved Model\n",
      "Epoch no.: 300/751\n",
      "Step 300: Stats(['Perf/Recent Reward', 'Losses/Policy LL', 'Losses/Value Fxn', 'Losses/Entropy']): ( [189.0, -0.5347752, 20.537447, 0.52226484] )\n",
      "Saved Model\n",
      "Epoch no.: 350/751\n",
      "Step 350: Stats(['Perf/Recent Reward', 'Losses/Policy LL', 'Losses/Value Fxn', 'Losses/Entropy']): ( [189.0, -0.49098426, 18.88276, 0.5103842] )\n",
      "Saved Model\n",
      "Epoch no.: 400/751\n",
      "Step 400: Stats(['Perf/Recent Reward', 'Losses/Policy LL', 'Losses/Value Fxn', 'Losses/Entropy']): ( [189.0, -0.46226817, 18.577557, 0.5143561] )\n",
      "Saved Model\n",
      "Epoch no.: 450/751\n",
      "Step 450: Stats(['Perf/Recent Reward', 'Losses/Policy LL', 'Losses/Value Fxn', 'Losses/Entropy']): ( [189.0, -0.48771346, 18.57769, 0.4897544] )\n",
      "Saved Model\n",
      "Epoch no.: 500/751\n",
      "Step 500: Stats(['Perf/Recent Reward', 'Losses/Policy LL', 'Losses/Value Fxn', 'Losses/Entropy']): ( [189.0, -0.4292126, 18.57724, 0.48657763] )\n",
      "Saved Model\n",
      "Epoch no.: 550/751\n",
      "Step 550: Stats(['Perf/Recent Reward', 'Losses/Policy LL', 'Losses/Value Fxn', 'Losses/Entropy']): ( [189.0, -0.5603907, 18.577204, 0.48343986] )\n",
      "Saved Model\n",
      "Epoch no.: 600/751\n",
      "Step 600: Stats(['Perf/Recent Reward', 'Losses/Policy LL', 'Losses/Value Fxn', 'Losses/Entropy']): ( [189.0, -0.45894176, 18.578056, 0.45062897] )\n",
      "Saved Model\n",
      "Epoch no.: 650/751\n",
      "Step 650: Stats(['Perf/Recent Reward', 'Losses/Policy LL', 'Losses/Value Fxn', 'Losses/Entropy']): ( [189.0, -0.4299445, 18.798367, 0.45547217] )\n",
      "Saved Model\n",
      "Epoch no.: 700/751\n",
      "Step 700: Stats(['Perf/Recent Reward', 'Losses/Policy LL', 'Losses/Value Fxn', 'Losses/Entropy']): ( [189.0, -0.42695114, 18.712208, 0.40946472] )\n",
      "Saved Model\n",
      "Epoch no.: 750/751\n",
      "Step 750: Stats(['Perf/Recent Reward', 'Losses/Policy LL', 'Losses/Value Fxn', 'Losses/Entropy']): ( [189.0, -0.37388837, 18.673462, 0.39357117] )\n",
      "Saved Model\n"
     ]
    }
   ],
   "source": [
    "# Train pnet on cartpole episodes\n",
    "print('Training...')\n",
    "saver = tf.train.Saver(max_to_keep=1)\n",
    "cprf.work(sess, saver, num_epochs=n_epochs);"
   ]
  },
  {
   "cell_type": "markdown",
   "metadata": {},
   "source": [
    "## Test"
   ]
  },
  {
   "cell_type": "code",
   "execution_count": 16,
   "metadata": {},
   "outputs": [
    {
     "name": "stdout",
     "output_type": "stream",
     "text": [
      "Testing...\n",
      "Episode 80/100\n",
      "Cartpole stays up for an average of 186.25 steps compared to baseline 10.7 steps\n"
     ]
    }
   ],
   "source": [
    "# Test pnet!\n",
    "print('Testing...')\n",
    "uplen = []\n",
    "for k in range(num_episodes):\n",
    "    cprf.play(sess, terminal_reward=0.)\n",
    "    uplen.append(cprf.last_total_return) # uplen.append(len(cprf.episode_buffer))\n",
    "    if k%20 == 0: print(\"\\rEpisode {}/{}\".format(k, num_episodes),end=\"\")\n",
    "trained_perf = np.mean(uplen)\n",
    "print(\"\\nCartpole stays up for an average of {} steps compared to baseline {} steps\".format(trained_perf, base_perf) )"
   ]
  },
  {
   "cell_type": "markdown",
   "metadata": {},
   "source": [
    "## Evaluate"
   ]
  },
  {
   "cell_type": "code",
   "execution_count": 17,
   "metadata": {},
   "outputs": [
    {
     "data": {
      "text/plain": [
       "Text(0.5, 1.0, 'Trained Episode Lengths')"
      ]
     },
     "execution_count": 17,
     "metadata": {},
     "output_type": "execute_result"
    },
    {
     "data": {
      "image/png": "[encoded data removed]",
      "text/plain": [
       "<Figure size 1296x504 with 2 Axes>"
      ]
     },
     "metadata": {
      "needs_background": "light"
     },
     "output_type": "display_data"
    }
   ],
   "source": [
    "fig, axs = plt.subplots(2, 1, sharex=True)\n",
    "sns.boxplot(uplen0, ax = axs[0])\n",
    "axs[0].set_title('Baseline Episode Lengths')\n",
    "sns.boxplot(uplen, ax = axs[1])\n",
    "axs[1].set_title('Trained Episode Lengths')"
   ]
  },
  {
   "cell_type": "code",
   "execution_count": null,
   "metadata": {},
   "outputs": [],
   "source": []
  }
 ],
 "metadata": {
  "kernelspec": {
   "display_name": "Python 3",
   "language": "python",
   "name": "python3"
  },
  "language_info": {
   "codemirror_mode": {
    "name": "ipython",
    "version": 3
   },
   "file_extension": ".py",
   "mimetype": "text/x-python",
   "name": "python",
   "nbconvert_exporter": "python",
   "pygments_lexer": "ipython3",
   "version": "3.7.4"
  }
 },
 "nbformat": 4,
 "nbformat_minor": 4
}
