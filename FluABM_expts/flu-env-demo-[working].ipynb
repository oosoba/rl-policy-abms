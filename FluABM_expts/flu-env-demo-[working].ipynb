{
 "cells": [
  {
   "cell_type": "markdown",
   "metadata": {},
   "source": [
    "## Preamble: Libs + signal def"
   ]
  },
  {
   "cell_type": "code",
   "execution_count": 1,
   "metadata": {},
   "outputs": [
    {
     "name": "stdout",
     "output_type": "stream",
     "text": [
      "Tensorflow version: 1.15.0\n",
      "WARNING:tensorflow:\n",
      "The TensorFlow contrib module will not be included in TensorFlow 2.0.\n",
      "For more information, please see:\n",
      "  * https://github.com/tensorflow/community/blob/master/rfcs/20180907-contrib-sunset.md\n",
      "  * https://github.com/tensorflow/addons\n",
      "  * https://github.com/tensorflow/io (for I/O related ops)\n",
      "If you depend on functionality not listed there, please file an issue.\n",
      "\n"
     ]
    }
   ],
   "source": [
    "import itertools, importlib, sys, warnings, os\n",
    "import numpy as np\n",
    "import pandas as pd\n",
    "import matplotlib.pyplot as plt\n",
    "import seaborn as sns\n",
    "from collections import Counter\n",
    "\n",
    "# ML libs\n",
    "import tensorflow as tf\n",
    "print(\"Tensorflow version:\", tf.__version__)\n",
    "warnings.filterwarnings(\"ignore\")\n",
    "\n",
    "sys.path.append('./embodied_arch')\n",
    "\n",
    "import embodied as emg\n",
    "import embodied_indep as emi \n",
    "\n",
    "%matplotlib inline\n",
    "plt.rcParams['figure.figsize'] = (18,7)\n",
    "\n",
    "log_path = './log/flu'\n",
    "#tensorboard --logdir=flugame_worker_1:'./log/train_rf_flugame_worker'\n",
    "\n",
    "importlib.reload(emg)\n",
    "importlib.reload(emi)\n",
    "\n",
    "#sys.path.append('./flumodel_python')\n",
    "\n",
    "## suppress annoy verbose tf msgs\n",
    "warnings.filterwarnings(\"ignore\")\n",
    "os.environ['TF_CPP_MIN_LOG_LEVEL'] = '2' # '3' to block all including error msgs\n",
    "tf.compat.v1.logging.set_verbosity(tf.compat.v1.logging.ERROR)"
   ]
  },
  {
   "cell_type": "markdown",
   "metadata": {},
   "source": [
    "## Default Behavioral Model"
   ]
  },
  {
   "cell_type": "code",
   "execution_count": 2,
   "metadata": {},
   "outputs": [],
   "source": [
    "import flumodel_python.flu_env_basic as FABM"
   ]
  },
  {
   "cell_type": "code",
   "execution_count": 3,
   "metadata": {
    "collapsed": true,
    "jupyter": {
     "outputs_hidden": true
    }
   },
   "outputs": [
    {
     "data": {
      "text/plain": [
       "\u001b[0;31mInit signature:\u001b[0m \u001b[0mFABM\u001b[0m\u001b[0;34m.\u001b[0m\u001b[0mFlu_ABM\u001b[0m\u001b[0;34m(\u001b[0m\u001b[0mmodel_path\u001b[0m\u001b[0;34m=\u001b[0m\u001b[0;34m'./'\u001b[0m\u001b[0;34m,\u001b[0m \u001b[0moutput_file\u001b[0m\u001b[0;34m=\u001b[0m\u001b[0;32mNone\u001b[0m\u001b[0;34m)\u001b[0m\u001b[0;34m\u001b[0m\u001b[0;34m\u001b[0m\u001b[0m\n",
       "\u001b[0;31mDocstring:\u001b[0m     \n",
       "A class that re-creates the Flu ABM environment.\n",
       "Standard Behavioral Model only\n",
       "\n",
       "Constructor Parameters:...\n",
       "\u001b[0;31mFile:\u001b[0m           ~/Documents/RAND/Coding/multiagent-ABM/flumodel_python/flu_env_basic.py\n",
       "\u001b[0;31mType:\u001b[0m           type\n",
       "\u001b[0;31mSubclasses:\u001b[0m     \n"
      ]
     },
     "metadata": {},
     "output_type": "display_data"
    }
   ],
   "source": [
    "importlib.reload(FABM)\n",
    "\n",
    "# Verify class signature ##??FABM\n",
    "?FABM.Flu_ABM"
   ]
  },
  {
   "cell_type": "code",
   "execution_count": 4,
   "metadata": {
    "collapsed": true,
    "jupyter": {
     "outputs_hidden": true
    }
   },
   "outputs": [
    {
     "data": {
      "text/html": [
       "<div>\n",
       "<style scoped>\n",
       "    .dataframe tbody tr th:only-of-type {\n",
       "        vertical-align: middle;\n",
       "    }\n",
       "\n",
       "    .dataframe tbody tr th {\n",
       "        vertical-align: top;\n",
       "    }\n",
       "\n",
       "    .dataframe thead th {\n",
       "        text-align: right;\n",
       "    }\n",
       "</style>\n",
       "<table border=\"1\" class=\"dataframe\">\n",
       "  <thead>\n",
       "    <tr style=\"text-align: right;\">\n",
       "      <th></th>\n",
       "      <th>Person.ID</th>\n",
       "      <th>Household.ID</th>\n",
       "      <th>Age</th>\n",
       "      <th>Gender</th>\n",
       "      <th>Worker</th>\n",
       "      <th>net.degree</th>\n",
       "      <th>age.group</th>\n",
       "      <th>income</th>\n",
       "      <th>Head</th>\n",
       "      <th>Guardian.ID</th>\n",
       "      <th>...</th>\n",
       "      <th>immunized</th>\n",
       "      <th>susc</th>\n",
       "      <th>inf</th>\n",
       "      <th>symptomatic</th>\n",
       "      <th>severe</th>\n",
       "      <th>niILI</th>\n",
       "      <th>think.flu</th>\n",
       "      <th>antivirals</th>\n",
       "      <th>antivirals.help</th>\n",
       "      <th>BM</th>\n",
       "    </tr>\n",
       "  </thead>\n",
       "  <tbody>\n",
       "    <tr>\n",
       "      <th>0</th>\n",
       "      <td>2000261</td>\n",
       "      <td>2000076</td>\n",
       "      <td>57</td>\n",
       "      <td>F</td>\n",
       "      <td>0.0</td>\n",
       "      <td>7.0</td>\n",
       "      <td>7</td>\n",
       "      <td>13</td>\n",
       "      <td>True</td>\n",
       "      <td>nan</td>\n",
       "      <td>...</td>\n",
       "      <td>0</td>\n",
       "      <td>0</td>\n",
       "      <td>0</td>\n",
       "      <td>0</td>\n",
       "      <td>0</td>\n",
       "      <td>0</td>\n",
       "      <td>0</td>\n",
       "      <td>0</td>\n",
       "      <td>0</td>\n",
       "      <td>Default</td>\n",
       "    </tr>\n",
       "    <tr>\n",
       "      <th>1</th>\n",
       "      <td>2000262</td>\n",
       "      <td>2000076</td>\n",
       "      <td>23</td>\n",
       "      <td>M</td>\n",
       "      <td>1.0</td>\n",
       "      <td>39.0</td>\n",
       "      <td>3</td>\n",
       "      <td>13</td>\n",
       "      <td>False</td>\n",
       "      <td>nan</td>\n",
       "      <td>...</td>\n",
       "      <td>0</td>\n",
       "      <td>0</td>\n",
       "      <td>0</td>\n",
       "      <td>0</td>\n",
       "      <td>0</td>\n",
       "      <td>0</td>\n",
       "      <td>0</td>\n",
       "      <td>0</td>\n",
       "      <td>0</td>\n",
       "      <td>Default</td>\n",
       "    </tr>\n",
       "    <tr>\n",
       "      <th>2</th>\n",
       "      <td>2000263</td>\n",
       "      <td>2000076</td>\n",
       "      <td>32</td>\n",
       "      <td>M</td>\n",
       "      <td>1.0</td>\n",
       "      <td>32.0</td>\n",
       "      <td>4</td>\n",
       "      <td>13</td>\n",
       "      <td>False</td>\n",
       "      <td>nan</td>\n",
       "      <td>...</td>\n",
       "      <td>0</td>\n",
       "      <td>0</td>\n",
       "      <td>0</td>\n",
       "      <td>0</td>\n",
       "      <td>0</td>\n",
       "      <td>0</td>\n",
       "      <td>0</td>\n",
       "      <td>0</td>\n",
       "      <td>0</td>\n",
       "      <td>Default</td>\n",
       "    </tr>\n",
       "    <tr>\n",
       "      <th>3</th>\n",
       "      <td>2000264</td>\n",
       "      <td>2000076</td>\n",
       "      <td>26</td>\n",
       "      <td>F</td>\n",
       "      <td>1.0</td>\n",
       "      <td>70.0</td>\n",
       "      <td>4</td>\n",
       "      <td>13</td>\n",
       "      <td>False</td>\n",
       "      <td>nan</td>\n",
       "      <td>...</td>\n",
       "      <td>0</td>\n",
       "      <td>0</td>\n",
       "      <td>0</td>\n",
       "      <td>0</td>\n",
       "      <td>0</td>\n",
       "      <td>0</td>\n",
       "      <td>0</td>\n",
       "      <td>0</td>\n",
       "      <td>0</td>\n",
       "      <td>Default</td>\n",
       "    </tr>\n",
       "    <tr>\n",
       "      <th>4</th>\n",
       "      <td>2000260</td>\n",
       "      <td>2000076</td>\n",
       "      <td>58</td>\n",
       "      <td>M</td>\n",
       "      <td>1.0</td>\n",
       "      <td>33.0</td>\n",
       "      <td>7</td>\n",
       "      <td>13</td>\n",
       "      <td>False</td>\n",
       "      <td>nan</td>\n",
       "      <td>...</td>\n",
       "      <td>0</td>\n",
       "      <td>0</td>\n",
       "      <td>0</td>\n",
       "      <td>0</td>\n",
       "      <td>0</td>\n",
       "      <td>0</td>\n",
       "      <td>0</td>\n",
       "      <td>0</td>\n",
       "      <td>0</td>\n",
       "      <td>Default</td>\n",
       "    </tr>\n",
       "    <tr>\n",
       "      <th>5</th>\n",
       "      <td>2000413</td>\n",
       "      <td>2000122</td>\n",
       "      <td>36</td>\n",
       "      <td>F</td>\n",
       "      <td>0.0</td>\n",
       "      <td>4.0</td>\n",
       "      <td>5</td>\n",
       "      <td>11</td>\n",
       "      <td>True</td>\n",
       "      <td>nan</td>\n",
       "      <td>...</td>\n",
       "      <td>0</td>\n",
       "      <td>0</td>\n",
       "      <td>0</td>\n",
       "      <td>0</td>\n",
       "      <td>0</td>\n",
       "      <td>0</td>\n",
       "      <td>0</td>\n",
       "      <td>0</td>\n",
       "      <td>0</td>\n",
       "      <td>Default</td>\n",
       "    </tr>\n",
       "    <tr>\n",
       "      <th>6</th>\n",
       "      <td>2000414</td>\n",
       "      <td>2000122</td>\n",
       "      <td>6</td>\n",
       "      <td>F</td>\n",
       "      <td>0.0</td>\n",
       "      <td>6.0</td>\n",
       "      <td>2</td>\n",
       "      <td>11</td>\n",
       "      <td>False</td>\n",
       "      <td>2000413.0</td>\n",
       "      <td>...</td>\n",
       "      <td>0</td>\n",
       "      <td>0</td>\n",
       "      <td>0</td>\n",
       "      <td>0</td>\n",
       "      <td>0</td>\n",
       "      <td>0</td>\n",
       "      <td>0</td>\n",
       "      <td>0</td>\n",
       "      <td>0</td>\n",
       "      <td>Default</td>\n",
       "    </tr>\n",
       "    <tr>\n",
       "      <th>7</th>\n",
       "      <td>2000415</td>\n",
       "      <td>2000122</td>\n",
       "      <td>2</td>\n",
       "      <td>M</td>\n",
       "      <td>0.0</td>\n",
       "      <td>32.0</td>\n",
       "      <td>1</td>\n",
       "      <td>11</td>\n",
       "      <td>False</td>\n",
       "      <td>2000413.0</td>\n",
       "      <td>...</td>\n",
       "      <td>0</td>\n",
       "      <td>0</td>\n",
       "      <td>0</td>\n",
       "      <td>0</td>\n",
       "      <td>0</td>\n",
       "      <td>0</td>\n",
       "      <td>0</td>\n",
       "      <td>0</td>\n",
       "      <td>0</td>\n",
       "      <td>Default</td>\n",
       "    </tr>\n",
       "    <tr>\n",
       "      <th>8</th>\n",
       "      <td>2000416</td>\n",
       "      <td>2000122</td>\n",
       "      <td>0</td>\n",
       "      <td>M</td>\n",
       "      <td>0.0</td>\n",
       "      <td>28.0</td>\n",
       "      <td>1</td>\n",
       "      <td>11</td>\n",
       "      <td>False</td>\n",
       "      <td>2000413.0</td>\n",
       "      <td>...</td>\n",
       "      <td>0</td>\n",
       "      <td>0</td>\n",
       "      <td>0</td>\n",
       "      <td>0</td>\n",
       "      <td>0</td>\n",
       "      <td>0</td>\n",
       "      <td>0</td>\n",
       "      <td>0</td>\n",
       "      <td>0</td>\n",
       "      <td>Default</td>\n",
       "    </tr>\n",
       "    <tr>\n",
       "      <th>9</th>\n",
       "      <td>2000412</td>\n",
       "      <td>2000122</td>\n",
       "      <td>36</td>\n",
       "      <td>M</td>\n",
       "      <td>1.0</td>\n",
       "      <td>55.0</td>\n",
       "      <td>5</td>\n",
       "      <td>11</td>\n",
       "      <td>False</td>\n",
       "      <td>nan</td>\n",
       "      <td>...</td>\n",
       "      <td>0</td>\n",
       "      <td>0</td>\n",
       "      <td>0</td>\n",
       "      <td>0</td>\n",
       "      <td>0</td>\n",
       "      <td>0</td>\n",
       "      <td>0</td>\n",
       "      <td>0</td>\n",
       "      <td>0</td>\n",
       "      <td>Default</td>\n",
       "    </tr>\n",
       "  </tbody>\n",
       "</table>\n",
       "<p>10 rows × 32 columns</p>\n",
       "</div>"
      ],
      "text/plain": [
       "   Person.ID  Household.ID  Age Gender  Worker  net.degree  age.group  income  \\\n",
       "0    2000261       2000076   57      F     0.0         7.0          7      13   \n",
       "1    2000262       2000076   23      M     1.0        39.0          3      13   \n",
       "2    2000263       2000076   32      M     1.0        32.0          4      13   \n",
       "3    2000264       2000076   26      F     1.0        70.0          4      13   \n",
       "4    2000260       2000076   58      M     1.0        33.0          7      13   \n",
       "5    2000413       2000122   36      F     0.0         4.0          5      11   \n",
       "6    2000414       2000122    6      F     0.0         6.0          2      11   \n",
       "7    2000415       2000122    2      M     0.0        32.0          1      11   \n",
       "8    2000416       2000122    0      M     0.0        28.0          1      11   \n",
       "9    2000412       2000122   36      M     1.0        55.0          5      11   \n",
       "\n",
       "    Head Guardian.ID  ... immunized  susc inf  symptomatic  severe  niILI  \\\n",
       "0   True         nan  ...         0     0   0            0       0      0   \n",
       "1  False         nan  ...         0     0   0            0       0      0   \n",
       "2  False         nan  ...         0     0   0            0       0      0   \n",
       "3  False         nan  ...         0     0   0            0       0      0   \n",
       "4  False         nan  ...         0     0   0            0       0      0   \n",
       "5   True         nan  ...         0     0   0            0       0      0   \n",
       "6  False   2000413.0  ...         0     0   0            0       0      0   \n",
       "7  False   2000413.0  ...         0     0   0            0       0      0   \n",
       "8  False   2000413.0  ...         0     0   0            0       0      0   \n",
       "9  False         nan  ...         0     0   0            0       0      0   \n",
       "\n",
       "   think.flu  antivirals  antivirals.help       BM  \n",
       "0          0           0                0  Default  \n",
       "1          0           0                0  Default  \n",
       "2          0           0                0  Default  \n",
       "3          0           0                0  Default  \n",
       "4          0           0                0  Default  \n",
       "5          0           0                0  Default  \n",
       "6          0           0                0  Default  \n",
       "7          0           0                0  Default  \n",
       "8          0           0                0  Default  \n",
       "9          0           0                0  Default  \n",
       "\n",
       "[10 rows x 32 columns]"
      ]
     },
     "execution_count": 4,
     "metadata": {},
     "output_type": "execute_result"
    }
   ],
   "source": [
    "# cd flumodel_python/\n",
    "flu = FABM.Flu_ABM(model_path=\"./flumodel_python/\")\n",
    "flu.popn.head(10)"
   ]
  },
  {
   "cell_type": "code",
   "execution_count": 5,
   "metadata": {},
   "outputs": [],
   "source": [
    "infected=(flu.stepAll())"
   ]
  },
  {
   "cell_type": "markdown",
   "metadata": {},
   "source": [
    "### RL ABM Env"
   ]
  },
  {
   "cell_type": "code",
   "execution_count": 5,
   "metadata": {},
   "outputs": [],
   "source": [
    "import flumodel_python.flu_env as Fenv"
   ]
  },
  {
   "cell_type": "code",
   "execution_count": 7,
   "metadata": {
    "collapsed": true,
    "jupyter": {
     "outputs_hidden": true,
     "source_hidden": true
    }
   },
   "outputs": [
    {
     "data": {
      "text/plain": [
       "\u001b[0;31mInit signature:\u001b[0m \u001b[0mFenv\u001b[0m\u001b[0;34m.\u001b[0m\u001b[0mFlu_env\u001b[0m\u001b[0;34m(\u001b[0m\u001b[0mexo_idx\u001b[0m\u001b[0;34m=\u001b[0m\u001b[0;36m0\u001b[0m\u001b[0;34m,\u001b[0m \u001b[0mmodel_path\u001b[0m\u001b[0;34m=\u001b[0m\u001b[0;34m'./'\u001b[0m\u001b[0;34m)\u001b[0m\u001b[0;34m\u001b[0m\u001b[0;34m\u001b[0m\u001b[0m\n",
       "\u001b[0;31mDocstring:\u001b[0m     \n",
       "A class that re-creates the multi-agent Flu ABM environment.\n",
       "Handles the following cases:\n",
       "    - (N-1) non-RL agents interacting with 1 RL agent (the N^{th});\n",
       "    - (N-k) non-RL agents interacting with k RL agent (the N^{th}).\n",
       "Uses Pandas referencing to make sure the selection works for single and multiple agents\n",
       "\n",
       "Constructor Parameters:\n",
       "    exo_idx: reference index for agent in population that will take RL decision-module.\n",
       "        - scalar or index list (all values must be within popn index range)\n",
       "    model_path: dir location of req'd ABM parameterization files.\n",
       "\n",
       "Considerations:\n",
       "    self.state: the ABM's DF uses boolean state variables.\n",
       "        Recasting as floats for RL state-inputs...\n",
       "\u001b[0;31mInit docstring:\u001b[0m\n",
       "RL Flu ABM environment specification.\n",
       ":param exo_idx: List of indices of RL-agents in the population\n",
       ":param model_path: folder spec for location of ABM files.\n",
       "\u001b[0;31mFile:\u001b[0m           ~/Documents/RAND/Coding/multiagent-ABM/flumodel_python/flu_env.py\n",
       "\u001b[0;31mType:\u001b[0m           type\n",
       "\u001b[0;31mSubclasses:\u001b[0m     \n"
      ]
     },
     "metadata": {},
     "output_type": "display_data"
    }
   ],
   "source": [
    "importlib.reload(Fenv)\n",
    "\n",
    "?Fenv.Flu_env"
   ]
  },
  {
   "cell_type": "markdown",
   "metadata": {},
   "source": [
    "## Single Agent Setup"
   ]
  },
  {
   "cell_type": "code",
   "execution_count": null,
   "metadata": {
    "jupyter": {
     "source_hidden": true
    }
   },
   "outputs": [],
   "source": [
    "importlib.reload(emg)"
   ]
  },
  {
   "cell_type": "code",
   "execution_count": null,
   "metadata": {
    "jupyter": {
     "source_hidden": true
    }
   },
   "outputs": [],
   "source": [
    "tf.reset_default_graph()\n",
    "flu_env = Fenv.Flu_env(exo_idx=1,\n",
    "                          model_path=\"./flumodel_python/\")\n",
    "\n",
    "# flu_env.popn.columns"
   ]
  },
  {
   "cell_type": "code",
   "execution_count": null,
   "metadata": {
    "jupyter": {
     "source_hidden": true
    }
   },
   "outputs": [],
   "source": [
    "flu_env.rl_idx"
   ]
  },
  {
   "cell_type": "code",
   "execution_count": null,
   "metadata": {
    "jupyter": {
     "source_hidden": true
    }
   },
   "outputs": [],
   "source": [
    "flu_env.popn[Fenv._state_lbls_].iloc[flu_env.rl_idx]"
   ]
  },
  {
   "cell_type": "code",
   "execution_count": null,
   "metadata": {
    "jupyter": {
     "source_hidden": true
    }
   },
   "outputs": [],
   "source": [
    "print(Fenv._state_lbls_)\n",
    "flu_env.popn[Fenv._state_lbls_].iloc[[1,2,3,4]].values"
   ]
  },
  {
   "cell_type": "code",
   "execution_count": null,
   "metadata": {
    "jupyter": {
     "source_hidden": true
    }
   },
   "outputs": [],
   "source": [
    "num_episodes, n_epochs, max_len = (5, 4, 5)\n",
    "\n",
    "flurf = emg.EmbodiedAgentRF(\n",
    "    name=\"fluRF\",\n",
    "    env_=flu_env,\n",
    "    alpha=1.,\n",
    "    max_episode_length=max_len\n",
    ")\n",
    "\n",
    "# flurf = emg.EmbodiedAgentAC(\n",
    "#     name=\"fluAC\",\n",
    "#     env_=flu_env,\n",
    "#     max_episode_length=max_len, latentDim=4, \n",
    "#     alpha_p=1., alpha_v=1e-2, \n",
    "#     actorNN=actor, sensorium=sensor, valueNN=value\n",
    "# )\n",
    "\n",
    "print(flurf, flurf.s_size, flurf.a_size)"
   ]
  },
  {
   "cell_type": "code",
   "execution_count": null,
   "metadata": {
    "jupyter": {
     "source_hidden": true
    }
   },
   "outputs": [],
   "source": [
    "print(flu_env.state_space_size, flu_env.action_space_size)"
   ]
  },
  {
   "cell_type": "code",
   "execution_count": null,
   "metadata": {
    "jupyter": {
     "source_hidden": true
    }
   },
   "outputs": [],
   "source": [
    "sess = tf.InteractiveSession()\n",
    "flurf.init_graph(sess) # note tboard log dir"
   ]
  },
  {
   "cell_type": "code",
   "execution_count": null,
   "metadata": {
    "jupyter": {
     "source_hidden": true
    }
   },
   "outputs": [],
   "source": [
    "## Verify step + play set up\n",
    "state = flurf.env.reset()"
   ]
  },
  {
   "cell_type": "code",
   "execution_count": null,
   "metadata": {
    "jupyter": {
     "source_hidden": true
    }
   },
   "outputs": [],
   "source": [
    "print(state, flurf.act(state, sess))"
   ]
  },
  {
   "cell_type": "code",
   "execution_count": null,
   "metadata": {
    "jupyter": {
     "source_hidden": true
    }
   },
   "outputs": [],
   "source": [
    "flurf.env.step(flurf.act(state, sess))"
   ]
  },
  {
   "cell_type": "code",
   "execution_count": null,
   "metadata": {
    "jupyter": {
     "source_hidden": true
    }
   },
   "outputs": [],
   "source": [
    "flu_env.popn[Fenv._state_lbls_].iloc[flu_env.rl_idx]"
   ]
  },
  {
   "cell_type": "code",
   "execution_count": null,
   "metadata": {
    "jupyter": {
     "source_hidden": true
    }
   },
   "outputs": [],
   "source": [
    "flurf.play(sess)"
   ]
  },
  {
   "cell_type": "code",
   "execution_count": null,
   "metadata": {
    "jupyter": {
     "source_hidden": true
    }
   },
   "outputs": [],
   "source": [
    "print(flurf.last_total_return)"
   ]
  },
  {
   "cell_type": "code",
   "execution_count": null,
   "metadata": {
    "jupyter": {
     "source_hidden": true
    }
   },
   "outputs": [],
   "source": [
    "flu_env.popn[Fenv._state_lbls_].iloc[flu_env.rl_idx]"
   ]
  },
  {
   "cell_type": "code",
   "execution_count": null,
   "metadata": {
    "jupyter": {
     "source_hidden": true
    }
   },
   "outputs": [],
   "source": [
    "hist1 = flurf.work(sess, num_epochs=n_epochs, saver=saver)"
   ]
  },
  {
   "cell_type": "code",
   "execution_count": null,
   "metadata": {
    "jupyter": {
     "source_hidden": true
    }
   },
   "outputs": [],
   "source": [
    "hist1"
   ]
  },
  {
   "cell_type": "markdown",
   "metadata": {},
   "source": [
    "## Multiple Agent Setup"
   ]
  },
  {
   "cell_type": "code",
   "execution_count": 6,
   "metadata": {},
   "outputs": [],
   "source": [
    "import embodied_indep as emi \n",
    "from embodied_misc import ActionPolicyNetwork, SensoriumNetworkTemplate, ValueNetwork"
   ]
  },
  {
   "cell_type": "code",
   "execution_count": 7,
   "metadata": {},
   "outputs": [
    {
     "data": {
      "text/plain": [
       "<module 'embodied_indep' from './embodied_arch/embodied_indep.py'>"
      ]
     },
     "execution_count": 7,
     "metadata": {},
     "output_type": "execute_result"
    }
   ],
   "source": [
    "# importlib.reload(Fenv)\n",
    "importlib.reload(emi)"
   ]
  },
  {
   "cell_type": "markdown",
   "metadata": {},
   "source": [
    "### MARL Env Setup"
   ]
  },
  {
   "cell_type": "code",
   "execution_count": 8,
   "metadata": {},
   "outputs": [],
   "source": [
    "exos = [1,2,3,10]  # (np.random.sample(9223) < 0.3)\n",
    "# exos = 3707\n",
    "\n",
    "importlib.reload(Fenv);\n",
    "# importlib.reload(emg);\n",
    "importlib.reload(emi);"
   ]
  },
  {
   "cell_type": "code",
   "execution_count": 9,
   "metadata": {},
   "outputs": [],
   "source": [
    "tf.reset_default_graph()\n",
    "flu_menv = Fenv.Flu_env(\n",
    "    exo_idx=exos,\n",
    "    model_path=\"./flumodel_python/\"\n",
    ")"
   ]
  },
  {
   "cell_type": "code",
   "execution_count": 10,
   "metadata": {},
   "outputs": [
    {
     "name": "stdout",
     "output_type": "stream",
     "text": [
      "4\n",
      "8 1\n"
     ]
    }
   ],
   "source": [
    "print(flu_menv.actor_count)\n",
    "print(flu_menv.state_space_size, flu_menv.action_space_size)"
   ]
  },
  {
   "cell_type": "code",
   "execution_count": 11,
   "metadata": {},
   "outputs": [
    {
     "data": {
      "text/plain": [
       "\u001b[0;31mSignature:\u001b[0m \u001b[0mflu\u001b[0m\u001b[0;34m.\u001b[0m\u001b[0mstepAll\u001b[0m\u001b[0;34m(\u001b[0m\u001b[0;34m)\u001b[0m\u001b[0;34m\u001b[0m\u001b[0;34m\u001b[0m\u001b[0m\n",
       "\u001b[0;31mDocstring:\u001b[0m\n",
       "Steps the game 1 step forward in time for all players using default behavioral model.\n",
       "Returns:\n",
       "    r_t: infection outcomes\n",
       "\u001b[0;31mFile:\u001b[0m      ~/Documents/RAND/Coding/multiagent-ABM/flumodel_python/flu_env_basic.py\n",
       "\u001b[0;31mType:\u001b[0m      method\n"
      ]
     },
     "metadata": {},
     "output_type": "display_data"
    }
   ],
   "source": [
    "?flu.stepAll"
   ]
  },
  {
   "cell_type": "code",
   "execution_count": 26,
   "metadata": {},
   "outputs": [
    {
     "name": "stdout",
     "output_type": "stream",
     "text": [
      "9223 306.0\n"
     ]
    },
    {
     "data": {
      "text/plain": [
       "array([1., 0., 0., 0.])"
      ]
     },
     "execution_count": 26,
     "metadata": {},
     "output_type": "execute_result"
    }
   ],
   "source": [
    "infected=np.array(flu.stepAll(), dtype=float)\n",
    "print(len(infected), sum(infected))\n",
    "infected[exos]"
   ]
  },
  {
   "cell_type": "code",
   "execution_count": 27,
   "metadata": {},
   "outputs": [],
   "source": [
    "num_episodes, max_len, n_epochs, evry = (100, 35, 1501, 300)"
   ]
  },
  {
   "cell_type": "code",
   "execution_count": 28,
   "metadata": {},
   "outputs": [],
   "source": [
    "for _ in range(150):\n",
    "    infxd=np.array(flu.stepAll(), dtype=float)\n",
    "\n",
    "infxd = []\n",
    "for k in range(num_episodes):\n",
    "    infxd.append(np.array(flu.stepAll(), dtype=float))\n",
    "\n",
    "infected = np.array(infxd)\n",
    "print(infected.shape, np.mean(infected, axis=0))"
   ]
  },
  {
   "cell_type": "code",
   "execution_count": 32,
   "metadata": {},
   "outputs": [
    {
     "data": {
      "text/plain": [
       "100"
      ]
     },
     "execution_count": 32,
     "metadata": {},
     "output_type": "execute_result"
    }
   ],
   "source": [
    "len(np.mean(infected, axis=1))"
   ]
  },
  {
   "cell_type": "code",
   "execution_count": 30,
   "metadata": {},
   "outputs": [
    {
     "data": {
      "text/plain": [
       "(array([4.390e+03, 2.349e+03, 1.259e+03, 6.470e+02, 2.750e+02, 1.530e+02,\n",
       "        1.000e+02, 3.100e+01, 1.600e+01, 3.000e+00]),\n",
       " array([0.   , 0.041, 0.082, 0.123, 0.164, 0.205, 0.246, 0.287, 0.328,\n",
       "        0.369, 0.41 ]),\n",
       " <a list of 10 Patch objects>)"
      ]
     },
     "execution_count": 30,
     "metadata": {},
     "output_type": "execute_result"
    },
    {
     "data": {
      "image/png": "[encoded data removed]",
      "text/plain": [
       "<Figure size 432x288 with 1 Axes>"
      ]
     },
     "metadata": {
      "needs_background": "light"
     },
     "output_type": "display_data"
    }
   ],
   "source": [
    "plt.hist(np.mean(infected, axis=0))"
   ]
  },
  {
   "cell_type": "code",
   "execution_count": 35,
   "metadata": {},
   "outputs": [
    {
     "data": {
      "text/plain": [
       "[1, 2, 3, 10]"
      ]
     },
     "execution_count": 35,
     "metadata": {},
     "output_type": "execute_result"
    }
   ],
   "source": [
    "exos"
   ]
  },
  {
   "cell_type": "code",
   "execution_count": 41,
   "metadata": {},
   "outputs": [
    {
     "data": {
      "text/plain": [
       "array([0.10094329, 0.05887455, 0.12132712, 0.02786512])"
      ]
     },
     "execution_count": 41,
     "metadata": {},
     "output_type": "execute_result"
    }
   ],
   "source": [
    "np.mean(infected[exos], axis=1)"
   ]
  },
  {
   "cell_type": "code",
   "execution_count": 43,
   "metadata": {},
   "outputs": [
    {
     "data": {
      "text/plain": [
       "(100, 4)"
      ]
     },
     "execution_count": 43,
     "metadata": {},
     "output_type": "execute_result"
    }
   ],
   "source": [
    "infected[:,exos].shape"
   ]
  },
  {
   "cell_type": "markdown",
   "metadata": {},
   "source": [
    "### MARL Learner Demo"
   ]
  },
  {
   "cell_type": "code",
   "execution_count": 13,
   "metadata": {},
   "outputs": [],
   "source": [
    "actor = lambda s: ActionPolicyNetwork(s, hSeq=(8,), gamma_reg=1e-1)\n",
    "value = lambda s: ValueNetwork(s, hSeq=(8,), gamma_reg=1.)\n",
    "sensor = lambda st, out_dim: SensoriumNetworkTemplate(st, hSeq=(16,8,8), out_dim=out_dim, gamma_reg=5.)\n",
    "\n",
    "# num_episodes, n_epochs, max_len = (100, 1501, 15)\n",
    "# num_episodes, n_epochs, max_len = (10, 400, 25)\n",
    "num_episodes, n_epochs, max_len = (5, 4, 5)"
   ]
  },
  {
   "cell_type": "code",
   "execution_count": 14,
   "metadata": {},
   "outputs": [
    {
     "data": {
      "text/plain": [
       "(1, 1)"
      ]
     },
     "execution_count": 14,
     "metadata": {},
     "output_type": "execute_result"
    }
   ],
   "source": [
    "flumrf = emi.EmbodiedAgent_IRFB(name=\"flu_mRFB\",\n",
    "                                env_=flu_menv,\n",
    "                                alpha_p=5.0e2, alpha_v=50.,\n",
    "                                max_episode_length=max_len,\n",
    "                                latentDim=8, _every_=300,\n",
    "                                actorNN=actor, valueNN=value, sensorium=sensor\n",
    "                               )\n",
    "\n",
    "print(flumrf.actor_names)\n",
    "(flumrf.a_size, flumrf.env.action_space_size)"
   ]
  },
  {
   "cell_type": "code",
   "execution_count": 17,
   "metadata": {},
   "outputs": [
    {
     "name": "stdout",
     "output_type": "stream",
     "text": [
      "Tensorboard logs in:  ./log/train_flu_mRFB\n"
     ]
    }
   ],
   "source": [
    "sess = tf.InteractiveSession()\n",
    "flumrf.init_graph(sess) # note tboard log dir\n",
    "saver = tf.train.Saver(max_to_keep=1) "
   ]
  },
  {
   "cell_type": "code",
   "execution_count": 18,
   "metadata": {},
   "outputs": [
    {
     "name": "stdout",
     "output_type": "stream",
     "text": [
      "Starting agent flu_mRFB\n",
      "Epoch no.: 0/4\n",
      "\n",
      "\tStats @Step 0: \t(Min, Mean, Max)\n",
      "Perf/Recent Rewards: (4.0, 4.5, 5.0)\n",
      "Losses/Policy LLs: (-1.9893926, -0.5490697, -0.14472237)\n",
      "Losses/Critic Scores: (-0.16429698, 0.8118602, 1.9892905)\n",
      "Losses/Policy Entropies: (0.3952943, 0.53391814, 0.6503774)\n",
      "Saved Model\n",
      "Epoch no.: 3/4"
     ]
    }
   ],
   "source": [
    "hist = flumrf.work(sess, num_epochs=n_epochs, saver=saver)"
   ]
  },
  {
   "cell_type": "code",
   "execution_count": 19,
   "metadata": {},
   "outputs": [
    {
     "data": {
      "text/plain": [
       "array([[4.  , 4.5 , 5.  ],\n",
       "       [3.  , 4.  , 5.  ],\n",
       "       [4.  , 4.75, 5.  ],\n",
       "       [4.  , 4.75, 5.  ]])"
      ]
     },
     "execution_count": 19,
     "metadata": {},
     "output_type": "execute_result"
    }
   ],
   "source": [
    "hist"
   ]
  },
  {
   "cell_type": "code",
   "execution_count": null,
   "metadata": {},
   "outputs": [],
   "source": []
  }
 ],
 "metadata": {
  "kernelspec": {
   "display_name": "Python 3",
   "language": "python",
   "name": "python3"
  },
  "language_info": {
   "codemirror_mode": {
    "name": "ipython",
    "version": 3
   },
   "file_extension": ".py",
   "mimetype": "text/x-python",
   "name": "python",
   "nbconvert_exporter": "python",
   "pygments_lexer": "ipython3",
   "version": "3.7.4"
  }
 },
 "nbformat": 4,
 "nbformat_minor": 4
}
